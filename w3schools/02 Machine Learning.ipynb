{
 "cells": [
  {
   "cell_type": "markdown",
   "metadata": {},
   "source": [
    "## Machine Learning\n",
    "\n",
    "Machine Learning is making the computer learn from studying data and statistics(統計學).\n",
    "\n",
    "Machine Learning is a step into the direction(方向) of artificial intelligence(AI).\n",
    "\n",
    "Machine Learning is a program that analyses data and learns to predict(預測) the outcome.\n",
    "\n",
    "===============================================\n",
    "\n",
    "機器學習是邁向人工智能（AI）方向的第一步。\n",
    "\n",
    "機器學習是一個分析數據並學習預測結果的程序。"
   ]
  },
  {
   "cell_type": "markdown",
   "metadata": {},
   "source": [
    "<b>Data Set（數據集）</b>"
   ]
  },
  {
   "cell_type": "code",
   "execution_count": null,
   "metadata": {},
   "outputs": [],
   "source": [
    "# In the mind of a computer, a data set is any collection of data.\n",
    "# It can be anything from an array to a complete database.\n",
    "\n",
    "# Example of an array\n",
    "[99,86,87,88,111,86,103,87,94,78,77,85,86]\n",
    "\n",
    "# Example of a database"
   ]
  },
  {
   "cell_type": "markdown",
   "metadata": {},
   "source": [
    "<b>Data Types</b>\n",
    "\n",
    "To analyze data, it is important to know what type of data we are dealing with.\n",
    "\n",
    "==============================================================\n",
    "\n",
    "We can split the data types into three main categories（类别）:\n",
    "\n",
    "<b>Numerical（數字）</b>\n",
    "\n",
    "<b>Categorical（分類）</b>\n",
    "\n",
    "<b>Ordinal（敘述）</b>\n",
    "\n",
    "==============================================================\n",
    "\n"
   ]
  },
  {
   "cell_type": "markdown",
   "metadata": {},
   "source": [
    "### Numerial\n",
    "\n",
    "Are the numbers, and can be split into two numerical categories:\n",
    "\n",
    "<b>Discrete Data（離散數據）</b>\n",
    "\n",
    "- numbers that are limited to integers. Example: The number of cars passing by.\n",
    "\n",
    "- 僅限於整數的數字。例如：經過的汽車數量\n",
    "\n",
    "<b>Contiunous Data（連續數據）</b>\n",
    "\n",
    "- numbers that are of infinite value. Example: The price of an item, or the size of an item.\n",
    "\n",
    "- 具有無限值的數字。例如：物品的價格和物品的大小\n",
    "\n",
    "---------------------------------------------------------------"
   ]
  },
  {
   "cell_type": "markdown",
   "metadata": {},
   "source": [
    "### Categorical\n",
    "\n",
    "Are values that cannot be measured up against each other. Example: a color value, or any yes/no values.\n",
    "\n",
    "分類數據是不能相互衡量的值。例如：顏色，或是任何是/非值。\n",
    "\n",
    "---------------------------------------------------------------"
   ]
  },
  {
   "cell_type": "markdown",
   "metadata": {},
   "source": [
    "### Ordinal\n",
    "\n",
    "Are like categorical data, but can be measured up against each other. Example: school grades where A is better than B and so on.\n",
    "\n",
    "序數數據類似於分類數據，但可以相互衡量。例如：A 優於 B 學校的成績。\n",
    "\n",
    "---------------------------------------------------------------"
   ]
  },
  {
   "cell_type": "markdown",
   "metadata": {},
   "source": [
    "## Median Mode(中值數)\n",
    "\n",
    "### Mean, median, and Mode\n",
    "\n",
    "In Machine Learning (and in mathematics) there are often three values that interests us:\n",
    "\n",
    "- Mean - The average value\n",
    "- Median - The mid point value\n",
    "- Mode - The most common value\n",
    "\n",
    "====================================================================\n",
    "\n",
    "- 平均值 - 平均值\n",
    "- 中位數 - 中點值\n",
    "- 众数 - 最常见的值"
   ]
  },
  {
   "cell_type": "code",
   "execution_count": 1,
   "metadata": {},
   "outputs": [],
   "source": [
    "# Example: We have registered the speed of 13 cars:\n",
    "speed = [99,86,87,88,111,86,103,87,94,78,77,85,86]\n",
    "\n",
    "# Q: What is the average, the middle, or the most common speed value?"
   ]
  },
  {
   "cell_type": "markdown",
   "metadata": {},
   "source": [
    "### Mean\n",
    "\n",
    "The mean values is the average value.\n",
    "\n",
    "To calculate the maen, find the sum of all values, and divide the sum by the number of values:\n",
    "\n",
    "(99+86+87+88+111+86+103+87+94+78+77+85+86) / 13 = 89.77\n",
    "\n",
    "=======================================================================\n",
    "\n",
    "The NumPy module has method for this."
   ]
  },
  {
   "cell_type": "code",
   "execution_count": 2,
   "metadata": {},
   "outputs": [
    {
     "name": "stdout",
     "output_type": "stream",
     "text": [
      "89.76923076923077\n"
     ]
    }
   ],
   "source": [
    "import numpy\n",
    "\n",
    "speed = [99,86,87,88,111,86,103,87,94,78,77,85,86]\n",
    "\n",
    "x = numpy.mean(speed)\n",
    "print(x)"
   ]
  },
  {
   "cell_type": "markdown",
   "metadata": {},
   "source": [
    "### Median\n",
    "\n",
    "The median value is the value in the mddle, after you have sorted all the values:\n",
    "\n",
    "77, 78, 85, 86, 86, 86, <b><u>87</u></b>, 87, 88, 94, 99, 103, 111\n",
    "\n",
    "===================================================================\n",
    "\n",
    "It is important that the numbers are sorted before you can find the median.\n",
    "\n",
    "在找到中位数之前，对数字进行排序很重要。"
   ]
  },
  {
   "cell_type": "code",
   "execution_count": 3,
   "metadata": {},
   "outputs": [
    {
     "name": "stdout",
     "output_type": "stream",
     "text": [
      "87.0\n"
     ]
    }
   ],
   "source": [
    "import numpy\n",
    "\n",
    "speed = [99,86,87,88,111,86,103,87,94,78,77,85,86]\n",
    "\n",
    "x = numpy.median(speed)\n",
    "print(x)"
   ]
  },
  {
   "cell_type": "markdown",
   "metadata": {},
   "source": [
    "If there are two numbers in the middle,divede the sum of those numbers by two.\n",
    "\n",
    "如果中间有两个数字，则将这些数字致和除以2。\n",
    "\n",
    "======================================================================\n",
    "\n",
    "77, 78, 85, 86, 86, <b><u>86, 87</u></b>, 87, 94, 98, 99, 103\n",
    "\n",
    "(86 + 87) / 2 = <b><u>86.5</u></b>\n"
   ]
  },
  {
   "cell_type": "code",
   "execution_count": 4,
   "metadata": {},
   "outputs": [
    {
     "name": "stdout",
     "output_type": "stream",
     "text": [
      "86.5\n"
     ]
    }
   ],
   "source": [
    "\n",
    "import numpy\n",
    "\n",
    "speed = [99,86,87,88,86,103,87,94,78,77,85,86]\n",
    "\n",
    "x = numpy.median(speed)\n",
    "print(x)"
   ]
  },
  {
   "cell_type": "markdown",
   "metadata": {},
   "source": [
    "### Mode\n",
    "\n",
    "The Mode value is the value that appears the most number of times:\n",
    "\n",
    "99, <b><u>86</u></b>, 87, 88, 111, <b><u>86</u></b>, 103, 87, 94, 78, 77, 85, <b><u>86</u></b> = 86"
   ]
  },
  {
   "cell_type": "code",
   "execution_count": 1,
   "metadata": {},
   "outputs": [
    {
     "name": "stdout",
     "output_type": "stream",
     "text": [
      "ModeResult(mode=array([86]), count=array([3]))\n"
     ]
    }
   ],
   "source": [
    "# The SciPy module has a method for this.\n",
    "# 使用 SciPy mode() 方法查找出现次数最多的数字\n",
    "from scipy import stats\n",
    "\n",
    "speed = [99,86,87,88,111,86,103,87,94,78,77,85,86]\n",
    "\n",
    "x = stats.mode(speed)\n",
    "print(x)"
   ]
  },
  {
   "cell_type": "markdown",
   "metadata": {},
   "source": [
    "### Chapter Summary\n",
    "\n",
    "The Mean, Median, and Mode are techniques that are foten used in Machine Learning, so it si important to understand the concept behind them.\n",
    "\n",
    "平均值、中位数和众数是极其学习中经常使用的技术，因此了解它们背后的概念很重要。"
   ]
  },
  {
   "cell_type": "markdown",
   "metadata": {},
   "source": [
    "## Machine Learning - Standard Deviation(标准差)\n",
    "\n",
    "Standard deviation is a number that describes how spread out teh values are.\n",
    "\n",
    "A low standar deviation means that most of the numbers are close to the mean(average) value.\n",
    "\n",
    "A high standard deviation maens that the values are spread out over a wider range.\n",
    "\n",
    "=====================================================================\n",
    "\n",
    "标准差是一个数字，描述值的分散程度。\n",
    "\n",
    "低标准差意味着大多数数字接近均值（平均值）。\n",
    "\n",
    "高标准差表示这些值分布在更宽的范围内。"
   ]
  },
  {
   "cell_type": "markdown",
   "metadata": {},
   "source": [
    "<b>举例：</b>\n",
    "\n",
    "speed = [86, 87, 88, 86, 85, 86]\n",
    " - The standard deviation is: <b><u>0.9</u></b>\n",
    "\n",
    "Meaning that most of the values are within the range（范围内） of 0.9 from the mean value（平均值）, which is 86.4.\n",
    "\n",
    "Do the same with a selection of numbers with a wider range:\n",
    "\n",
    "speed = [32,111,138,28,59,77,97]\n",
    "  - The standard deviation is： <b><u>37.85</u></b>\n",
    "\n",
    "Meaning that most of the values are within the range of 37.85 from the mean value， which is 77.4.\n",
    "\n",
    "=====================================================================\n",
    "\n",
    "As you can see, a higher standard deviaiton indicates that the values are spread out over a wider range.\n",
    "\n",
    "如你所见，较高的标准差表示表示这些值分布在较宽的范围内。\n",
    "\n",
    "========================================================================\n",
    "\n"
   ]
  },
  {
   "cell_type": "code",
   "execution_count": 2,
   "metadata": {},
   "outputs": [
    {
     "name": "stdout",
     "output_type": "stream",
     "text": [
      "0.9035079029052513\n"
     ]
    }
   ],
   "source": [
    "# Use the NumPy std() method to find the standard deviation:\n",
    "\n",
    "import numpy\n",
    "\n",
    "speed = [86,87,88,86,87,85,86]\n",
    "\n",
    "x = numpy.std(speed)\n",
    "print(x)"
   ]
  },
  {
   "cell_type": "code",
   "execution_count": 3,
   "metadata": {},
   "outputs": [
    {
     "name": "stdout",
     "output_type": "stream",
     "text": [
      "37.84501153334721\n"
     ]
    }
   ],
   "source": [
    "import numpy\n",
    "\n",
    "speed = [32,111,138,28,59,77,97]\n",
    "\n",
    "x = numpy.std(speed)\n",
    "print(x)"
   ]
  },
  {
   "cell_type": "markdown",
   "metadata": {},
   "source": [
    "### Variance（方差）\n",
    "\n",
    "Varicance is another number that indicates（取决） how spread（分散） out the values are.\n",
    "\n",
    "In fact,if you take the square root（平方根） of the variance, you get the standard deviation（标准偏差）.\n",
    "\n",
    "Or the other way around, if you multply the standard deviaiton by itself, you get teh variance!\n",
    "\n",
    "方差是另一个数字，指示值的分散程度。\n",
    "\n",
    "实际上，如果采用方差的平方根，则会得到标准偏差。\n",
    "\n",
    "或反之，如果将标准偏差乘以自身，就可以得到方差。\n",
    "\n",
    "========================================================================\n",
    "\n",
    "1. Find the mean:\n",
    "- 找到平均值\n",
    "\n",
    "(32+111+138+28+59+77+97) / 7 = 77.4\n",
    "\n",
    "2. For each value: find the difference from the mean:\n",
    "- 对于每个值，找到与平均值的差\n",
    "\n",
    "32 - 77.4 = -45.4\n",
    "\n",
    "111 - 77.4 =  33.6\n",
    "\n",
    "138 - 77.4 =  60.6\n",
    "\n",
    "28 - 77.4 = -49.4\n",
    "\n",
    "59 - 77.4 = -18.4\n",
    "\n",
    "77 - 77.4 = - 0.4\n",
    "\n",
    "97 - 77.4 =  19.6\n",
    "\n",
    "3. For each difference: find the square value:\n",
    "- 对于每个差异：找到平方值\n",
    "\n",
    "(-45.4)2 = 2061.16\n",
    "(33.6)2 = 1128.96\n",
    "(60.6)2 = 3672.36\n",
    "(-49.4)2 = 2440.36\n",
    "(-18.4)2 =  338.56\n",
    "(- 0.4)2 =    0.16\n",
    "(19.6)2 =  384.16\n",
    "\n",
    "4. The variance is the average number of these squared difference:\n",
    "- 方差是这些平方差的平均值\n",
    "\n",
    "(2061.16+1128.96+3672.36+2440.36+338.56+0.16+384.16) / 7 = 1432.2"
   ]
  },
  {
   "cell_type": "code",
   "execution_count": 4,
   "metadata": {},
   "outputs": [
    {
     "name": "stdout",
     "output_type": "stream",
     "text": [
      "1432.2448979591834\n"
     ]
    }
   ],
   "source": [
    "# LUckily, NumPy has a method to calculate the variance:\n",
    "\n",
    "import numpy\n",
    "\n",
    "speed = [32,111,138,28,59,77,97]\n",
    "\n",
    "x = numpy.var(speed)\n",
    "print(x)"
   ]
  },
  {
   "cell_type": "markdown",
   "metadata": {},
   "source": [
    "### Standard Deviation(标准偏差)\n",
    "\n",
    "The Standard Deviation and Variance are terms that are often used in Machine Learning, so it is important to understand how to get them, and concept behind them.\n",
    "\n",
    "标准偏差和方差是极其学习中经常使用的术语，因此了解如何获取它们以及它们背后的概念非常重要。"
   ]
  },
  {
   "cell_type": "code",
   "execution_count": 5,
   "metadata": {},
   "outputs": [
    {
     "name": "stdout",
     "output_type": "stream",
     "text": [
      "37.84501153334721\n"
     ]
    }
   ],
   "source": [
    "# Use the NumPy std() method to find the standard deviation:\n",
    "\n",
    "import numpy\n",
    "\n",
    "speed = [32,111,138,28,59,77,97]\n",
    "\n",
    "x = numpy.std(speed)\n",
    "\n",
    "print(x)"
   ]
  },
  {
   "cell_type": "markdown",
   "metadata": {},
   "source": [
    "## Machine Learning - Percentiles(百分位数)\n",
    "\n",
    "### What are Percentiles?\n",
    "\n",
    "Percentiles are used in statistics（统计学） to give you a number that describes（描述了） the value that a given percent of the values are lower than（该数字描述了给定百分比值低于的值）."
   ]
  },
  {
   "cell_type": "markdown",
   "metadata": {},
   "source": [
    "========================================================================\n",
    "\n",
    "ages = [5,31,43,48,50,41,7,11,15,39,80,82,32,2,8,6,25,36,27,61,31]\n",
    "\n",
    "What is the 75. percentile? The answer is 43, meaning that 75% of the people are 43 or younger.\n",
    "\n",
    "什麼是75.百分位數？答案是43，意味著75%的人是43歲或以下。"
   ]
  },
  {
   "cell_type": "code",
   "execution_count": 1,
   "metadata": {},
   "outputs": [
    {
     "name": "stdout",
     "output_type": "stream",
     "text": [
      "43.0\n"
     ]
    }
   ],
   "source": [
    "import numpy\n",
    "\n",
    "ages = [5,31,43,48,50,41,7,11,15,39,80,82,32,2,8,6,25,36,27,61,31]\n",
    "\n",
    "x = numpy.percentile(ages, 75)\n",
    "print(x)"
   ]
  },
  {
   "cell_type": "code",
   "execution_count": 3,
   "metadata": {},
   "outputs": [
    {
     "name": "stdout",
     "output_type": "stream",
     "text": [
      "31.0\n"
     ]
    }
   ],
   "source": [
    "# What is the age that 50% of the people are younger than?\n",
    "\n",
    "import numpy\n",
    "\n",
    "ages = [5,31,43,48,50,41,7,11,15,39,80,82,32,2,8,6,25,36,27,61,31]\n",
    "\n",
    "x = numpy.percentile(ages, 50)\n",
    "print(x)"
   ]
  },
  {
   "cell_type": "markdown",
   "metadata": {},
   "source": [
    "## Machine Learning - Data Distribution（數據分佈）\n",
    "\n",
    "Earlier tutorial we have worked with very small amounts of data in our examples,just to understand the different concepts（概念）.\n",
    "\n",
    "In the real world, the data sets are much bigger, but it can be diffcule to gather（收集） real world data, at least（至少） at an early stage of a project.\n",
    "\n",
    "========================================================================\n",
    "\n",
    "<b>How Can we Get Big Data Sets</b>\n",
    "\n",
    "To create big data sets for testing, we use the Python module NumPy, which comes with a number of methods to create random data sets, of any size."
   ]
  },
  {
   "cell_type": "code",
   "execution_count": 1,
   "metadata": {},
   "outputs": [
    {
     "name": "stdout",
     "output_type": "stream",
     "text": [
      "[6.36790018e-01 1.54945572e+00 4.24385948e+00 1.94214441e+00\n",
      " 3.73993921e+00 2.27953742e+00 3.29479630e+00 4.55162164e+00\n",
      " 4.04662656e+00 4.94733799e+00 2.23392897e+00 4.62057084e+00\n",
      " 3.48895339e+00 4.52016121e+00 4.05925531e+00 7.42880041e-01\n",
      " 2.07046337e+00 2.41320683e+00 4.35497558e+00 3.53946196e+00\n",
      " 4.03024184e+00 3.16592882e+00 1.64618061e+00 1.43112783e+00\n",
      " 3.19952526e+00 2.21359740e+00 4.46841894e+00 2.67020313e+00\n",
      " 1.25520338e+00 1.83341580e+00 3.32863957e+00 5.91003695e-01\n",
      " 3.90536501e+00 2.86906968e+00 3.91459283e+00 3.75054858e-03\n",
      " 3.23529341e-01 3.95521819e+00 1.58095733e+00 1.60364614e+00\n",
      " 2.27166772e+00 3.36434524e+00 2.45345500e+00 3.18324495e+00\n",
      " 2.94470187e+00 3.72486090e+00 3.06191212e+00 4.94499649e+00\n",
      " 2.77950801e+00 2.08945278e+00 2.76047845e+00 4.47198659e+00\n",
      " 8.81463419e-01 1.07695296e+00 4.06537489e+00 1.69593060e+00\n",
      " 3.89910563e+00 4.34660734e+00 3.58624919e+00 2.01567662e-01\n",
      " 4.83944679e+00 3.70965768e+00 3.50803280e+00 1.70176240e+00\n",
      " 4.27255308e+00 1.85742636e+00 3.14650629e-01 4.00758152e-01\n",
      " 3.55999104e-01 4.83088688e+00 3.21405332e+00 1.09506756e+00\n",
      " 2.77841074e+00 3.73227060e+00 1.53477716e+00 4.62680495e+00\n",
      " 3.81334509e+00 4.19162133e+00 8.68463062e-01 3.68306344e+00\n",
      " 1.10687198e-01 4.03198294e+00 4.78068075e+00 5.73776462e-01\n",
      " 1.29978558e+00 8.11946526e-01 1.83794206e+00 2.48571006e+00\n",
      " 2.46615819e-01 2.63729385e+00 9.83063635e-01 4.49475752e+00\n",
      " 8.57423293e-01 1.33568573e+00 4.09245300e+00 3.36505619e+00\n",
      " 2.54719136e+00 3.48070556e+00 3.48634932e+00 2.91421830e+00\n",
      " 3.25393145e+00 4.13438344e+00 4.57381928e+00 3.89361883e+00\n",
      " 2.82581948e+00 2.41380891e+00 4.72387574e-01 5.72484793e-01\n",
      " 3.60562341e+00 4.04010168e-01 7.21227250e-01 1.28606323e+00\n",
      " 3.57752795e+00 3.42318602e+00 5.98117678e-03 2.06460791e+00\n",
      " 1.81291449e+00 3.43611170e+00 2.81968232e+00 3.69616091e+00\n",
      " 1.22176961e+00 1.18961920e+00 3.59831777e+00 5.94332908e-02\n",
      " 1.65258644e+00 2.10105635e+00 4.96972734e+00 3.34123553e+00\n",
      " 1.91938019e+00 3.11140586e+00 2.21104226e+00 4.67760598e+00\n",
      " 4.86722153e+00 4.73233721e+00 4.02816068e-02 4.75440683e+00\n",
      " 4.64338710e+00 3.51744872e+00 2.12291039e+00 4.65860659e+00\n",
      " 3.25105775e+00 3.25884607e+00 1.56710497e+00 2.36961796e+00\n",
      " 3.62499363e-01 4.55051473e+00 5.20590505e-02 1.93807533e+00\n",
      " 2.79244205e+00 1.34852927e+00 3.61233788e+00 3.06628460e+00\n",
      " 3.52339721e+00 5.99669116e-01 3.76235064e+00 9.34389231e-01\n",
      " 4.50303375e-01 2.91918802e+00 2.68149908e+00 3.82101292e+00\n",
      " 1.83565886e+00 8.81594605e-01 4.61644557e+00 4.62703336e+00\n",
      " 5.62196291e-01 4.77942936e+00 3.25315953e+00 3.41829849e+00\n",
      " 3.95967398e-01 2.07270439e+00 3.09129860e+00 1.44341720e+00\n",
      " 4.24815636e+00 3.37761787e+00 9.60605301e-01 8.73154768e-01\n",
      " 3.04716939e+00 9.50989181e-01 4.71184498e+00 1.32980250e-01\n",
      " 1.62999381e+00 4.87542623e-01 3.52476467e+00 2.13946164e+00\n",
      " 4.59229838e+00 2.81314004e+00 3.09180843e+00 4.47257701e+00\n",
      " 2.40442665e+00 8.33930361e-01 3.55056369e+00 1.00070790e+00\n",
      " 2.70132993e+00 3.03062469e+00 4.86551243e-02 1.94569913e+00\n",
      " 2.40896412e+00 4.82953598e+00 4.30572708e+00 3.22327128e-01\n",
      " 2.60026789e+00 4.33601374e+00 3.55740720e+00 3.46668465e+00\n",
      " 3.80864823e+00 3.44339637e+00 4.36515170e+00 3.79640902e+00\n",
      " 4.57210016e+00 1.27874859e+00 1.61058919e+00 4.27702360e+00\n",
      " 3.12235371e+00 3.60993387e+00 1.89718486e+00 1.85821485e+00\n",
      " 1.39860428e+00 3.76014910e+00 1.82847834e+00 2.36853110e+00\n",
      " 6.80964405e-01 1.00570393e+00 3.01454903e+00 2.79062084e+00\n",
      " 3.28501549e-01 1.00875338e+00 1.87164867e+00 2.91518458e+00\n",
      " 2.77134923e+00 4.88380551e+00 4.47870449e-01 3.05658658e+00\n",
      " 1.69910995e+00 3.62985381e+00 1.71129447e+00 3.88105337e-01\n",
      " 2.76373844e+00 5.27431947e-01 4.19669085e+00 2.79281662e+00\n",
      " 3.63463148e+00 2.58067231e+00 3.51697841e+00 4.10621557e+00\n",
      " 2.17269084e+00 4.90199630e+00 2.10746695e+00 3.65245665e-01\n",
      " 1.54163863e+00 3.96773934e+00]\n"
     ]
    }
   ],
   "source": [
    "# Create an arry containing 250 random floats between 0 and 5\n",
    "\n",
    "import numpy\n",
    "\n",
    "# numpy.random.uniform(low, high, size)\n",
    "# 从一个均匀分布（low, high）中随机采样\n",
    "x = numpy.random.uniform(0.0, 5.0, 250)\n",
    "print(x)"
   ]
  },
  {
   "cell_type": "markdown",
   "metadata": {},
   "source": [
    "### Histogram（直方图）\n",
    "\n",
    "To visualize the date set we can draw a histogram with data we collected.Use the Python module Matplotlib to draw a histogram."
   ]
  },
  {
   "cell_type": "code",
   "execution_count": 2,
   "metadata": {},
   "outputs": [
    {
     "name": "stdout",
     "output_type": "stream",
     "text": [
      "\n",
      "Histogram Explained\n",
      "The array from the example(举例中) above to draw a histogram with 5 bars.\n",
      "The first bar represents(代表) how many values in the array are between 0 and 1.\n",
      "The second bar represents how many values are betwwen 1 and 2.\n",
      "      \n"
     ]
    },
    {
     "data": {
      "image/png": "[encoded data removed]",
      "text/plain": [
       "<Figure size 640x480 with 1 Axes>"
      ]
     },
     "metadata": {},
     "output_type": "display_data"
    }
   ],
   "source": [
    "import matplotlib.pyplot as plt\n",
    "\n",
    "plt.hist(x)\n",
    "plt.show\n",
    "\n",
    "print('''\n",
    "Histogram Explained\n",
    "The array from the example(举例中) above to draw a histogram with 5 bars.\n",
    "The first bar represents(代表) how many values in the array are between 0 and 1.\n",
    "The second bar represents how many values are betwwen 1 and 2.\n",
    "      ''')"
   ]
  },
  {
   "cell_type": "markdown",
   "metadata": {},
   "source": [
    "### Big Data Distributions\n",
    "\n",
    "An array containing（包含） 250 values is not considered（被认为） very big, but now you know how to create a random set of values, and by changing the parameters,you can create teh data set as big as you want."
   ]
  },
  {
   "cell_type": "code",
   "execution_count": 3,
   "metadata": {},
   "outputs": [
    {
     "data": {
      "image/png": "[encoded data removed]",
      "text/plain": [
       "<Figure size 640x480 with 1 Axes>"
      ]
     },
     "metadata": {},
     "output_type": "display_data"
    }
   ],
   "source": [
    "import numpy\n",
    "import matplotlib.pyplot as plt\n",
    "\n",
    "x = numpy.random.uniform(0.0, 5.0, 1000000)\n",
    "\n",
    "# plt.hist(x, bins)\n",
    "# 我们可以在his()里面放入两个参数x与bins。其中，x为我们想要画出的资料；bins为横轴的组距，若指定为auto则表示自动决定。\n",
    "plt.hist(x,500)\n",
    "plt.show()"
   ]
  },
  {
   "cell_type": "markdown",
   "metadata": {},
   "source": [
    "### Normal Data Distribution（正态数据分布）\n",
    "\n",
    "To Create an array where the values are concentrated（集中） around a given value.\n",
    "\n",
    "创建一个将值集中在给定值周围的数组。\n",
    "\n",
    "In probability theory（概率论） this kind of data distribution is known as the normal data distribution（正态数据分布）, or the Gaussian data distribution（高斯数据分布）, after the mathematician（数学家） <b><u>Car Friedrich Gauss（卡尔·弗里德里希·高斯）</u></b> who came up（想出了） with the formula（公式） of this data distribution.\n",
    "\n"
   ]
  },
  {
   "cell_type": "code",
   "execution_count": 12,
   "metadata": {},
   "outputs": [
    {
     "data": {
      "image/png": "[encoded data removed]",
      "text/plain": [
       "<Figure size 640x480 with 1 Axes>"
      ]
     },
     "metadata": {},
     "output_type": "display_data"
    },
    {
     "name": "stdout",
     "output_type": "stream",
     "text": [
      "\n",
      "A normal distribution graph is also knwon as the bell curve（钟形曲线） because of it's characteristic(特征) shape of a bell.\n",
      "      \n"
     ]
    }
   ],
   "source": [
    "# A typical(典型的) normal data distribution\n",
    "import numpy\n",
    "import matplotlib.pyplot as plt\n",
    "\n",
    "# numpy.random.normal(loc=0.0, scale=1.0, size=None)\n",
    "# loc: float(此概率分佈的均值，對應著整個分佈的中心center)\n",
    "# scale: float(此概率分佈的標準差，對應著分佈的寬度，scale越大越矮胖，越小則越瘦高)\n",
    "# size: int or tuple of ints(輸出的shape，默認為None，只輸出一值)\n",
    "x = numpy.random.normal(5.0, 1.0 , 100000)\n",
    "plt.hist(x, 100)\n",
    "plt.show()\n",
    "\n",
    "print('''\n",
    "A normal distribution graph is also knwon as the bell curve（钟形曲线） because of it's characteristic(特征) shape of a bell.\n",
    "      ''')"
   ]
  },
  {
   "cell_type": "markdown",
   "metadata": {},
   "source": [
    "<b>Histogram Explained</b>\n",
    "\n",
    "We use teh array from the numpy.random.normal() method, with 100000 values, to draw a histogram with 100 bars.\n",
    "\n",
    "numpy.random.normal(mean value, standard deviation)\n",
    "- We specify（指定） that the mean value（平均值 is 5.0, and the standard deviation(标准差) is 1.0.\n",
    "- 这意味着该值应集中在5.0左右，并且很少远离平均值小于1.0\n",
    "\n",
    "And as you can see from the histogram, most values are between 4.0 and 6.0, with a top at approximately（大约） 5.0."
   ]
  },
  {
   "cell_type": "markdown",
   "metadata": {},
   "source": [
    "## Machine Learning - Scatter Plot（散点图）\n",
    "\n",
    "A scatter plot is a diagram（图标） where each value in the data set（数据集） in represented（表示） by a dot.\n",
    "\n",
    "In Matplotlib module has a method for drawing scatter plots,it need two arrays of the asme length, one fro the values of the x-axis,and one for the values of the y-axis."
   ]
  },
  {
   "cell_type": "code",
   "execution_count": 18,
   "metadata": {},
   "outputs": [
    {
     "name": "stdout",
     "output_type": "stream",
     "text": [
      "13\n",
      "13\n"
     ]
    },
    {
     "data": {
      "image/png": "[encoded data removed]",
      "text/plain": [
       "<Figure size 432x288 with 1 Axes>"
      ]
     },
     "metadata": {
      "needs_background": "light"
     },
     "output_type": "display_data"
    },
    {
     "name": "stdout",
     "output_type": "stream",
     "text": [
      "\n",
      "It seems that the newer the car, the faster it drives, but that could be a coincidence(巧合),after all we only registered 13 cars.\n",
      "      \n"
     ]
    }
   ],
   "source": [
    "import matplotlib.pyplot as plt\n",
    "\n",
    "# The x array represents the age of each car\n",
    "# The y array represents the speed of each car\n",
    "x = [5,7,8,7,2,17,2,9,4,11,12,9,6]\n",
    "y = [99,86,87,88,111,86,103,87,94,78,77,85,86]\n",
    "\n",
    "print(len(x))\n",
    "print(len(y))\n",
    "\n",
    "plt.scatter(x,y)\n",
    "plt.show()\n",
    "\n",
    "print('''\n",
    "It seems that the newer the car, the faster it drives, but that could be a coincidence(巧合),after all we only registered 13 cars.\n",
    "      ''')"
   ]
  },
  {
   "cell_type": "markdown",
   "metadata": {},
   "source": [
    "### Random Data Distributions（随机数据分布）\n",
    "\n",
    "In Machine Learning the data sets can contain thousands-, or even millions, of values.\n",
    "\n",
    "You might not have real world data when you are testing an algorithm（算法）, you might have to use randomly generated（产生） values.\n",
    "\n",
    "Let us create two arrays that are both filled with 1000 random numbers from a normal data distribution."
   ]
  },
  {
   "cell_type": "code",
   "execution_count": 22,
   "metadata": {},
   "outputs": [
    {
     "data": {
      "image/png": "[encoded data removed]",
      "text/plain": [
       "<Figure size 432x288 with 1 Axes>"
      ]
     },
     "metadata": {
      "needs_background": "light"
     },
     "output_type": "display_data"
    },
    {
     "name": "stdout",
     "output_type": "stream",
     "text": [
      "\n",
      "We can see that the dots are concentrated（集中） around the value 5 on the x-axis, and 10 on the y-axis.\n",
      "\n",
      "We can also see that the spread（扩散） is wider on the y-axis than on the x-axis.\n",
      "      \n"
     ]
    }
   ],
   "source": [
    "import numpy\n",
    "import matplotlib.pyplot as plt\n",
    "\n",
    "x = numpy.random.normal(5.0, 1.0, 1000)\n",
    "y = numpy.random.normal(10.0, 2.0, 1000)\n",
    "\n",
    "plt.scatter(x, y)\n",
    "plt.show()\n",
    "\n",
    "print('''\n",
    "We can see that the dots are concentrated（集中） around the value 5 on the x-axis, and 10 on the y-axis.\n",
    "\n",
    "We can also see that the spread（扩散） is wider on the y-axis than on the x-axis.\n",
    "      ''')"
   ]
  },
  {
   "attachments": {},
   "cell_type": "markdown",
   "metadata": {},
   "source": [
    "---\n",
    "### Machine Learning - Linear Regression（线性回归）\n",
    "\n",
    "<b>Regression</b>\n",
    "\n",
    "The term regression is used when you try to find the relationship betwwen variables.\n",
    "\n",
    "In Machine Learning, and in statistical modeling, that relationship is used to predict the outcome of future events.\n",
    "\n",
    "当尝试查找变量之间的关系时，会使用术语回归。\n",
    "\n",
    "在机器学习和统计建模时，该关系用于预测未来时间的结果。\n",
    "\n",
    "=======================================================================\n"
   ]
  },
  {
   "attachments": {},
   "cell_type": "markdown",
   "metadata": {},
   "source": [
    "### Linear Regression\n",
    "\n",
    "Lineare regression（线性回归） uses the relationship between the data-points（数据点之间的关系） to draw a straight line（直线） through all them.\n",
    "\n",
    "This line can be used to predict（预测） future values（未来价值）.\n",
    "\n",
    "In Machine Learning, predicting the future is very important."
   ]
  },
  {
   "cell_type": "code",
   "execution_count": 1,
   "metadata": {},
   "outputs": [
    {
     "data": {
      "image/png": "[encoded data removed]",
      "text/plain": [
       "<Figure size 432x288 with 1 Axes>"
      ]
     },
     "metadata": {
      "needs_background": "light"
     },
     "output_type": "display_data"
    }
   ],
   "source": [
    "# the x-axis represents(代表) age, and the y-axis represents(代表) speed. \n",
    "# We have registered（记录） the age and speed of 13 cars as they were passing tollbooth（收费站）.\n",
    "\n",
    "import matplotlib.pyplot as plt\n",
    "\n",
    "x = [5,7,8,7,2,17,2,9,4,11,12,9,6]\n",
    "y = [99,86,87,88,111,86,103,87,94,78,77,85,86]\n",
    "\n",
    "plt.scatter(x, y)\n",
    "plt.show()"
   ]
  },
  {
   "cell_type": "code",
   "execution_count": 1,
   "metadata": {},
   "outputs": [
    {
     "data": {
      "image/png": "[encoded data removed]",
      "text/plain": [
       "<Figure size 432x288 with 1 Axes>"
      ]
     },
     "metadata": {
      "needs_background": "light"
     },
     "output_type": "display_data"
    }
   ],
   "source": [
    "# import scipy and draw the line of Linear Regression\n",
    "\n",
    "import matplotlib.pyplot as plt\n",
    "from scipy import stats\n",
    "\n",
    "x = [5,7,8,7,2,17,2,9,4,11,12,9,6]\n",
    "y = [99,86,87,88,111,86,103,87,94,78,77,85,86]\n",
    "\n",
    "slope, intercept, r, p, std_err = stats.linregress(x, y)\n",
    "\n",
    "def myfunc(x):\n",
    "  return slope * x + intercept\n",
    "\n",
    "mymodel = list(map(myfunc, x))\n",
    "\n",
    "plt.scatter(x, y)\n",
    "plt.plot(x, mymodel)\n",
    "plt.show()"
   ]
  },
  {
   "cell_type": "markdown",
   "metadata": {},
   "source": [
    "### Example Explained\n",
    "\n",
    "First, import the modules you need.\n",
    "\n",
    "You can learn about the SciPy module in SciPy Tutorial[https://www.w3schools.com/python/scipy/index.php]."
   ]
  },
  {
   "cell_type": "code",
   "execution_count": 28,
   "metadata": {},
   "outputs": [],
   "source": [
    "import matplotlib.pyplot as plt\n",
    "from scipy import stats\n",
    "\n",
    "# Create the arrays that represent(代表) the values of the x and y axis\n",
    "x = [5,7,8,7,2,17,2,9,4,11,12,9,6]\n",
    "y = [99,86,87,88,111,86,103,87,94,78,77,85,86]\n",
    "\n",
    "# Execute a method that returns some important key values of Linear Regression\n",
    "# [https://vimsky.com/zh-tw/examples/usage/python-scipy.stats.linregress.html]\n",
    "# scipy.stats.linregress(x, y=None, alternative='two-sided')\n",
    "# x,y 兩組測量。兩個數組應該具有相同的長度\n",
    "# two-sided（默認）：回歸線的斜率非零\n",
    "# less：回歸線的斜率小於零\n",
    "# greater：回歸線的斜率大於零\n",
    "slope, intercept, r, p, std_err = stats.linregress(x, y)\n",
    "# slope（坡，浮點數）：回歸線的斜率\n",
    "# intercept（截距，浮點數）：回歸線的截距\n",
    "# r（右值，浮點數）：皮爾遜相關係數。rvalue 的平方等於決定係數。\n",
    "# p（p值，浮點數）：p-value 用於假設檢驗，其原設是斜率為零，使用具有檢驗統計量的t分佈的Wald檢驗。\n",
    "# stderr（標準錯誤，浮點數）：在殘差正態性假設下，估計斜率（梯度）的標準誤差"
   ]
  },
  {
   "cell_type": "code",
   "execution_count": 29,
   "metadata": {},
   "outputs": [
    {
     "data": {
      "image/png": "[encoded data removed]",
      "text/plain": [
       "<Figure size 640x480 with 1 Axes>"
      ]
     },
     "metadata": {},
     "output_type": "display_data"
    }
   ],
   "source": [
    "# 执行返回线性回归的一些重要键值的方法：\n",
    "# slope, intercept, r, p, std_err = stats.linregress(x, y)\n",
    "\n",
    "# 创建一个使用 slope 和 intercept 值返回新值的函数。这个新值表示相应的x值将在y轴上放置的位置：\n",
    "def myfunc(x):\n",
    "    return slope * x + intercept\n",
    "\n",
    "# 通过函数运行x数组的每个值，将导致一个新的数组，其中的y周具有新的值：\n",
    "mymodel = list(map(myfunc, x))\n",
    "\n",
    "# 绘制原始散点图\n",
    "plt.scatter(x, y)\n",
    "# 画出线性回归线\n",
    "plt.plot(x, mymodel)\n",
    "plt.show()"
   ]
  },
  {
   "cell_type": "code",
   "execution_count": 15,
   "metadata": {},
   "outputs": [
    {
     "name": "stdout",
     "output_type": "stream",
     "text": [
      "[1, 4, 9, 16, 25]\n",
      "[1, 4, 9, 16, 25]\n"
     ]
    }
   ],
   "source": [
    "def square(x):\n",
    "    return x ** 2\n",
    "value1 = list(map(square,[1,2,3,4,5]))\n",
    "value2 = list(map(lambda x: x**2, [1,2,3,4,5]))\n",
    "print(value1)\n",
    "print(value2)"
   ]
  },
  {
   "attachments": {},
   "cell_type": "markdown",
   "metadata": {},
   "source": [
    "### R for Relationship\n",
    "\n",
    "It is important to know how the relationship between the values of the x-axis and the values of the y-axis is, if there are no relationship the linear regression can not be used to predict anything.\n",
    "\n",
    "The relationship - the coefficient(系数) of correlation - is called r.\n",
    "\n",
    "The r value ranges from -1 to 1, where 0 mean no re;ationship,and 1(and -1)means 100% related."
   ]
  },
  {
   "cell_type": "code",
   "execution_count": 31,
   "metadata": {},
   "outputs": [
    {
     "name": "stdout",
     "output_type": "stream",
     "text": [
      "[15. 17. 19.]\n"
     ]
    }
   ],
   "source": [
    "from sklearn.linear_model import LinearRegression\n",
    "import numpy as np\n",
    "\n",
    "# 训练数据\n",
    "x_train = np.array([1, 2, 3, 4, 5])\n",
    "y_train = np.array([5, 7, 9, 11, 13])\n",
    "\n",
    "# 创建线性回归模型\n",
    "model = LinearRegression()\n",
    "\n",
    "# 训练模型\n",
    "model.fit(x_train.reshape(-1, 1), y_train)\n",
    "\n",
    "# 测试数据\n",
    "x_test = np.array([6, 7, 8])\n",
    "\n",
    "# 预测\n",
    "y_pred = model.predict(x_test.reshape(-1, 1))\n",
    "\n",
    "# 输出预测结果\n",
    "print(y_pred)"
   ]
  },
  {
   "cell_type": "code",
   "execution_count": 32,
   "metadata": {},
   "outputs": [
    {
     "name": "stdout",
     "output_type": "stream",
     "text": [
      "-0.758591524376155\n"
     ]
    }
   ],
   "source": [
    "from scipy import stats\n",
    "\n",
    "x = [5,7,8,7,2,17,2,9,4,11,12,9,6]\n",
    "y = [99,86,87,88,111,86,103,87,94,78,77,85,86]\n",
    "\n",
    "slope, intercept, r, p, std_err = stats.linregress(x, y)\n",
    "\n",
    "print(r)"
   ]
  },
  {
   "attachments": {},
   "cell_type": "markdown",
   "metadata": {},
   "source": [
    "### Predict Future Values\n",
    "\n",
    "Use the information we have gathered to predict future values."
   ]
  },
  {
   "cell_type": "code",
   "execution_count": 36,
   "metadata": {},
   "outputs": [
    {
     "name": "stdout",
     "output_type": "stream",
     "text": [
      "85.59308314937454\n"
     ]
    },
    {
     "data": {
      "text/plain": [
       "<function matplotlib.pyplot.show(close=None, block=None)>"
      ]
     },
     "execution_count": 36,
     "metadata": {},
     "output_type": "execute_result"
    },
    {
     "data": {
      "image/png": "[encoded data removed]",
      "text/plain": [
       "<Figure size 640x480 with 1 Axes>"
      ]
     },
     "metadata": {},
     "output_type": "display_data"
    }
   ],
   "source": [
    "from scipy import stats\n",
    "\n",
    "x = [5,7,8,7,2,17,2,9,4,11,12,9,6]\n",
    "y = [99,86,87,88,111,86,103,87,94,78,77,85,86]\n",
    "\n",
    "slope, intercept, r, p, std_err = stats.linregress(x, y)\n",
    "\n",
    "def myfunc(x):\n",
    "  return slope * x + intercept\n",
    "\n",
    "speed = myfunc(10)\n",
    "\n",
    "print(speed)\n",
    "\n",
    "myspeed = list(map(myfunc, x))\n",
    "plt.scatter(x,y)\n",
    "plt.plot(x, myspeed)\n",
    "plt.show"
   ]
  },
  {
   "attachments": {},
   "cell_type": "markdown",
   "metadata": {},
   "source": [
    "### Bad Fit?\n",
    "\n",
    "If r for the relationship is too high, that will be a very bad relationship. tells us that this data set is not suitable for linear regression."
   ]
  },
  {
   "cell_type": "code",
   "execution_count": 37,
   "metadata": {},
   "outputs": [
    {
     "data": {
      "image/png": "[encoded data removed]",
      "text/plain": [
       "<Figure size 640x480 with 1 Axes>"
      ]
     },
     "metadata": {},
     "output_type": "display_data"
    },
    {
     "name": "stdout",
     "output_type": "stream",
     "text": [
      "0.013318141542974915\n"
     ]
    }
   ],
   "source": [
    "import matplotlib.pyplot as plt\n",
    "from scipy import stats\n",
    "\n",
    "x = [89,43,36,36,95,10,66,34,38,20,26,29,48,64,6,5,36,66,72,40]\n",
    "y = [21,46,3,35,67,95,53,72,58,10,26,34,90,33,38,20,56,2,47,15]\n",
    "\n",
    "slope, intercept, r, p, std_err = stats.linregress(x, y)\n",
    "\n",
    "def myfunc(x):\n",
    "  return slope * x + intercept\n",
    "\n",
    "mymodel = list(map(myfunc, x))\n",
    "\n",
    "plt.scatter(x, y)\n",
    "plt.plot(x, mymodel)\n",
    "plt.show()\n",
    "\n",
    "print(r)"
   ]
  },
  {
   "attachments": {},
   "cell_type": "markdown",
   "metadata": {},
   "source": [
    "---\n",
    "## Polynomial Regression 多项式回归\n",
    "\n",
    "If your data points clearly will not fit a linear regression(a straight line through all data points), it might be ideal for polynomial regression.\n",
    "\n",
    "Polynomial regression, like linear regression, uses the relationship between the variables x and y to find the best way to draw a line through the data points."
   ]
  },
  {
   "cell_type": "code",
   "execution_count": 38,
   "metadata": {},
   "outputs": [
    {
     "data": {
      "image/png": "[encoded data removed]",
      "text/plain": [
       "<Figure size 640x480 with 1 Axes>"
      ]
     },
     "metadata": {},
     "output_type": "display_data"
    }
   ],
   "source": [
    "import numpy\n",
    "import matplotlib.pyplot as plt\n",
    "\n",
    "x = [1,2,3,5,6,7,8,9,10,12,13,14,15,16,18,19,21,22]\n",
    "y = [100,90,80,60,60,55,60,65,70,70,75,76,78,79,90,99,99,100]\n",
    "\n",
    "mymodel = numpy.poly1d(numpy.polyfit(x, y, 3))\n",
    "\n",
    "myline = numpy.linspace(1, 22, 100)\n",
    "\n",
    "plt.scatter(x, y)\n",
    "plt.plot(myline, mymodel(myline))\n",
    "plt.show()"
   ]
  },
  {
   "attachments": {},
   "cell_type": "markdown",
   "metadata": {},
   "source": [
    "### How Does it Work?\n",
    "\n",
    "Python has methods for finding a relationship between data-points and to draw a line of polynomial regression."
   ]
  },
  {
   "cell_type": "code",
   "execution_count": 7,
   "metadata": {},
   "outputs": [
    {
     "data": {
      "image/png": "[encoded data removed]",
      "text/plain": [
       "<Figure size 640x480 with 1 Axes>"
      ]
     },
     "metadata": {},
     "output_type": "display_data"
    }
   ],
   "source": [
    "import numpy\n",
    "import matplotlib.pyplot as plt\n",
    "\n",
    "# time of day(hour)\n",
    "x = [1,2,3,5,6,7,8,9,10,12,13,14,15,16,18,19,21,22]\n",
    "# car's speed\n",
    "y = [100,90,80,60,60,55,60,65,70,70,75,76,78,79,90,99,99,100]\n",
    "\n",
    "# import numpy and matplotlib then draw the line of Polynomial Regression\n",
    "mymodel = numpy.poly1d(numpy.polyfit(x, y, 3))\n",
    "\n",
    "# Then specify how the line will display,we start at position1, and end at position 22\n",
    "myline = numpy.linspace(1, 22, 100) #numpy.linspace(開始，停止，數量)\n",
    "\n",
    "# Draw the origina scatter plot\n",
    "plt.scatter(x, y)\n",
    "\n",
    "# Draw the line of ploynomial regression\n",
    "plt.plot(myline, mymodel(myline))\n",
    "plt.show()"
   ]
  },
  {
   "attachments": {},
   "cell_type": "markdown",
   "metadata": {},
   "source": [
    "### R-Squared(平方)\n",
    "\n",
    "It is important to know how weel the relationship between the values of the x- and y-axis is, if there arer no relationship the polynomial regression can not be used to predict anything.\n",
    "\n",
    "The relationship is measured with a value called the r-squared(r平方的值测量).\n",
    "\n",
    "The r-squared value ranges from 0 to 1, where 0 means no relationship, and 1 means 100% related.\n",
    "\n",
    "Python and the Sklearn module will compute this value."
   ]
  },
  {
   "cell_type": "code",
   "execution_count": 12,
   "metadata": {},
   "outputs": [
    {
     "name": "stdout",
     "output_type": "stream",
     "text": [
      "0.9432150416451026\n"
     ]
    }
   ],
   "source": [
    "import numpy\n",
    "from sklearn.metrics import r2_score\n",
    "\n",
    "x = [1,2,3,5,6,7,8,9,10,12,13,14,15,16,18,19,21,22]\n",
    "y = [100,90,80,60,60,55,60,65,70,70,75,76,78,79,90,99,99,100]\n",
    "\n",
    "mymodel = numpy.poly1d(numpy.polyfit(x, y, 3))\n",
    "\n",
    "\n",
    "# The result 0.94 shows that there is a very good relationship, and we can use polynomial regression in future predictions.\n",
    "print(r2_score(y, mymodel(x)))"
   ]
  },
  {
   "attachments": {},
   "cell_type": "markdown",
   "metadata": {},
   "source": [
    "If we use Linear Regression to predict the value? And the value is fit weel?"
   ]
  },
  {
   "cell_type": "code",
   "execution_count": 15,
   "metadata": {},
   "outputs": [
    {
     "data": {
      "image/png": "[encoded data removed]",
      "text/plain": [
       "<Figure size 640x480 with 1 Axes>"
      ]
     },
     "metadata": {},
     "output_type": "display_data"
    },
    {
     "name": "stdout",
     "output_type": "stream",
     "text": [
      "0.4269850802946244\n"
     ]
    }
   ],
   "source": [
    "import numpy\n",
    "import matplotlib.pyplot as plt\n",
    "from scipy import stats\n",
    "\n",
    "x = [1,2,3,5,6,7,8,9,10,12,13,14,15,16,18,19,21,22]\n",
    "y = [100,90,80,60,60,55,60,65,70,70,75,76,78,79,90,99,99,100]\n",
    "\n",
    "slope, intercept, r, p, std_err = stats.linregress(x, y)\n",
    "\n",
    "def myfunc(x):\n",
    "  return slope * x + intercept\n",
    "\n",
    "mymodel = list(map(myfunc, x))\n",
    "\n",
    "plt.scatter(x, y)\n",
    "plt.plot(x, mymodel)\n",
    "plt.show()\n",
    "\n",
    "print(r)"
   ]
  },
  {
   "attachments": {},
   "cell_type": "markdown",
   "metadata": {},
   "source": [
    "### Predict Future Values\n",
    "Now we can use the information we have gathered to predict future values."
   ]
  },
  {
   "cell_type": "code",
   "execution_count": 16,
   "metadata": {},
   "outputs": [
    {
     "name": "stdout",
     "output_type": "stream",
     "text": [
      "88.8733126969799\n"
     ]
    }
   ],
   "source": [
    "# Example: Let us try to predict the speed of a car that passes the tollbooth at around the time 17:00\n",
    "import numpy\n",
    "from sklearn.metrics import r2_score\n",
    "\n",
    "x = [1,2,3,5,6,7,8,9,10,12,13,14,15,16,18,19,21,22]\n",
    "y = [100,90,80,60,60,55,60,65,70,70,75,76,78,79,90,99,99,100]\n",
    "\n",
    "mymodel = numpy.poly1d(numpy.polyfit(x, y, 3))\n",
    "\n",
    "speed = mymodel(17)\n",
    "print(speed)"
   ]
  },
  {
   "attachments": {},
   "cell_type": "markdown",
   "metadata": {},
   "source": [
    "### Bad Fit where polynomial regression"
   ]
  },
  {
   "cell_type": "code",
   "execution_count": 1,
   "metadata": {},
   "outputs": [
    {
     "data": {
      "image/png": "[encoded data removed]",
      "text/plain": [
       "<Figure size 640x480 with 1 Axes>"
      ]
     },
     "metadata": {},
     "output_type": "display_data"
    }
   ],
   "source": [
    "import numpy\n",
    "import matplotlib.pyplot as plt\n",
    "\n",
    "x = [89,43,36,36,95,10,66,34,38,20,26,29,48,64,6,5,36,66,72,40]\n",
    "y = [21,46,3,35,67,95,53,72,58,10,26,34,90,33,38,20,56,2,47,15]\n",
    "\n",
    "mymodel = numpy.poly1d(numpy.polyfit(x, y, 3))\n",
    "\n",
    "myline = numpy.linspace(2, 95, 100)\n",
    "\n",
    "plt.scatter(x, y)\n",
    "plt.plot(myline, mymodel(myline))\n",
    "plt.show()"
   ]
  },
  {
   "attachments": {},
   "cell_type": "markdown",
   "metadata": {},
   "source": [
    "And the r-squared value?"
   ]
  },
  {
   "cell_type": "code",
   "execution_count": 2,
   "metadata": {},
   "outputs": [
    {
     "name": "stdout",
     "output_type": "stream",
     "text": [
      "0.009952707566680541\n"
     ]
    }
   ],
   "source": [
    "import numpy\n",
    "from sklearn.metrics import r2_score\n",
    "\n",
    "x = [89,43,36,36,95,10,66,34,38,20,26,29,48,64,6,5,36,66,72,40]\n",
    "y = [21,46,3,35,67,95,53,72,58,10,26,34,90,33,38,20,56,2,47,15]\n",
    "\n",
    "mymodel = numpy.poly1d(numpy.polyfit(x, y, 3))\n",
    "\n",
    "# 0.00995 indicates(表示) a very bad relationship, and tells us that this data set is not suitable for polynomial regression.\n",
    "print(r2_score(y, mymodel(x)))"
   ]
  },
  {
   "attachments": {},
   "cell_type": "markdown",
   "metadata": {},
   "source": [
    "---\n",
    "## Multiple Regression 多元回归\n",
    "\n",
    "Multiple regression is like linear regression, but with more than one independent value, meaning that we try to predict a value based on two or more variables."
   ]
  },
  {
   "cell_type": "code",
   "execution_count": 8,
   "metadata": {},
   "outputs": [
    {
     "data": {
      "text/html": [
       "<div>\n",
       "<style scoped>\n",
       "    .dataframe tbody tr th:only-of-type {\n",
       "        vertical-align: middle;\n",
       "    }\n",
       "\n",
       "    .dataframe tbody tr th {\n",
       "        vertical-align: top;\n",
       "    }\n",
       "\n",
       "    .dataframe thead th {\n",
       "        text-align: right;\n",
       "    }\n",
       "</style>\n",
       "<table border=\"1\" class=\"dataframe\">\n",
       "  <thead>\n",
       "    <tr style=\"text-align: right;\">\n",
       "      <th></th>\n",
       "      <th>Car</th>\n",
       "      <th>Model</th>\n",
       "      <th>Volume</th>\n",
       "      <th>Weight</th>\n",
       "      <th>CO2</th>\n",
       "    </tr>\n",
       "  </thead>\n",
       "  <tbody>\n",
       "    <tr>\n",
       "      <th>0</th>\n",
       "      <td>Toyota</td>\n",
       "      <td>Aygo</td>\n",
       "      <td>1000</td>\n",
       "      <td>790</td>\n",
       "      <td>99</td>\n",
       "    </tr>\n",
       "    <tr>\n",
       "      <th>1</th>\n",
       "      <td>Mitsubishi</td>\n",
       "      <td>Space Star</td>\n",
       "      <td>1200</td>\n",
       "      <td>1160</td>\n",
       "      <td>95</td>\n",
       "    </tr>\n",
       "    <tr>\n",
       "      <th>2</th>\n",
       "      <td>Skoda</td>\n",
       "      <td>Citigo</td>\n",
       "      <td>1000</td>\n",
       "      <td>929</td>\n",
       "      <td>95</td>\n",
       "    </tr>\n",
       "    <tr>\n",
       "      <th>3</th>\n",
       "      <td>Fiat</td>\n",
       "      <td>500</td>\n",
       "      <td>900</td>\n",
       "      <td>865</td>\n",
       "      <td>90</td>\n",
       "    </tr>\n",
       "    <tr>\n",
       "      <th>4</th>\n",
       "      <td>Mini</td>\n",
       "      <td>Cooper</td>\n",
       "      <td>1500</td>\n",
       "      <td>1140</td>\n",
       "      <td>105</td>\n",
       "    </tr>\n",
       "    <tr>\n",
       "      <th>5</th>\n",
       "      <td>VW</td>\n",
       "      <td>Up!</td>\n",
       "      <td>1000</td>\n",
       "      <td>929</td>\n",
       "      <td>105</td>\n",
       "    </tr>\n",
       "    <tr>\n",
       "      <th>6</th>\n",
       "      <td>Skoda</td>\n",
       "      <td>Fabia</td>\n",
       "      <td>1400</td>\n",
       "      <td>1109</td>\n",
       "      <td>90</td>\n",
       "    </tr>\n",
       "    <tr>\n",
       "      <th>7</th>\n",
       "      <td>Mercedes</td>\n",
       "      <td>A-Class</td>\n",
       "      <td>1500</td>\n",
       "      <td>1365</td>\n",
       "      <td>92</td>\n",
       "    </tr>\n",
       "    <tr>\n",
       "      <th>8</th>\n",
       "      <td>Ford</td>\n",
       "      <td>Fiesta</td>\n",
       "      <td>1500</td>\n",
       "      <td>1112</td>\n",
       "      <td>98</td>\n",
       "    </tr>\n",
       "    <tr>\n",
       "      <th>9</th>\n",
       "      <td>Audi</td>\n",
       "      <td>A1</td>\n",
       "      <td>1600</td>\n",
       "      <td>1150</td>\n",
       "      <td>99</td>\n",
       "    </tr>\n",
       "  </tbody>\n",
       "</table>\n",
       "</div>"
      ],
      "text/plain": [
       "          Car       Model  Volume  Weight  CO2\n",
       "0      Toyota        Aygo    1000     790   99\n",
       "1  Mitsubishi  Space Star    1200    1160   95\n",
       "2       Skoda      Citigo    1000     929   95\n",
       "3        Fiat         500     900     865   90\n",
       "4        Mini      Cooper    1500    1140  105\n",
       "5          VW         Up!    1000     929  105\n",
       "6       Skoda       Fabia    1400    1109   90\n",
       "7    Mercedes     A-Class    1500    1365   92\n",
       "8        Ford      Fiesta    1500    1112   98\n",
       "9        Audi          A1    1600    1150   99"
      ]
     },
     "execution_count": 8,
     "metadata": {},
     "output_type": "execute_result"
    }
   ],
   "source": [
    "import pandas as pd\n",
    "\n",
    "data = {\n",
    "    \"Car\":[\"Toyota\", \"Mitsubishi\", \"Skoda\", \"Fiat\", \"Mini\", \"VW\", \"Skoda\", \"Mercedes\", \"Ford\", \"Audi\"],\n",
    "    \"Model\":[\"Aygo\", \"Space Star\", \"Citigo\", \"500\", \"Cooper\", \"Up!\", \"Fabia\", \"A-Class\", \"Fiesta\", \"A1\"],\n",
    "    \"Volume\":[1000, 1200, 1000, 900, 1500, 1000, 1400, 1500, 1500, 1600],\n",
    "    \"Weight\":[790, 1160, 929, 865, 1140, 929, 1109, 1365, 1112, 1150],\n",
    "    \"CO2\":[99, 95, 95, 90, 105, 105, 90, 92, 98, 99]\n",
    "}\n",
    "\n",
    "df = pd.DataFrame(data)\n",
    "df"
   ]
  },
  {
   "attachments": {},
   "cell_type": "markdown",
   "metadata": {},
   "source": [
    "From the sklearn module we will use the <b>LinearRegression()</b> method to create a linear regression object.\n",
    "\n",
    "This object has a method called <b>fit()</b> that <u>takes the independent and dependent values as parameteres</u> and fills the regression object with data that describes the relationship.\n",
    "\n",
    "該對象具有稱為 fit（）的方法，該方法將獨立值和從屬值作為參數，並用描述該關係的數據填充回歸對象。"
   ]
  },
  {
   "cell_type": "code",
   "execution_count": 14,
   "metadata": {},
   "outputs": [
    {
     "name": "stdout",
     "output_type": "stream",
     "text": [
      "[70.01815481]\n",
      "==================================================\n",
      "We have predicted that a car with 1.3 liter engine(升發動機), and a weight of 2300kg, will release approximately(大約) 107 grams of CO2 for every kilometer(每公里) it drives.\n"
     ]
    },
    {
     "name": "stderr",
     "output_type": "stream",
     "text": [
      "c:\\Users\\PAN\\anaconda3\\lib\\site-packages\\sklearn\\base.py:450: UserWarning: X does not have valid feature names, but LinearRegression was fitted with feature names\n",
      "  warnings.warn(\n"
     ]
    }
   ],
   "source": [
    "# It is common(常見) to name the list of independent(獨立的) values with a upper case(大寫) X,\n",
    "# and the list of dependent values(相同值) with a lower case y.\n",
    "X = df[['Weight', 'Volume']]\n",
    "y = df['CO2']\n",
    "\n",
    "from sklearn import linear_model\n",
    "\n",
    "regr = linear_model.LinearRegression()\n",
    "regr.fit(X, y)\n",
    "\n",
    "# Now we have a regression object that are ready to predict CO2 values based on a car's weight and volume\n",
    "# predict the C02 emission of a car where the weight is 2300kg, and the volume is 1300cm3\n",
    "predictedCO2 = regr.predict([[2300, 1300]])\n",
    "print(predictedCO2)\n",
    "\n",
    "print(\"==================================================\")\n",
    "print(\"We have predicted that a car with 1.3 liter engine(升發動機), and a weight of 2300kg, will release approximately(大約) 107 grams of CO2 for every kilometer(每公里) it drives.\")"
   ]
  },
  {
   "attachments": {},
   "cell_type": "markdown",
   "metadata": {},
   "source": [
    "### Coefficient 係數\n",
    "\n",
    "The coefficient is a factor(因子) that describes(描述) the relationship with an unknown variable.\n",
    "\n",
    "Example: if x is a variable, then 2x is x two times. x is the unknown variable, and the number 2 is the coefficient.\n",
    "\n",
    "In this case, we can ask for the coefficient value of weight against CO2, and for volume against CO2. The answer(s) we get tells us what would happen if we increase, or decrease, one of the independent values."
   ]
  },
  {
   "cell_type": "code",
   "execution_count": 15,
   "metadata": {},
   "outputs": [
    {
     "name": "stdout",
     "output_type": "stream",
     "text": [
      "[-0.02194824  0.01364762]\n"
     ]
    }
   ],
   "source": [
    "# Print the coefficient values of the regression object\n",
    "import pandas\n",
    "from sklearn import linear_model\n",
    "\n",
    "df = pd.DataFrame(data)\n",
    "\n",
    "X = df[['Weight', 'Volume']]\n",
    "y = df['CO2']\n",
    "\n",
    "regr = linear_model.LinearRegression()\n",
    "regr.fit(X, y)\n",
    "\n",
    "print(regr.coef_)"
   ]
  },
  {
   "attachments": {},
   "cell_type": "markdown",
   "metadata": {},
   "source": [
    "### Result Explained\n",
    "\n",
    "The result array represents(代表) the coefficient values of weight and volume.\n",
    "\n",
    "\n",
    "Weight: 0.00755095<br>Volume: 0.00780526\n",
    "\n",
    "These values tell us that if the weight increase(增加) by 1kg, the CO2 emission(排放) increases by 0.00755095g."
   ]
  },
  {
   "attachments": {},
   "cell_type": "markdown",
   "metadata": {},
   "source": [
    "---\n",
    "\n",
    "## Scale 数据归一化(扩展)\n",
    "\n",
    "When you data has different values, and even different <u>measurement units</u>(计量单位), it can be difficult to compare them. What is kilograms compared to meters? Or <u>altidude</u>(海拔) compared to time?\n",
    "\n",
    "The answer to this problem is scaling(扩展). We can scale(缩放) data into new values that are easier to compare."
   ]
  },
  {
   "cell_type": "code",
   "execution_count": 3,
   "metadata": {},
   "outputs": [
    {
     "data": {
      "text/html": [
       "<div>\n",
       "<style scoped>\n",
       "    .dataframe tbody tr th:only-of-type {\n",
       "        vertical-align: middle;\n",
       "    }\n",
       "\n",
       "    .dataframe tbody tr th {\n",
       "        vertical-align: top;\n",
       "    }\n",
       "\n",
       "    .dataframe thead th {\n",
       "        text-align: right;\n",
       "    }\n",
       "</style>\n",
       "<table border=\"1\" class=\"dataframe\">\n",
       "  <thead>\n",
       "    <tr style=\"text-align: right;\">\n",
       "      <th></th>\n",
       "      <th>Car</th>\n",
       "      <th>Model</th>\n",
       "      <th>Volume</th>\n",
       "      <th>Weight</th>\n",
       "      <th>CO2</th>\n",
       "    </tr>\n",
       "  </thead>\n",
       "  <tbody>\n",
       "    <tr>\n",
       "      <th>0</th>\n",
       "      <td>Toyota</td>\n",
       "      <td>Aygo</td>\n",
       "      <td>1.0</td>\n",
       "      <td>790</td>\n",
       "      <td>99</td>\n",
       "    </tr>\n",
       "    <tr>\n",
       "      <th>1</th>\n",
       "      <td>Mitsubishi</td>\n",
       "      <td>Space Star</td>\n",
       "      <td>1.2</td>\n",
       "      <td>1160</td>\n",
       "      <td>95</td>\n",
       "    </tr>\n",
       "    <tr>\n",
       "      <th>2</th>\n",
       "      <td>Skoda</td>\n",
       "      <td>Citigo</td>\n",
       "      <td>1.0</td>\n",
       "      <td>929</td>\n",
       "      <td>95</td>\n",
       "    </tr>\n",
       "    <tr>\n",
       "      <th>3</th>\n",
       "      <td>Fiat</td>\n",
       "      <td>500</td>\n",
       "      <td>0.9</td>\n",
       "      <td>865</td>\n",
       "      <td>90</td>\n",
       "    </tr>\n",
       "    <tr>\n",
       "      <th>4</th>\n",
       "      <td>Mini</td>\n",
       "      <td>Cooper</td>\n",
       "      <td>1.5</td>\n",
       "      <td>1140</td>\n",
       "      <td>105</td>\n",
       "    </tr>\n",
       "    <tr>\n",
       "      <th>5</th>\n",
       "      <td>VW</td>\n",
       "      <td>Up!</td>\n",
       "      <td>1.0</td>\n",
       "      <td>929</td>\n",
       "      <td>105</td>\n",
       "    </tr>\n",
       "    <tr>\n",
       "      <th>6</th>\n",
       "      <td>Skoda</td>\n",
       "      <td>Fabia</td>\n",
       "      <td>1.4</td>\n",
       "      <td>1109</td>\n",
       "      <td>90</td>\n",
       "    </tr>\n",
       "    <tr>\n",
       "      <th>7</th>\n",
       "      <td>Mercedes</td>\n",
       "      <td>A-Class</td>\n",
       "      <td>1.5</td>\n",
       "      <td>1365</td>\n",
       "      <td>92</td>\n",
       "    </tr>\n",
       "    <tr>\n",
       "      <th>8</th>\n",
       "      <td>Ford</td>\n",
       "      <td>Fiesta</td>\n",
       "      <td>1.5</td>\n",
       "      <td>1112</td>\n",
       "      <td>98</td>\n",
       "    </tr>\n",
       "    <tr>\n",
       "      <th>9</th>\n",
       "      <td>Audi</td>\n",
       "      <td>A1</td>\n",
       "      <td>1.6</td>\n",
       "      <td>1150</td>\n",
       "      <td>99</td>\n",
       "    </tr>\n",
       "    <tr>\n",
       "      <th>10</th>\n",
       "      <td>Hyundai</td>\n",
       "      <td>I20</td>\n",
       "      <td>1.1</td>\n",
       "      <td>980</td>\n",
       "      <td>99</td>\n",
       "    </tr>\n",
       "  </tbody>\n",
       "</table>\n",
       "</div>"
      ],
      "text/plain": [
       "           Car       Model  Volume  Weight  CO2\n",
       "0       Toyota        Aygo     1.0     790   99\n",
       "1   Mitsubishi  Space Star     1.2    1160   95\n",
       "2        Skoda      Citigo     1.0     929   95\n",
       "3         Fiat         500     0.9     865   90\n",
       "4         Mini      Cooper     1.5    1140  105\n",
       "5           VW         Up!     1.0     929  105\n",
       "6        Skoda       Fabia     1.4    1109   90\n",
       "7     Mercedes     A-Class     1.5    1365   92\n",
       "8         Ford      Fiesta     1.5    1112   98\n",
       "9         Audi          A1     1.6    1150   99\n",
       "10     Hyundai         I20     1.1     980   99"
      ]
     },
     "execution_count": 3,
     "metadata": {},
     "output_type": "execute_result"
    }
   ],
   "source": [
    "import pandas as pd\n",
    "\n",
    "data = {\n",
    "    \"Car\":[\"Toyota\", \"Mitsubishi\", \"Skoda\", \"Fiat\", \"Mini\", \"VW\", \"Skoda\", \"Mercedes\", \"Ford\", \"Audi\", \"Hyundai\"],\n",
    "    \"Model\":[\"Aygo\", \"Space Star\", \"Citigo\", \"500\", \"Cooper\", \"Up!\", \"Fabia\", \"A-Class\", \"Fiesta\", \"A1\", \"I20\"],\n",
    "    \"Volume\":[1.0, 1.2, 1.0, 0.9, 1.5, 1.0, 1.4, 1.5, 1.5, 1.6, 1.1],\n",
    "    \"Weight\":[790, 1160, 929, 865, 1140, 929, 1109, 1365, 1112, 1150, 980],\n",
    "    \"CO2\":[99, 95, 95, 90, 105, 105, 90, 92, 98, 99, 99]\n",
    "}\n",
    "df = pd.DataFrame(data)\n",
    "df"
   ]
  },
  {
   "attachments": {},
   "cell_type": "markdown",
   "metadata": {},
   "source": [
    "It can be difficult to compare the volume 1.0 with the weight 790, but if we scale them both into comparable values, we can easily see how much one value is compared to the other.\n",
    "\n",
    "There are different methods for scaling data, in this tutorial we will use a method called standardization(标准化).\n",
    "\n",
    "The standardization method uses this formula:\n",
    "<br><b>z = (x - u) / s</b>\n",
    "\n",
    "Where <b>z</b> is the new value, <b>x</b> is the original value, <b>u</b> is the mean and <b>s</b> is the standard deviation(标准偏差).\n",
    "\n",
    "=======================================================================\n",
    "If you take the weight column from the data set above, the first value is 790, and teh scaled value will be:\n",
    "<br><b>(790 - 1292.23) / 238.74 = -2.1</b>\n",
    "\n",
    "If you take the volume column from the data set above, the first value is 1.0, and teh scaled value will be:\n",
    "<br><b>(1.0 - 1.61) / 0.38 = -1.59</b>\n",
    "\n",
    "=======================================================================\n",
    "Now you can compare -2.1 with -1.59 instead of comparing 790 with 1.0.\n",
    "\n"
   ]
  },
  {
   "cell_type": "code",
   "execution_count": 6,
   "metadata": {},
   "outputs": [
    {
     "name": "stdout",
     "output_type": "stream",
     "text": [
      "[[-1.63912856 -0.99658819]\n",
      " [ 0.71073169 -0.18455337]\n",
      " [-0.75634322 -0.99658819]\n",
      " [-1.16280554 -1.40260559]\n",
      " [ 0.58371221  1.03349886]\n",
      " [-0.75634322 -0.99658819]\n",
      " [ 0.38683203  0.62748145]\n",
      " [ 2.01268128  1.03349886]\n",
      " [ 0.40588495  1.03349886]\n",
      " [ 0.64722195  1.43951627]\n",
      " [-0.43244357 -0.59057078]]\n"
     ]
    }
   ],
   "source": [
    "# You do not have to do this manually, the Python sklearn module has a method called StandardScaler() which returns a Scaler object with methods for transforming data sets.\n",
    "\n",
    "import pandas\n",
    "from sklearn import linear_model\n",
    "from sklearn.preprocessing import StandardScaler\n",
    "scale = StandardScaler()\n",
    "\n",
    "X = df[['Weight', 'Volume']]\n",
    "\n",
    "scaledX = scale.fit_transform(X)\n",
    "print(scaledX)"
   ]
  },
  {
   "attachments": {},
   "cell_type": "markdown",
   "metadata": {},
   "source": [
    "### Predict C02 Values\n",
    "\n",
    "The task in the Multiple Regression chapter was to predict the C02 emission(排放) from a car when you only knew its weight and volume."
   ]
  },
  {
   "cell_type": "code",
   "execution_count": 9,
   "metadata": {},
   "outputs": [
    {
     "name": "stdout",
     "output_type": "stream",
     "text": [
      "[70.61617472]\n"
     ]
    },
    {
     "name": "stderr",
     "output_type": "stream",
     "text": [
      "c:\\Users\\PAN\\anaconda3\\lib\\site-packages\\sklearn\\base.py:450: UserWarning: X does not have valid feature names, but StandardScaler was fitted with feature names\n",
      "  warnings.warn(\n"
     ]
    }
   ],
   "source": [
    "import pandas\n",
    "from sklearn import linear_model\n",
    "from sklearn.preprocessing import StandardScaler\n",
    "scale = StandardScaler()\n",
    "\n",
    "X = df[['Weight', 'Volume']]\n",
    "y = df['CO2']\n",
    "\n",
    "scaledX = scale.fit_transform(X)\n",
    "\n",
    "regr = linear_model.LinearRegression()\n",
    "regr.fit(scaledX, y)\n",
    "\n",
    "scaled = scale.transform([[2300, 1.3]])\n",
    "\n",
    "predictedC02 = regr.predict([scaled[0]])\n",
    "print(predictedC02)"
   ]
  },
  {
   "attachments": {},
   "cell_type": "markdown",
   "metadata": {},
   "source": [
    "### 【小补充】数据预处理-fit_transform()\n",
    "\n",
    "<b>fit_transform():</b>\n",
    "<br>fit_transform(partData)是先對partData作fit()的功能，找到該partData的整體統計特性之指標，如平均值、標準差、最大最小值等等(能依據不同目的套用這些指標在不同的轉換(即後面的transform()動作)上，再實行transform(partData)以對partData進行標準化或歸一化等動作."
   ]
  },
  {
   "attachments": {},
   "cell_type": "markdown",
   "metadata": {},
   "source": [
    "---\n",
    "## Evaluate Your Model 评估模型\n",
    "In Machine Learning we create models to predit the outcome of certain events, like in the previous chaptere where we predicted the C02 emission of a car when we knew the weight and engine size.\n",
    "\n",
    "To measure(衡量) if the model is good enough, we can use a method called Train/Test."
   ]
  },
  {
   "attachments": {},
   "cell_type": "markdown",
   "metadata": {},
   "source": [
    "### What is Train/Test\n",
    "\n",
    "Train/Test is a method to measure the accuracy of your model.\n",
    "\n",
    "It is called Train/Test because you split the the data set into two sets:\n",
    "\n",
    "- a training set\n",
    "- a testing set\n",
    "\n",
    "=======================================================================\n",
    "\n",
    "80% for training, and 20% for testing.\n",
    "\n",
    "=======================================================================\n",
    "\n",
    "You train the model using the training set.\n",
    "<br>You test the model using the testing set.\n",
    "\n",
    "Train the model means create the model.\n",
    "<br>Test the model means test the accuracy of the model."
   ]
  },
  {
   "attachments": {},
   "cell_type": "markdown",
   "metadata": {},
   "source": [
    "### Start With a Data Set\n",
    "\n",
    "Start with a data set you want to test.\n",
    "\n",
    "Our data set illustrates(说明) 100 customers in a shop, and their shopping habits."
   ]
  },
  {
   "cell_type": "code",
   "execution_count": 11,
   "metadata": {},
   "outputs": [
    {
     "data": {
      "image/png": "[encoded data removed]",
      "text/plain": [
       "<Figure size 640x480 with 1 Axes>"
      ]
     },
     "metadata": {},
     "output_type": "display_data"
    }
   ],
   "source": [
    "import numpy as np\n",
    "import matplotlib.pyplot as plt\n",
    "\n",
    "# 关于random.seed的设置\n",
    "# 使用seed()，则每次生成的随机数都相同。\n",
    "# 而括号内的次数，代表随机几次的值保证几次有效。\n",
    "np.random.seed(2)\n",
    "\n",
    "# numpy.random.normal(loc=0.0, scale=1.0, size=None)\n",
    "# loc: 此概率分布的均值\n",
    "# scale：此概率分布的标准差（对应分布的宽度，scale越大越矮胖，scale越小，越瘦高）\n",
    "# size：输出的shape\n",
    "x = np.random.normal(3, 1, 100)\n",
    "y = np.random.normal(150, 40, 100)/x\n",
    "\n",
    "\n",
    "# x 轴代表购买前的分钟数，y轴表示在购买上发费的金额。\n",
    "plt.scatter(x,y)\n",
    "plt.show()"
   ]
  },
  {
   "attachments": {},
   "cell_type": "markdown",
   "metadata": {},
   "source": [
    "### Split into Train/Test\n",
    "\n",
    "The training set should be a random selection of 80% of the original data.\n",
    "\n",
    "The testing set should be the remaining 20%."
   ]
  },
  {
   "cell_type": "code",
   "execution_count": 19,
   "metadata": {},
   "outputs": [],
   "source": [
    "train_x = x[:80]\n",
    "train_y = y[:80]\n",
    "\n",
    "test_x = x[80:]\n",
    "test_y = y[80:]"
   ]
  },
  {
   "attachments": {},
   "cell_type": "markdown",
   "metadata": {},
   "source": [
    "### Display the Training Set\n",
    "\n",
    "Display the same scatter plot with the training set:"
   ]
  },
  {
   "cell_type": "code",
   "execution_count": 20,
   "metadata": {},
   "outputs": [
    {
     "data": {
      "text/plain": [
       "<function matplotlib.pyplot.show(close=None, block=None)>"
      ]
     },
     "execution_count": 20,
     "metadata": {},
     "output_type": "execute_result"
    },
    {
     "data": {
      "image/png": "[encoded data removed]",
      "text/plain": [
       "<Figure size 640x480 with 1 Axes>"
      ]
     },
     "metadata": {},
     "output_type": "display_data"
    }
   ],
   "source": [
    "plt.scatter(train_x,train_y)\n",
    "plt.show"
   ]
  },
  {
   "attachments": {},
   "cell_type": "markdown",
   "metadata": {},
   "source": [
    "### Display the Testing Set\n",
    "\n",
    "To make sure the testing set is not completely different, we will take a look at the testing set as well."
   ]
  },
  {
   "cell_type": "code",
   "execution_count": 21,
   "metadata": {},
   "outputs": [
    {
     "data": {
      "text/plain": [
       "<function matplotlib.pyplot.show(close=None, block=None)>"
      ]
     },
     "execution_count": 21,
     "metadata": {},
     "output_type": "execute_result"
    },
    {
     "data": {
      "image/png": "[encoded data removed]",
      "text/plain": [
       "<Figure size 640x480 with 1 Axes>"
      ]
     },
     "metadata": {},
     "output_type": "display_data"
    }
   ],
   "source": [
    "plt.scatter(test_x,test_y)\n",
    "plt.show"
   ]
  },
  {
   "attachments": {},
   "cell_type": "markdown",
   "metadata": {},
   "source": [
    "### Fit the Data Set\n",
    "\n",
    "The best fit would be a polynomial regression, so let us draw a line of polynomial regression.\n",
    "\n",
    "回顾：所有数据点之间如果是直线可以使用线性回归，而其他的话多项式回归则是更为理想的选择。"
   ]
  },
  {
   "cell_type": "code",
   "execution_count": 47,
   "metadata": {},
   "outputs": [
    {
     "data": {
      "image/png": "[encoded data removed]",
      "text/plain": [
       "<Figure size 640x480 with 1 Axes>"
      ]
     },
     "metadata": {},
     "output_type": "display_data"
    }
   ],
   "source": [
    "import numpy\n",
    "import matplotlib.pyplot as plt\n",
    "numpy.random.seed(2)\n",
    "\n",
    "x = numpy.random.normal(3, 1, 100)\n",
    "y = numpy.random.normal(150, 40, 100) / x\n",
    "\n",
    "train_x = x[:80]\n",
    "train_y = y[:80]\n",
    "\n",
    "test_x = x[80:]\n",
    "test_y = y[80:]\n",
    "\n",
    "# polyfit函数可以使用最小二乘法将一些点拟合成一条曲线.\n",
    "# numpy.polyfit(x, y, deg, rcond=None, full=False, w=None, cov=False)\n",
    "# x:要拟合点的横坐标\n",
    "# y:要拟合点的纵坐标\n",
    "# deg:自由度.例如:自由度为2,那么拟合出来的曲线就是二次函数,自由度是3,拟合出来的曲线就是3次函数\n",
    "mymodel = numpy.poly1d(numpy.polyfit(train_x, train_y, 6))\n",
    "\n",
    "# 显示方式，位置从0开始，到位置6前结束\n",
    "myline = numpy.linspace(0, 6, 100)\n",
    "\n",
    "# plt.scatter() 散点图\n",
    "plt.scatter(train_x, train_y)\n",
    "plt.plot(myline, mymodel(myline))\n",
    "plt.show()"
   ]
  },
  {
   "attachments": {},
   "cell_type": "markdown",
   "metadata": {},
   "source": [
    "The result can back my suggestion of the data set fitting a polynomial regression,even though it would give us some weird results if we try to predict values outside of the data set.\n",
    "\n",
    "But what about the R-squared score? The R-squared score is a good indicator(指示) of how well my data set is fitting the model."
   ]
  },
  {
   "attachments": {},
   "cell_type": "markdown",
   "metadata": {},
   "source": [
    "### R2(R-squared)\n",
    "\n",
    "It measures the relationship between the x axis and the y axis, and the value ranges from 0 to 1, where 0 means no relationship, and 1 means totally related.\n",
    "\n",
    "The sklearn module has a method called r2_score() that will help us find this relationship."
   ]
  },
  {
   "cell_type": "code",
   "execution_count": 29,
   "metadata": {},
   "outputs": [
    {
     "name": "stdout",
     "output_type": "stream",
     "text": [
      "0.7988645544629797\n"
     ]
    }
   ],
   "source": [
    "import numpy\n",
    "from sklearn.metrics import r2_score\n",
    "numpy.random.seed(2)\n",
    "\n",
    "x = numpy.random.normal(3, 1, 100)\n",
    "y = numpy.random.normal(150, 40, 100) / x\n",
    "\n",
    "train_x = x[:80]\n",
    "train_y = y[:80]\n",
    "\n",
    "test_x = x[80:]\n",
    "test_y = y[80:]\n",
    "\n",
    "mymodel = numpy.poly1d(numpy.polyfit(train_x, train_y, 4))\n",
    "\n",
    "r2 = r2_score(train_y, mymodel(train_x))\n",
    "print(r2)"
   ]
  },
  {
   "attachments": {},
   "cell_type": "markdown",
   "metadata": {},
   "source": [
    "### Bring in the testing Set\n",
    "\n",
    "Now we have made a model that is OK, at least when it comes to training data.\n",
    "\n",
    "Now we want to test the model with the testing data as well, to see if gives us the same result."
   ]
  },
  {
   "cell_type": "code",
   "execution_count": 52,
   "metadata": {},
   "outputs": [
    {
     "name": "stdout",
     "output_type": "stream",
     "text": [
      "0.9157298277696919\n"
     ]
    }
   ],
   "source": [
    "# Let us find the R2 score when using testing data:\n",
    "import numpy as np\n",
    "from sklearn.metrics import r2_score\n",
    "numpy.random.seed(2)\n",
    "\n",
    "x = np.random.normal(3, 1, 100)\n",
    "y = np.random.normal(150, 40, 100) / x\n",
    "\n",
    "train_x = x[:80]\n",
    "train_y = y[:80]\n",
    "\n",
    "test_x = x[80:]\n",
    "test_y = y[80:]\n",
    "\n",
    "mymodel = numpy.poly1d(numpy.polyfit(train_x, train_y, 6))\n",
    "\n",
    "r2 = r2_score(test_y, mymodel(test_x))\n",
    "\n",
    "print(r2)\n",
    "# The result 0.809 shows that the model fits the testing set as well, and we are confident that we can use the model to predict future values."
   ]
  },
  {
   "attachments": {},
   "cell_type": "markdown",
   "metadata": {},
   "source": [
    "### Predict Values\n",
    "\n",
    "Now that we have established that our model is OK, we can start predicting new values.\n",
    "\n",
    "The example predicted the customer rto spend 12.14 dollars, as seems to correspond to the diagram:"
   ]
  },
  {
   "cell_type": "code",
   "execution_count": 53,
   "metadata": {},
   "outputs": [
    {
     "name": "stdout",
     "output_type": "stream",
     "text": [
      "12.141976960887291\n"
     ]
    }
   ],
   "source": [
    "# How much money will a buying customer spend, if she or he stays in the shop for 5 minutes?\n",
    "\n",
    "print(mymodel(5))"
   ]
  },
  {
   "attachments": {},
   "cell_type": "markdown",
   "metadata": {},
   "source": [
    "---\n",
    "## Decision Tree 决策树\n",
    "\n",
    "![jupyter](./00%20img/img_ml_decision_tree.png)\n",
    "\n",
    "### Decision Tree\n",
    "\n",
    "A Decision Tree is a Flow Chart(流程图), and can help you make decisions based on previous experience(按照之前的经验来做出决策树).\n",
    "\n",
    "In the example, a person will try to decide if he/she should go to a comedy(喜剧) show or not.\n",
    "\n",
    "Luckily our example person has registered every time there was a comedy show in town, and registered some information about the comedian(喜剧演员) and also registered if he/she went or not."
   ]
  },
  {
   "attachments": {},
   "cell_type": "markdown",
   "metadata": {},
   "source": [
    "### How Does it Work?\n",
    "\n",
    "First, use requests and beautifulSoup to get clean data with pandas:"
   ]
  },
  {
   "cell_type": "code",
   "execution_count": 2,
   "metadata": {},
   "outputs": [
    {
     "data": {
      "text/html": [
       "<div>\n",
       "<style scoped>\n",
       "    .dataframe tbody tr th:only-of-type {\n",
       "        vertical-align: middle;\n",
       "    }\n",
       "\n",
       "    .dataframe tbody tr th {\n",
       "        vertical-align: top;\n",
       "    }\n",
       "\n",
       "    .dataframe thead th {\n",
       "        text-align: right;\n",
       "    }\n",
       "</style>\n",
       "<table border=\"1\" class=\"dataframe\">\n",
       "  <thead>\n",
       "    <tr style=\"text-align: right;\">\n",
       "      <th></th>\n",
       "      <th>Age</th>\n",
       "      <th>Experience</th>\n",
       "      <th>Rank</th>\n",
       "      <th>Nationality</th>\n",
       "      <th>Go</th>\n",
       "    </tr>\n",
       "  </thead>\n",
       "  <tbody>\n",
       "    <tr>\n",
       "      <th>0</th>\n",
       "      <td>36</td>\n",
       "      <td>10</td>\n",
       "      <td>9</td>\n",
       "      <td>UK</td>\n",
       "      <td>NO</td>\n",
       "    </tr>\n",
       "    <tr>\n",
       "      <th>1</th>\n",
       "      <td>42</td>\n",
       "      <td>12</td>\n",
       "      <td>4</td>\n",
       "      <td>USA</td>\n",
       "      <td>NO</td>\n",
       "    </tr>\n",
       "    <tr>\n",
       "      <th>2</th>\n",
       "      <td>23</td>\n",
       "      <td>4</td>\n",
       "      <td>6</td>\n",
       "      <td>N</td>\n",
       "      <td>NO</td>\n",
       "    </tr>\n",
       "    <tr>\n",
       "      <th>3</th>\n",
       "      <td>52</td>\n",
       "      <td>4</td>\n",
       "      <td>4</td>\n",
       "      <td>USA</td>\n",
       "      <td>NO</td>\n",
       "    </tr>\n",
       "    <tr>\n",
       "      <th>4</th>\n",
       "      <td>43</td>\n",
       "      <td>21</td>\n",
       "      <td>8</td>\n",
       "      <td>USA</td>\n",
       "      <td>YES</td>\n",
       "    </tr>\n",
       "    <tr>\n",
       "      <th>5</th>\n",
       "      <td>44</td>\n",
       "      <td>14</td>\n",
       "      <td>5</td>\n",
       "      <td>UK</td>\n",
       "      <td>NO</td>\n",
       "    </tr>\n",
       "    <tr>\n",
       "      <th>6</th>\n",
       "      <td>66</td>\n",
       "      <td>3</td>\n",
       "      <td>7</td>\n",
       "      <td>N</td>\n",
       "      <td>YES</td>\n",
       "    </tr>\n",
       "    <tr>\n",
       "      <th>7</th>\n",
       "      <td>35</td>\n",
       "      <td>14</td>\n",
       "      <td>9</td>\n",
       "      <td>UK</td>\n",
       "      <td>YES</td>\n",
       "    </tr>\n",
       "    <tr>\n",
       "      <th>8</th>\n",
       "      <td>52</td>\n",
       "      <td>13</td>\n",
       "      <td>7</td>\n",
       "      <td>N</td>\n",
       "      <td>YES</td>\n",
       "    </tr>\n",
       "    <tr>\n",
       "      <th>9</th>\n",
       "      <td>35</td>\n",
       "      <td>5</td>\n",
       "      <td>9</td>\n",
       "      <td>N</td>\n",
       "      <td>YES</td>\n",
       "    </tr>\n",
       "    <tr>\n",
       "      <th>10</th>\n",
       "      <td>24</td>\n",
       "      <td>3</td>\n",
       "      <td>5</td>\n",
       "      <td>USA</td>\n",
       "      <td>NO</td>\n",
       "    </tr>\n",
       "    <tr>\n",
       "      <th>11</th>\n",
       "      <td>18</td>\n",
       "      <td>3</td>\n",
       "      <td>7</td>\n",
       "      <td>UK</td>\n",
       "      <td>YES</td>\n",
       "    </tr>\n",
       "    <tr>\n",
       "      <th>12</th>\n",
       "      <td>45</td>\n",
       "      <td>9</td>\n",
       "      <td>9</td>\n",
       "      <td>UK</td>\n",
       "      <td>YES</td>\n",
       "    </tr>\n",
       "  </tbody>\n",
       "</table>\n",
       "</div>"
      ],
      "text/plain": [
       "   Age Experience Rank Nationality   Go\n",
       "0   36         10    9          UK   NO\n",
       "1   42         12    4         USA   NO\n",
       "2   23          4    6           N   NO\n",
       "3   52          4    4         USA   NO\n",
       "4   43         21    8         USA  YES\n",
       "5   44         14    5          UK   NO\n",
       "6   66          3    7           N  YES\n",
       "7   35         14    9          UK  YES\n",
       "8   52         13    7           N  YES\n",
       "9   35          5    9           N  YES\n",
       "10  24          3    5         USA   NO\n",
       "11  18          3    7          UK  YES\n",
       "12  45          9    9          UK  YES"
      ]
     },
     "execution_count": 2,
     "metadata": {},
     "output_type": "execute_result"
    }
   ],
   "source": [
    "# https://leemeng.tw/beautifulsoup-cheat-sheet.html\n",
    "import requests\n",
    "from bs4 import BeautifulSoup\n",
    "import pandas as pd\n",
    "\n",
    "# 爬虫\n",
    "url = \"https://www.w3schools.com/python/python_ml_decision_tree.asp\"\n",
    "web = requests.get(url)\n",
    "\n",
    "soup = BeautifulSoup(web.text, \"lxml\")\n",
    "table = soup.find('table',{'class':'ws-table-all'})\n",
    "\n",
    "# 整理出標題\n",
    "# 找出table中所有的td\n",
    "columns = [td.text.replace(',','') for td in table.find_all('td')]\n",
    "column = columns[:5]\n",
    "trs = table.find_all('tr')[1:]\n",
    "\n",
    "# 整理出內容\n",
    "rows = list()\n",
    "for tr in trs:\n",
    "    rows.append([td.text.replace('\\n', '').replace('\\xa0', '') for td in tr.find_all('td')])\n",
    "\n",
    "# 制作DataFrame   \n",
    "df = pd.DataFrame(data=rows, columns=column)\n",
    "df"
   ]
  },
  {
   "attachments": {},
   "cell_type": "markdown",
   "metadata": {},
   "source": [
    "To make a decision tree, all data has to be numerical(數字).\n",
    "\n",
    "We have to convert the non numerical columns ‘Nationality’ and ‘Go’ into numerical values.\n",
    "\n",
    "Pandas has a map() method that takes a dictionary with information on how to convert the values.\n",
    "\n",
    "{'UK':0, 'USA': 1, 'N': 2}\n",
    "\n",
    "Means convert the values 'UK' to 0, 'USA' to 1 and 'N' to 2."
   ]
  },
  {
   "cell_type": "code",
   "execution_count": 3,
   "metadata": {},
   "outputs": [
    {
     "data": {
      "text/html": [
       "<div>\n",
       "<style scoped>\n",
       "    .dataframe tbody tr th:only-of-type {\n",
       "        vertical-align: middle;\n",
       "    }\n",
       "\n",
       "    .dataframe tbody tr th {\n",
       "        vertical-align: top;\n",
       "    }\n",
       "\n",
       "    .dataframe thead th {\n",
       "        text-align: right;\n",
       "    }\n",
       "</style>\n",
       "<table border=\"1\" class=\"dataframe\">\n",
       "  <thead>\n",
       "    <tr style=\"text-align: right;\">\n",
       "      <th></th>\n",
       "      <th>Age</th>\n",
       "      <th>Experience</th>\n",
       "      <th>Rank</th>\n",
       "      <th>Nationality</th>\n",
       "      <th>Go</th>\n",
       "    </tr>\n",
       "  </thead>\n",
       "  <tbody>\n",
       "    <tr>\n",
       "      <th>0</th>\n",
       "      <td>36</td>\n",
       "      <td>10</td>\n",
       "      <td>9</td>\n",
       "      <td>0</td>\n",
       "      <td>0</td>\n",
       "    </tr>\n",
       "    <tr>\n",
       "      <th>1</th>\n",
       "      <td>42</td>\n",
       "      <td>12</td>\n",
       "      <td>4</td>\n",
       "      <td>1</td>\n",
       "      <td>0</td>\n",
       "    </tr>\n",
       "    <tr>\n",
       "      <th>2</th>\n",
       "      <td>23</td>\n",
       "      <td>4</td>\n",
       "      <td>6</td>\n",
       "      <td>2</td>\n",
       "      <td>0</td>\n",
       "    </tr>\n",
       "    <tr>\n",
       "      <th>3</th>\n",
       "      <td>52</td>\n",
       "      <td>4</td>\n",
       "      <td>4</td>\n",
       "      <td>1</td>\n",
       "      <td>0</td>\n",
       "    </tr>\n",
       "    <tr>\n",
       "      <th>4</th>\n",
       "      <td>43</td>\n",
       "      <td>21</td>\n",
       "      <td>8</td>\n",
       "      <td>1</td>\n",
       "      <td>1</td>\n",
       "    </tr>\n",
       "    <tr>\n",
       "      <th>5</th>\n",
       "      <td>44</td>\n",
       "      <td>14</td>\n",
       "      <td>5</td>\n",
       "      <td>0</td>\n",
       "      <td>0</td>\n",
       "    </tr>\n",
       "    <tr>\n",
       "      <th>6</th>\n",
       "      <td>66</td>\n",
       "      <td>3</td>\n",
       "      <td>7</td>\n",
       "      <td>2</td>\n",
       "      <td>1</td>\n",
       "    </tr>\n",
       "    <tr>\n",
       "      <th>7</th>\n",
       "      <td>35</td>\n",
       "      <td>14</td>\n",
       "      <td>9</td>\n",
       "      <td>0</td>\n",
       "      <td>1</td>\n",
       "    </tr>\n",
       "    <tr>\n",
       "      <th>8</th>\n",
       "      <td>52</td>\n",
       "      <td>13</td>\n",
       "      <td>7</td>\n",
       "      <td>2</td>\n",
       "      <td>1</td>\n",
       "    </tr>\n",
       "    <tr>\n",
       "      <th>9</th>\n",
       "      <td>35</td>\n",
       "      <td>5</td>\n",
       "      <td>9</td>\n",
       "      <td>2</td>\n",
       "      <td>1</td>\n",
       "    </tr>\n",
       "    <tr>\n",
       "      <th>10</th>\n",
       "      <td>24</td>\n",
       "      <td>3</td>\n",
       "      <td>5</td>\n",
       "      <td>1</td>\n",
       "      <td>0</td>\n",
       "    </tr>\n",
       "    <tr>\n",
       "      <th>11</th>\n",
       "      <td>18</td>\n",
       "      <td>3</td>\n",
       "      <td>7</td>\n",
       "      <td>0</td>\n",
       "      <td>1</td>\n",
       "    </tr>\n",
       "    <tr>\n",
       "      <th>12</th>\n",
       "      <td>45</td>\n",
       "      <td>9</td>\n",
       "      <td>9</td>\n",
       "      <td>0</td>\n",
       "      <td>1</td>\n",
       "    </tr>\n",
       "  </tbody>\n",
       "</table>\n",
       "</div>"
      ],
      "text/plain": [
       "   Age Experience Rank  Nationality  Go\n",
       "0   36         10    9            0   0\n",
       "1   42         12    4            1   0\n",
       "2   23          4    6            2   0\n",
       "3   52          4    4            1   0\n",
       "4   43         21    8            1   1\n",
       "5   44         14    5            0   0\n",
       "6   66          3    7            2   1\n",
       "7   35         14    9            0   1\n",
       "8   52         13    7            2   1\n",
       "9   35          5    9            2   1\n",
       "10  24          3    5            1   0\n",
       "11  18          3    7            0   1\n",
       "12  45          9    9            0   1"
      ]
     },
     "execution_count": 3,
     "metadata": {},
     "output_type": "execute_result"
    }
   ],
   "source": [
    "# Example\n",
    "# Change string values into numerical values:\n",
    "d = {'UK': 0, 'USA': 1, 'N':2}\n",
    "df['Nationality'] = df['Nationality'].map(d)\n",
    "d = {'YES': 1, 'NO': 0}\n",
    "df['Go'] = df['Go'].map(d)\n",
    "\n",
    "df"
   ]
  },
  {
   "attachments": {},
   "cell_type": "markdown",
   "metadata": {},
   "source": [
    "Then we have to separate(分開) the <u>feature columns(功能列)</u> from the target column.\n",
    "\n",
    "The feature columns are the columns that we try to predict from, and the target columns is the column with the values we try to predict."
   ]
  },
  {
   "cell_type": "code",
   "execution_count": 4,
   "metadata": {},
   "outputs": [
    {
     "name": "stdout",
     "output_type": "stream",
     "text": [
      "   Age Experience Rank  Nationality\n",
      "0   36         10    9            0\n",
      "1   42         12    4            1\n",
      "2   23          4    6            2\n",
      "3   52          4    4            1\n",
      "4   43         21    8            1\n",
      "5   44         14    5            0\n",
      "6   66          3    7            2\n",
      "7   35         14    9            0\n",
      "8   52         13    7            2\n",
      "9   35          5    9            2\n",
      "10  24          3    5            1\n",
      "11  18          3    7            0\n",
      "12  45          9    9            0\n",
      "0     0\n",
      "1     0\n",
      "2     0\n",
      "3     0\n",
      "4     1\n",
      "5     0\n",
      "6     1\n",
      "7     1\n",
      "8     1\n",
      "9     1\n",
      "10    0\n",
      "11    1\n",
      "12    1\n",
      "Name: Go, dtype: int64\n"
     ]
    }
   ],
   "source": [
    "# X is the feature columns, y is the target column:\n",
    "# X 是功能列，y 是目標列：\n",
    "\n",
    "features = ['Age', 'Experience', 'Rank', 'Nationality']\n",
    "\n",
    "X = df[features]\n",
    "y = df['Go']\n",
    "\n",
    "print(X)\n",
    "print(y)"
   ]
  },
  {
   "attachments": {},
   "cell_type": "markdown",
   "metadata": {},
   "source": [
    "Now we can create the actual decision tree, fit it with our details. Start by importing the modules we need:"
   ]
  },
  {
   "cell_type": "code",
   "execution_count": 13,
   "metadata": {},
   "outputs": [
    {
     "data": {
      "text/plain": [
       "[Text(0.4, 0.875, 'Rank <= 6.5\\ngini = 0.497\\nsamples = 13\\nvalue = [6, 7]'),\n",
       " Text(0.2, 0.625, 'gini = 0.0\\nsamples = 5\\nvalue = [5, 0]'),\n",
       " Text(0.6, 0.625, 'Age <= 39.5\\ngini = 0.219\\nsamples = 8\\nvalue = [1, 7]'),\n",
       " Text(0.4, 0.375, 'Age <= 35.5\\ngini = 0.375\\nsamples = 4\\nvalue = [1, 3]'),\n",
       " Text(0.2, 0.125, 'gini = 0.0\\nsamples = 3\\nvalue = [0, 3]'),\n",
       " Text(0.6, 0.125, 'gini = 0.0\\nsamples = 1\\nvalue = [1, 0]'),\n",
       " Text(0.8, 0.375, 'gini = 0.0\\nsamples = 4\\nvalue = [0, 4]')]"
      ]
     },
     "execution_count": 13,
     "metadata": {},
     "output_type": "execute_result"
    },
    {
     "data": {
      "image/png": "[encoded data removed]",
      "text/plain": [
       "<Figure size 640x480 with 1 Axes>"
      ]
     },
     "metadata": {},
     "output_type": "display_data"
    }
   ],
   "source": [
    "# https://leemeng.tw/beautifulsoup-cheat-sheet.html\n",
    "import requests\n",
    "from bs4 import BeautifulSoup\n",
    "import pandas as pd\n",
    "from sklearn import tree\n",
    "from sklearn.tree import DecisionTreeClassifier\n",
    "import matplotlib.pyplot as plt\n",
    "import sys\n",
    "\n",
    "# 爬虫\n",
    "url = \"https://www.w3schools.com/python/python_ml_decision_tree.asp\"\n",
    "web = requests.get(url)\n",
    "\n",
    "soup = BeautifulSoup(web.text, \"lxml\")\n",
    "table = soup.find('table',{'class':'ws-table-all'})\n",
    "\n",
    "# 整理出標題\n",
    "# 找出table中所有的td\n",
    "columns = [td.text.replace(',','') for td in table.find_all('td')]\n",
    "column = columns[:5]\n",
    "trs = table.find_all('tr')[1:]\n",
    "\n",
    "# 整理出內容\n",
    "rows = list()\n",
    "for tr in trs:\n",
    "    rows.append([td.text.replace('\\n', '').replace('\\xa0', '') for td in tr.find_all('td')])\n",
    "\n",
    "# 制作DataFrame   \n",
    "df = pd.DataFrame(data=rows, columns=column)\n",
    "\n",
    "# 【將表格全部轉換成數字】\n",
    "# ==========================================================================================\n",
    "d = {'UK': 0, 'USA': 1, 'N':2}\n",
    "df['Nationality'] = df['Nationality'].map(d)\n",
    "d = {'YES': 1, 'NO': 0}\n",
    "df['Go'] = df['Go'].map(d)\n",
    "# ==========================================================================================\n",
    "\n",
    "# 【設定功能列以及目標列】\n",
    "# ==========================================================================================\n",
    "features = ['Age', 'Experience', 'Rank', 'Nationality']\n",
    "\n",
    "X = df[features]\n",
    "y = df['Go']\n",
    "# ==========================================================================================\n",
    "\n",
    "dtree = DecisionTreeClassifier()\n",
    "dtree = dtree.fit(X,y)\n",
    "\n",
    "tree.plot_tree(dtree, feature_names=features)\n",
    "\n",
    "# NOTE:\n",
    "#You will see that the Decision Tree gives you different results if you run it enough times, even if you feed it with the same data.\n",
    "\n",
    "#That is because the Decision Tree does not give us a 100% certain answer. It is based on the probability of an outcome, and the answer will vary."
   ]
  },
  {
   "attachments": {},
   "cell_type": "markdown",
   "metadata": {},
   "source": [
    "### Result Explained 解釋結果\n",
    "\n",
    "The decision tree uses your earliere decisions to calculate the odds(可能性) for you to wanting to go see a comedian or not.\n",
    "\n",
    "Let us read the different aspects of the decision tree:\n",
    "\n",
    "![jupyter](./00%20img/decisionTree_resultExplained01.png)\n",
    "\n",
    "<b>Rank</b>\n",
    "\n",
    "- Rank <= 6.5：means that every comedian with a rank of 6.5 or lower will follow the True arrow (to the left), and the rest will follow the false arrow(to the right).\n",
    "\n",
    "- gini = 0.497：refers(指的是) to the <u>quality of the split(分割的质量)</u>, and is always a number between 0.0 and 0.5, where 0.0 would mean all of the samples got the same result, and 0.5 would mean that the split is done exactly in the middle.\n",
    "\n",
    "- samples = 13：means that there are 13 comedians left at this point in the decision, which is all of them since the is the first step.\n",
    "\n",
    "- value = [6,7]：means that of these 13 comedians, 6 will get a 'No', and 7 will get a 'Go'.\n",
    "\n",
    "<b>Gini</b>\n",
    "\n",
    "There are many ways to split the samples, we use the GINI method in this tutorial.\n",
    "\n",
    "The Gini method uses this formula:\n",
    "\n",
    "- Gini = 1 - (x/n)2 + (y/n)2\n",
    "\n",
    "Where x is the number of positive answers(\"Go\"), n is the number of samples, and y is the number of negative answers(\"No\"), which gives us this calculation:\n",
    "\n",
    "其中，x 是肯定答案的数量（\"Go\"），n 是样本数量，y 是否定答案数量（“No”），最后我们得到的答案是约等于0.5一半一半的选择：\n",
    "\n",
    "- 1 - (7 / 13)2 + (6 / 13)2 = 0.497\n"
   ]
  },
  {
   "attachments": {},
   "cell_type": "markdown",
   "metadata": {},
   "source": [
    "![jupyter](./00%20img/decisionTree_resultExplained02.png)\n",
    "\n",
    "The next step contains two boxes, one box for the comedians with a 'Rank' of 6.5 or lower, and one boe with the rest.\n",
    "\n",
    "<b>True - 5 Comedians End Here:</b>\n",
    "\n",
    "- gini = 0.0：means all of the samples got the same result.\n",
    "\n",
    "- samples = 5： mean that there are 5 comedians left in this branch(5 comedian with a Rank of 6.5 or lower).\n",
    "\n",
    "- value = [5, 0]：means that 5 will get a \"No\" and 0 will get a \"Go\"\n",
    "\n",
    "<b>False - 8 Comedians Continue:</b>\n",
    "\n",
    "- Nationality <= 0.5：means that the comedians with a nationality value of less that 0.5 will follow the arrow to the left(which means everyone from the UK), and the rest will follow the arrow to the right.\n",
    "\n",
    "- gini = 0.219：means that about 22% of the samples would go in one direction.(意味着大约22%的样本会朝向一个方向移动)\n",
    "\n",
    "- samples = 8：means that there are 8 comedians left in this branch(8 comedian with a Rank higher than 6.5).\n",
    "\n",
    "- value = [1, 7]: means that of there 8 comedians, 1 will get a \"No\" and 7 will get a \"Go\"."
   ]
  },
  {
   "attachments": {},
   "cell_type": "markdown",
   "metadata": {},
   "source": [
    "![jupyter](./00%20img/decisionTree_resultExplained03.png)\n",
    "\n",
    "<b>True - 4 Comedians Continue:</b>\n",
    "\n",
    " - Age <= 35.5：means that comedians at the age of 35.5 or younger will follow the arrow to the left, and the rest will follow the arrow to the right.\n",
    "\n",
    " - gini = 0.375：means that about 37.5% of the samples would go in one direction.\n",
    "\n",
    " - sampeles = 4：means that there are 4 comedians left in this branch(4 comedians from the UK).\n",
    "\n",
    " - value = [1, 3]：means that of these 4 comedians, 1 will get a \"No\" and 3 will get a \"Go\".\n",
    "\n",
    "<b>False - 4 Comedians End Here:</b>\n",
    "\n",
    " - gini = 0.0：means all of the samples got the same result.\n",
    "\n",
    " - samples = 4：means that there are 4 comedians left in this branch（4 comedians not from the UK）.\n",
    "\n",
    " - value = [0, 4]：means that of these 4 comedians，0 will get a \"No\" and 4 will get a \"Go\"\n",
    " "
   ]
  },
  {
   "attachments": {},
   "cell_type": "markdown",
   "metadata": {},
   "source": [
    "### Predict Values\n",
    "\n",
    "We can use the Decision Tree to predict new values.\n",
    "\n",
    "Example: Should i go to see a show starring a 40 years old American comedian, with 10 years of experience, and a comedy ranking of 7?"
   ]
  },
  {
   "cell_type": "code",
   "execution_count": 19,
   "metadata": {},
   "outputs": [
    {
     "name": "stdout",
     "output_type": "stream",
     "text": [
      "He will go\n"
     ]
    },
    {
     "name": "stderr",
     "output_type": "stream",
     "text": [
      "c:\\Users\\PAN\\anaconda3\\lib\\site-packages\\sklearn\\base.py:450: UserWarning: X does not have valid feature names, but DecisionTreeClassifier was fitted with feature names\n",
      "  warnings.warn(\n"
     ]
    }
   ],
   "source": [
    "answer = dtree.predict([[40, 10, 7, 1]])\n",
    "\n",
    "if answer == [1]:\n",
    "    print('He will go')\n",
    "else:\n",
    "    print('No, He wont')"
   ]
  },
  {
   "cell_type": "code",
   "execution_count": 20,
   "metadata": {},
   "outputs": [
    {
     "name": "stdout",
     "output_type": "stream",
     "text": [
      "No, He wont\n"
     ]
    },
    {
     "name": "stderr",
     "output_type": "stream",
     "text": [
      "c:\\Users\\PAN\\anaconda3\\lib\\site-packages\\sklearn\\base.py:450: UserWarning: X does not have valid feature names, but DecisionTreeClassifier was fitted with feature names\n",
      "  warnings.warn(\n"
     ]
    }
   ],
   "source": [
    "answer = dtree.predict([[40, 10, 6, 1]])\n",
    "\n",
    "if answer == [1]:\n",
    "    print('He will go')\n",
    "else:\n",
    "    print('No, He wont')"
   ]
  },
  {
   "attachments": {},
   "cell_type": "markdown",
   "metadata": {},
   "source": [
    "---\n",
    "### Confusion Matrix 混淆陣列、矩陣\n",
    "\n",
    "<b>What is confusion matrix?</b>\n",
    "\n",
    "It is a table that is used in classification problems to assess where errors in the model were made.\n",
    "<br>Confusion Matrix 是常用來評估分類模型準確性的工具。\n",
    "\n",
    "The rows represent the actual classes the outcomes should have been. \n",
    "<br>行表示實際列別。\n",
    "\n",
    "While the columns represent the predicions we have made. Using this table it is easy to see which predictions are wrong.\n",
    "<br>列則代表我們的預測，通過表格會非常轻松去判断预测与实际的对错。"
   ]
  },
  {
   "attachments": {},
   "cell_type": "markdown",
   "metadata": {},
   "source": [
    "### Example：Confusion Matrix Result\n",
    "\n",
    "![jupyter](./00%20img/confusionMatrix01.png)\n",
    "\n",
    "在混淆矩阵中，横轴上的标签标示样本的预测label，纵轴上的标签标示样本的实际label。所以，对角线上的数字表示预测label和真是label一致的数量，也就是预测正确的数量。对于其他位置的数字就表示预测错误的，举个例子，比如第2行、第1列，也就是对应着（airplane, automobile）位置的数字51，表示有51个真实label为automobile的样本被预测为了airplane。\n",
    "\n",
    "通过可视化的混淆矩阵，模型的误差，以及效果分类不好的类别，以及为什么不好，以及容易和哪个类之间出现误识别就一目了然了。"
   ]
  },
  {
   "attachments": {},
   "cell_type": "markdown",
   "metadata": {},
   "source": [
    "### Creating a Confusion Matrix\n",
    "\n",
    "Confusion matrixes can be created by predictions made from a logistic regression.\n",
    "\n",
    "For now we weill generate(生成) actual（实际） and predicted（预测值） values by utilizing Numpy.\n"
   ]
  },
  {
   "cell_type": "code",
   "execution_count": 15,
   "metadata": {},
   "outputs": [
    {
     "name": "stdout",
     "output_type": "stream",
     "text": [
      "[0 0 1 0 0 0 0 1 1 1]\n",
      "[1 3 2 1 3 3 3 3 5 1]\n",
      "0.4\n"
     ]
    }
   ],
   "source": [
    "import numpy as np\n",
    "\n",
    "# 例：一次抛1枚硬币实验，正面朝上发生的概率为0.5，做10次实验。\n",
    "# 求每次实验发生正面朝上的硬币个数\n",
    "test = np.random.binomial(1, 0.5, 10)\n",
    "test2 = np.random.binomial(5, 0.5, 10)\n",
    "print(test)\n",
    "print(test2)\n",
    "\n",
    "# 发生一正一反的概率是多少？\n",
    "probability = sum(test == 1)/10\n",
    "print(probability)"
   ]
  },
  {
   "cell_type": "code",
   "execution_count": 16,
   "metadata": {},
   "outputs": [
    {
     "data": {
      "image/png": "[encoded data removed]",
      "text/plain": [
       "<Figure size 640x480 with 2 Axes>"
      ]
     },
     "metadata": {},
     "output_type": "display_data"
    }
   ],
   "source": [
    "import numpy as np\n",
    "\n",
    "# numpy.random.binomial(n, p, size=None)\n",
    "# n: int型或者一个int型的数组，大于等于0，接受浮点数但会被截断（输入浮点数会被转换成整数使用）\n",
    "# p：float或者一组float数组\n",
    "# size：可选项，表示输出的大小 \n",
    "\n",
    "actual = np.random.binomial(1, 0.9, size = 1000)      # 实际\n",
    "predicted = np.random.binomial(1, 0.9, size = 1000)   # 预测\n",
    "\n",
    "# In order to create the confusion matrix we need to import metrics from the sklearn module.\n",
    "from sklearn import metrics\n",
    "\n",
    "confusion_matrix = metrics.confusion_matrix(actual, predicted)\n",
    "\n",
    "# To create a more interpretable visual display(可解释的视觉显示) we neet to convert the table into a confusion matrix display\n",
    "cm_display = metrics.ConfusionMatrixDisplay(confusion_matrix = confusion_matrix, display_labels= [False, True])\n",
    "\n",
    "# Vizualizing the display requires that we import pyplot from matplotlib\n",
    "import matplotlib.pyplot as plt\n",
    "\n",
    "cm_display.plot()\n",
    "plt.show()"
   ]
  },
  {
   "cell_type": "code",
   "execution_count": 20,
   "metadata": {},
   "outputs": [
    {
     "name": "stdout",
     "output_type": "stream",
     "text": [
      "[1 1 1 1 1 1 1 1 0 1]\n",
      "[1 1 1 1 1 1 1 1 1 1]\n"
     ]
    }
   ],
   "source": [
    "print(actual[:10])\n",
    "print(predicted[:10])"
   ]
  },
  {
   "attachments": {},
   "cell_type": "markdown",
   "metadata": {},
   "source": [
    "当我们使用一个二元分类模型来预测一个样本是“正例”还是“反例”时，混淆矩阵的例子如下：\n",
    "\n",
    "| | 预测 正列 | 预测 反例|\n",
    "| --- | --- | --- |\n",
    "| 实际 正例 | TN | FP |\n",
    "| 实际 反例 | FN | TP | \n",
    "\n",
    "- TN：预测为正例，实际上也是正例的数量\n",
    "- FP：预测为正例，实际上是反例的数量\n",
    "- FN：预测为反例，实际上是正例的数量\n",
    "- TP：预测为反例，实际上也是反例的数量\n",
    "\n",
    "通过这张表格我们可以很容易地确定哪些预测是错误的，并可以统计出几种常用的性能指标，如精确率，召回率，F1分数等。比如：`精确率= TP / (TP+FP)`\n",
    "\n",
    "通过对混淆矩阵的观察,我们可以得到模型的正确率,召回率,F1分数等,从而更好的评估模型的效果.\n"
   ]
  },
  {
   "attachments": {},
   "cell_type": "markdown",
   "metadata": {},
   "source": [
    "### Result Explained 解释结果\n",
    "\n",
    "The Confusion Matrix created has four different quadrants:\n",
    "\n",
    "- True Negative(Top-Left Quadrant)\n",
    "- False Positive(Top-Right Quadrant)\n",
    "- False Negative(Bottom-Left Quadrant)\n",
    "- True Positive(Bottom-Right Quadrant)\n",
    "\n",
    "True means that the values were accurately predicted, Fasle means that there was an error or wrong prediction.\n",
    "\n",
    "Now that we have made a Confusion Matrix, we can calculate different measures(测量) to <u>quantify the quality(量化质量)</u> of the model."
   ]
  },
  {
   "attachments": {},
   "cell_type": "markdown",
   "metadata": {},
   "source": [
    "### Created  Metrics 创建衡量标准\n",
    "\n",
    "The matrix provides us with many useful metrics that help us to evaluate(评估) out classification model.\n",
    "\n",
    "The different measures includ: Accuracy(准确性), Precision(精准性), Sensitivity(Recall)灵敏度，Specificity(特异性), and the F-score, explained below."
   ]
  },
  {
   "attachments": {},
   "cell_type": "markdown",
   "metadata": {},
   "source": [
    "### Accuracy 准确性\n",
    "\n",
    "<b>How to Calculate</b>\n",
    "\n",
    "`(True Positive + True Negative) / Total Predictions`"
   ]
  },
  {
   "cell_type": "code",
   "execution_count": 21,
   "metadata": {},
   "outputs": [
    {
     "name": "stdout",
     "output_type": "stream",
     "text": [
      "0.823\n"
     ]
    }
   ],
   "source": [
    "import numpy\n",
    "from sklearn import metrics\n",
    "\n",
    "actual = numpy.random.binomial(1,.9,size = 1000)\n",
    "predicted = numpy.random.binomial(1,.9,size = 1000)\n",
    "\n",
    "Accuracy = metrics.accuracy_score(actual, predicted)\n",
    "\n",
    "print(Accuracy)"
   ]
  },
  {
   "attachments": {},
   "cell_type": "markdown",
   "metadata": {},
   "source": [
    "### Precision 精准性\n",
    "\n",
    "<b>How to Calculate</b>\n",
    "\n",
    "What percentage is truly positive?\n",
    "\n",
    "`True Postive / (True Positive + False Positive)`"
   ]
  },
  {
   "cell_type": "code",
   "execution_count": 22,
   "metadata": {},
   "outputs": [
    {
     "name": "stdout",
     "output_type": "stream",
     "text": [
      "0.9018743109151047\n"
     ]
    }
   ],
   "source": [
    "import numpy\n",
    "from sklearn import metrics\n",
    "\n",
    "actual = numpy.random.binomial(1,.9,size = 1000)\n",
    "predicted = numpy.random.binomial(1,.9,size = 1000)\n",
    "\n",
    "Precision = metrics.precision_score(actual, predicted)\n",
    "\n",
    "print(Precision)"
   ]
  },
  {
   "attachments": {},
   "cell_type": "markdown",
   "metadata": {},
   "source": [
    "### Sensitivity(Recall) 灵敏度\n",
    "\n",
    "Of all positive cases, what percentage are predicted positive?\n",
    "\n",
    "Sensitivity(some times called Recall) measures how good the model is at predicting positives.\n",
    "\n",
    "This means it lookd at true positives and false negatives(which are positives that have been incorrectly predicted as negative).\n",
    "\n",
    "<b>How to Calculate</b>\n",
    "\n",
    "`True Position / (True Positive + False Positive)`"
   ]
  },
  {
   "cell_type": "code",
   "execution_count": 23,
   "metadata": {},
   "outputs": [
    {
     "name": "stdout",
     "output_type": "stream",
     "text": [
      "0.9091928251121076\n"
     ]
    }
   ],
   "source": [
    "import numpy\n",
    "from sklearn import metrics\n",
    "\n",
    "actual = numpy.random.binomial(1,.9,size = 1000)\n",
    "predicted = numpy.random.binomial(1,.9,size = 1000)\n",
    "\n",
    "Precision = metrics.recall_score(actual, predicted)\n",
    "\n",
    "print(Precision)"
   ]
  },
  {
   "attachments": {},
   "cell_type": "markdown",
   "metadata": {},
   "source": [
    "### Specificity 特异性\n",
    "\n",
    "Specificity is similar to sensitivity, but looks at it from the persepctive of negative results.\n",
    "\n",
    "Since it is just the opposite of Recall, we use the recall_score function, taking the opposite position label:\n",
    "<br>我们同样使用`recall_score()`，但取相反的label"
   ]
  },
  {
   "cell_type": "code",
   "execution_count": 24,
   "metadata": {},
   "outputs": [
    {
     "name": "stdout",
     "output_type": "stream",
     "text": [
      "0.1276595744680851\n"
     ]
    }
   ],
   "source": [
    "import numpy\n",
    "from sklearn import metrics\n",
    "\n",
    "actual = numpy.random.binomial(1,.9,size = 1000)\n",
    "predicted = numpy.random.binomial(1,.9,size = 1000)\n",
    "\n",
    "Precision = metrics.recall_score(actual, predicted, pos_label=0)\n",
    "\n",
    "print(Precision)"
   ]
  },
  {
   "attachments": {},
   "cell_type": "markdown",
   "metadata": {},
   "source": [
    "### F-score\n",
    "\n",
    "F-score is the \"harmonic mean(调和平均值）\" of precision(精准率) and sensitivity(召回率).\n",
    "\n",
    "It considers both false positive and false negative cases and is good for imbalanced  datasets(不平衡的数据集).\n",
    "\n",
    "F-score通常用来衡量一个分类器的性能，值越高说明分类器性能越好。在混淆矩阵中，F-score通常用来衡量每个类别的分类结果。\n",
    "\n",
    "<br>\n",
    "<b>How to Calculate</b>\n",
    "\n",
    "`F-score = 2 * ((Precision * Sensitivity) / (Precision * Sensitivity))`\n"
   ]
  },
  {
   "cell_type": "code",
   "execution_count": 31,
   "metadata": {},
   "outputs": [
    {
     "name": "stdout",
     "output_type": "stream",
     "text": [
      "0.904867256637168\n",
      "{'Accuracy': 0.828, 'Precision': 0.9038674033149171, 'Sensitivity_recall': 0.9058693244739756, 'Specificity': 0.10309278350515463, 'F1_score': 0.904867256637168}\n"
     ]
    }
   ],
   "source": [
    "# This score does not take into consideration the True Negative values:\n",
    "import numpy\n",
    "from sklearn import metrics\n",
    "\n",
    "actual = numpy.random.binomial(1,.9,size = 1000)\n",
    "predicted = numpy.random.binomial(1,.9,size = 1000)\n",
    "\n",
    "\n",
    "# 准确度\n",
    "Accuracy = metrics.accuracy_score(actual, predicted)\n",
    "\n",
    "# 精确度\n",
    "Precision = metrics.precision_score(actual, predicted)\n",
    "\n",
    "# 灵敏度\n",
    "Sensitivity_recall = metrics.recall_score(actual, predicted)\n",
    "\n",
    "# 特异性\n",
    "Specificity = metrics.recall_score(actual, predicted, pos_label=0)\n",
    "\n",
    "F1_score = metrics.f1_score(actual, predicted)\n",
    "\n",
    "print(F1_score)\n",
    "\n",
    "#metrics\n",
    "print({\"Accuracy\":Accuracy,\"Precision\":Precision,\"Sensitivity_recall\":Sensitivity_recall,\"Specificity\":Specificity,\"F1_score\":F1_score})"
   ]
  },
  {
   "attachments": {},
   "cell_type": "markdown",
   "metadata": {},
   "source": [
    "---\n",
    "## Hierarchical Clustering 分层聚类\n",
    "\n",
    "Hierarchical clustering is an unsupervised(无监督) learning method for clustering(聚集) data points. \n",
    "\n",
    "The algorithm(算法) builds clusters(簇) by measuring(测量) the <u>dissimilarities between data(数据之间的差异)</u>.\n",
    "\n",
    "Unsupervised learning means that a model does not have to be trained, and we do not neet a \"target\" variable. This method can be used on any data to visualize and interpret the relationship between individual data points.\n",
    "\n",
    "<br>\n",
    "<b>分为两种方法：</b>\n",
    "\n",
    "- 凝聚层次聚类（Agglomerative Clustering）：从单独的点开始，不断合并最相似的簇。follows a bottom up approach.\n",
    "\n",
    "- 分裂层次聚类（Divisive Clustering）：从所有数据点组成的单个簇开始，不断划分较大的簇。"
   ]
  },
  {
   "attachments": {},
   "cell_type": "markdown",
   "metadata": {},
   "source": [
    "### How does it work?\n",
    "\n",
    "We will use Aggolomerative Clustering, a type of hierarchical clustering that folows a bottom up approach. We begin by treating each data point as its own cluster. Then，we join cluster together that have the shortest distance between them to create larger clusters. This step is repeated until one large cluster is fromed containing all of the data points."
   ]
  },
  {
   "cell_type": "code",
   "execution_count": 1,
   "metadata": {},
   "outputs": [
    {
     "data": {
      "image/png": "[encoded data removed]",
      "text/plain": [
       "<Figure size 640x480 with 1 Axes>"
      ]
     },
     "metadata": {},
     "output_type": "display_data"
    }
   ],
   "source": [
    "import numpy as np\n",
    "import matplotlib.pyplot as plt\n",
    "\n",
    "x = [4, 5, 10, 4, 3, 11, 14 , 6, 10, 12]\n",
    "y = [21, 19, 24, 17, 16, 25, 24, 22, 21, 21]\n",
    "\n",
    "plt.scatter(x, y)\n",
    "plt.show()"
   ]
  },
  {
   "cell_type": "code",
   "execution_count": 5,
   "metadata": {},
   "outputs": [
    {
     "data": {
      "image/png": "[encoded data removed]",
      "text/plain": [
       "<Figure size 640x480 with 1 Axes>"
      ]
     },
     "metadata": {},
     "output_type": "display_data"
    }
   ],
   "source": [
    "# Now we compute the ward linkage using euclidean distance, and visualize it using a dendrogram(树状图):\n",
    "import numpy as np\n",
    "import matplotlib.pyplot as plt\n",
    "from scipy.cluster.hierarchy import dendrogram, linkage\n",
    "\n",
    "x = [4, 5, 10, 4, 3, 11, 14 , 6, 10, 12]\n",
    "y = [21, 19, 24, 17, 16, 25, 24, 22, 21, 21]\n",
    "\n",
    "# 将x,y合并成（4,21)这样的list\n",
    "data = list(zip(x, y))\n",
    "\n",
    "linkage_data = linkage(data, method='ward', metric='euclidean')\n",
    "dendrogram(linkage_data)\n",
    "\n",
    "plt.show()"
   ]
  },
  {
   "attachments": {},
   "cell_type": "markdown",
   "metadata": {},
   "source": [
    "Linkage中的\"method\"和\"metric\"是用于确定两个类别如何连接在一起的参数。\n",
    "\n",
    "- method：表示用于决定两个类别如何连接在一起的方法。常见的方法包括single linkage（单链接）、complete linkage（完全链接）、average linkage（平均链接）、ward linkage（ward链接）、centroid linkage（质心链接）和median linkage（中位数链接）。每种方法都有自己的特点，在选择时需要根据数据特征和预期结果来决定。\n",
    "\n",
    "- metric：表示用于衡量两个类别之间的距离的度量。常见的度量包括欧几里得距离（Euclidean distance）、曼哈顿距离（Manhattan distance）、切比雪夫距离（Chebyshev distance）、Mahalanobis距离（Mahalanobis distance）和其他。在选择时需要根据数据特征和预期结果来决定。"
   ]
  },
  {
   "cell_type": "code",
   "execution_count": 12,
   "metadata": {},
   "outputs": [
    {
     "data": {
      "image/png": "[encoded data removed]",
      "text/plain": [
       "<Figure size 640x480 with 1 Axes>"
      ]
     },
     "metadata": {},
     "output_type": "display_data"
    }
   ],
   "source": [
    "# Here, we do the same thing with Python's scikit-learn library. Then, visualize on a 2-dimensional plot:\n",
    "\n",
    "import numpy as np\n",
    "import matplotlib.pyplot as plt\n",
    "from sklearn.cluster import AgglomerativeClustering\n",
    "\n",
    "x = [4, 5, 10, 4, 3, 11, 14 , 6, 10, 12]\n",
    "y = [21, 19, 24, 17, 16, 25, 24, 22, 21, 21]\n",
    "\n",
    "data = list(zip(x, y))\n",
    "\n",
    "# n_clusters：表示分成的簇数量，这里是2。\n",
    "# affinity：表示相似度的度量，这里是欧几里得距离。\n",
    "# linkage：表示簇合并的方式，这里是ward，表示使用Ward linkage。\n",
    "hierarchical_cluster = AgglomerativeClustering(n_clusters=5, affinity='euclidean', linkage='ward')\n",
    "\n",
    "labels = hierarchical_cluster.fit_predict(data)\n",
    "\n",
    "plt.scatter(x, y, c=labels)\n",
    "plt.show()"
   ]
  },
  {
   "attachments": {},
   "cell_type": "markdown",
   "metadata": {},
   "source": [
    "### Example Explained\n",
    "\n",
    "NumPy is a library for working with arrays and matricies in Python.(处理数组和矩阵的库).\n",
    "\n",
    "scikit-learn is a popular library for machine learning."
   ]
  },
  {
   "cell_type": "code",
   "execution_count": 20,
   "metadata": {},
   "outputs": [
    {
     "name": "stdout",
     "output_type": "stream",
     "text": [
      "[12.5, 12.0, 17.0, 10.5, 9.5, 18.0, 19.0, 14.0, 15.5, 16.5]\n",
      "9.522499999999999\n"
     ]
    }
   ],
   "source": [
    "import numpy as np\n",
    "meani = []\n",
    "\n",
    "\n",
    "for i in data:\n",
    "    x = np.median(i)\n",
    "    meani.append(x)\n",
    "\n",
    "stdi = np.var(meani)\n",
    "\n",
    "print(meani)\n",
    "print(stdi)"
   ]
  },
  {
   "attachments": {},
   "cell_type": "markdown",
   "metadata": {},
   "source": [
    "The scikit-learn library allows us to use hierarchichal clustering in a different manner. \n",
    "\n",
    "First, we initialize the AgglomerativeClustering class with 2 clusters, using the same euclidean distance and Ward linkage."
   ]
  },
  {
   "cell_type": "code",
   "execution_count": null,
   "metadata": {},
   "outputs": [],
   "source": [
    "hierarchical_cluster = AgglomerativeClustering(n_clusters=2, affinity='euclidean', linkage='ward')"
   ]
  },
  {
   "attachments": {},
   "cell_type": "markdown",
   "metadata": {},
   "source": [
    "The .fit_predict method can be called on our data to compute the clusters using the defined parameters across our chosen number of clusters."
   ]
  },
  {
   "cell_type": "code",
   "execution_count": 21,
   "metadata": {},
   "outputs": [
    {
     "data": {
      "text/plain": [
       "array([0, 0, 3, 2, 2, 3, 4, 0, 1, 1], dtype=int64)"
      ]
     },
     "execution_count": 21,
     "metadata": {},
     "output_type": "execute_result"
    }
   ],
   "source": [
    "labels = hierarchical_cluster.fit_predict(data)\n",
    "\n",
    "# labels在scatter中式负责颜色的部分，所以计算的结果会在二维图中区分散点图的颜色\n",
    "labels"
   ]
  },
  {
   "attachments": {},
   "cell_type": "markdown",
   "metadata": {},
   "source": [
    "---\n",
    "## Logistic Regression 逻辑回归\n",
    "\n",
    "Logistic regression aims to solve classification problems. It does this by predicting <u>categorical outcomes(分类结果)</u>, unlike <u>linear regression(线性回归)</u> that predicts a continous outcome.(连续的结果)\n",
    "\n",
    "In the simplest case there are two outcomes, which is called binomial(二项式), an example of which is predicting if a tumor(肿瘤) is malignant(恶性) or benign(良性).\n",
    "\n",
    "Other cases have more than two outcomes to classify, in this case it is called multinomial(多项式). A <u>common example（常见的示列)</u> for multinomial logistic regression would be predicting the class of an iris flower betweeen 3 different species."
   ]
  },
  {
   "cell_type": "code",
   "execution_count": 6,
   "metadata": {},
   "outputs": [
    {
     "name": "stdout",
     "output_type": "stream",
     "text": [
      "[1]\n"
     ]
    }
   ],
   "source": [
    "# Store the independent variables in X.\n",
    "# Store the dependent variable in y.\n",
    "\n",
    "import numpy as np\n",
    "\n",
    "# reshape(-1, 1) 转换成1列\n",
    "# Note: X has to be reshaped into a column from a row for the LogisticRegression() function to work.\n",
    "X = np.array([3.78, 2.44, 2.09, 0.14, 1.72, 1.65, 4.92, 4.37, 4.96, 4.52, 3.69, 5.88]).reshape(-1,1)\n",
    "\n",
    "# y represents whether or not the tumor is cancerous(0 for \"No\", 1 for \"Yes\")\n",
    "y = np.array([0, 0, 0, 0, 0, 0, 1, 1, 1, 1, 1, 1])\n",
    "\n",
    "from sklearn import linear_model\n",
    "\n",
    "logr = linear_model.LogisticRegression()\n",
    "logr.fit(X,y)\n",
    "\n",
    "predictedsize = float(input(\"What is the tumor size? :\"))\n",
    "\n",
    "#predict if tumor is cancerous where the size is 3.46mm:\n",
    "predicted = logr.predict(np.array(predictedsize).reshape(-1,1))\n",
    "\n",
    "print(predicted)"
   ]
  },
  {
   "attachments": {},
   "cell_type": "markdown",
   "metadata": {},
   "source": [
    "### Coefficient 系数\n",
    "\n",
    "In logistic regression the coefficient is the expected change in log-odds of having the outcome per unit change in X.\n",
    "\n",
    "This does not have the most intuitive understanding so let's use it to create something that make more sense, odds(賠率)."
   ]
  },
  {
   "cell_type": "code",
   "execution_count": 7,
   "metadata": {},
   "outputs": [
    {
     "name": "stdout",
     "output_type": "stream",
     "text": [
      "[[4.03541657]]\n"
     ]
    }
   ],
   "source": [
    "import numpy\n",
    "from sklearn import linear_model\n",
    "\n",
    "#Reshaped for Logistic function.\n",
    "X = numpy.array([3.78, 2.44, 2.09, 0.14, 1.72, 1.65, 4.92, 4.37, 4.96, 4.52, 3.69, 5.88]).reshape(-1,1)\n",
    "y = numpy.array([0, 0, 0, 0, 0, 0, 1, 1, 1, 1, 1, 1])\n",
    "\n",
    "logr = linear_model.LogisticRegression()\n",
    "logr.fit(X,y)\n",
    "\n",
    "# 它是一个长度与特征数相同的数组，每个元素代表一个特征的系数。系数越大，说明该特征对于结果的影响越强。\n",
    "log_odds = logr.coef_\n",
    "\n",
    "# 对一个数求其指数\n",
    "odds = numpy.exp(log_odds)\n",
    "\n",
    "print(odds)"
   ]
  },
  {
   "attachments": {},
   "cell_type": "markdown",
   "metadata": {},
   "source": [
    "This tells us that as the size of a tumor increases by 1mm the odds of it being a tumor increases by 4x.\n",
    "\n",
    "这告诉我们，随着肿瘤大小增加 1 毫米，它成为肿瘤的几率增加 4 倍。\n"
   ]
  },
  {
   "attachments": {},
   "cell_type": "markdown",
   "metadata": {},
   "source": [
    "### Probability 概率\n",
    "\n",
    "The coefficient(系数) and intercept(截距值) values can be used to find the probability(概率) that each tumor(肿瘤) is cancerous(概率).\n",
    "\n",
    "Create a function that uses the model's coefficient and intercept values to return a new value. This new value represents(代表) probability(概率) that the given observation(观察值) is a tumor(肿瘤):"
   ]
  },
  {
   "cell_type": "code",
   "execution_count": 8,
   "metadata": {},
   "outputs": [],
   "source": [
    "import numpy as np\n",
    "\n",
    "def loghit2prob(logr, x):\n",
    "    log_odds = logr.coef_ * x + logr.intercept_\n",
    "    odds = np.exp(log_odds)\n",
    "    probability = odds/(1 + odds)\n",
    "    return(probability)"
   ]
  },
  {
   "attachments": {},
   "cell_type": "markdown",
   "metadata": {},
   "source": [
    "### Function Explained\n",
    "\n",
    "To find the log-odds(对数比值) for each observation(观察值), we must first create a formula that looks similar to the one from linear regression, extracting(提取) the coefficient and the intercept."
   ]
  },
  {
   "cell_type": "code",
   "execution_count": 9,
   "metadata": {},
   "outputs": [
    {
     "name": "stdout",
     "output_type": "stream",
     "text": [
      "[[0.60749955]\n",
      " [0.19268876]\n",
      " [0.12775886]\n",
      " [0.00955221]\n",
      " [0.08038616]\n",
      " [0.07345637]\n",
      " [0.88362743]\n",
      " [0.77901378]\n",
      " [0.88924409]\n",
      " [0.81293497]\n",
      " [0.57719129]\n",
      " [0.96664243]]\n"
     ]
    }
   ],
   "source": [
    "import numpy\n",
    "from sklearn import linear_model\n",
    "\n",
    "X = numpy.array([3.78, 2.44, 2.09, 0.14, 1.72, 1.65, 4.92, 4.37, 4.96, 4.52, 3.69, 5.88]).reshape(-1,1)\n",
    "y = numpy.array([0, 0, 0, 0, 0, 0, 1, 1, 1, 1, 1, 1])\n",
    "\n",
    "logr = linear_model.LogisticRegression()\n",
    "logr.fit(X,y)\n",
    "\n",
    "def logit2prob(logr, X):\n",
    "  log_odds = logr.coef_ * X + logr.intercept_\n",
    "  odds = numpy.exp(log_odds)\n",
    "  probability = odds / (1 + odds)\n",
    "  return(probability)\n",
    "\n",
    "print(logit2prob(logr, X))"
   ]
  },
  {
   "attachments": {},
   "cell_type": "markdown",
   "metadata": {},
   "source": [
    "---\n",
    "## Grid Search 网格搜索\n",
    "\n",
    "The majority of machine learning models contain parameters that can be adjusted(调整) to vary how the model learns. For example, the logistic regression model. \n",
    "\n",
    "网格搜索是机械学习模型调参的一种常用方法，大多数机械学习模型都包含可调整的参数，以控制学习的方式。\n",
    "\n",
    "From `sklearn`, has a parameter `C` that controls regularization, which affects the complexity of the model.\n",
    "\n",
    "例如，来自`sklearn`的逻辑回归模型具有一个控制正规化的参数`C`，这影响模型的复杂度。\n",
    "\n",
    "The best value is dependent on the data used to train the model."
   ]
  },
  {
   "attachments": {},
   "cell_type": "markdown",
   "metadata": {},
   "source": [
    "### How does it work?\n",
    "\n",
    "One method is to try out different values and then pick the value that gives the best score. This technique is know as a <b>grid search</b>. If we had to select the values for two or more parameters, we would evaluate(评估) all combinations(组合) of the sets of values thus(从而) forming(形成) a grid of values.\n",
    "\n",
    "Higher values of C tell the model, the training data resembles(类似于) real world information, place a <u>greater weight(权重)</u> on the training data. While lower values of C do the opposite(相反)."
   ]
  },
  {
   "attachments": {},
   "cell_type": "markdown",
   "metadata": {},
   "source": [
    "### Using Default Parameters\n",
    "\n",
    "First we can generate(生成) without a grid search using only the base parameters."
   ]
  },
  {
   "cell_type": "code",
   "execution_count": 15,
   "metadata": {},
   "outputs": [],
   "source": [
    "# To get started we must first load in the dataset we weill be working with.\n",
    "\n",
    "from sklearn import datasets\n",
    "\n",
    "iris = datasets.load_iris()\n",
    "\n",
    "# Next in the order to create the model we must have a set of independent(自变量) variables X and a dependant(因变量) variable y.\n",
    "X = iris['data']\n",
    "y = iris['target']\n",
    "\n",
    "from sklearn.linear_model import LogisticRegression"
   ]
  },
  {
   "attachments": {},
   "cell_type": "markdown",
   "metadata": {},
   "source": [
    "Creating the model, setting max_iter to a higher value to ensure(确保) that the model find a result.\n",
    "\n",
    "Keep in mind the default value for C in a logistic regression model is 1, we will compare this later.\n",
    "\n",
    "In the example below, we look at the iris data set and try to train a model with <u>varying values(不同值)</u> for C in logistic regression."
   ]
  },
  {
   "cell_type": "code",
   "execution_count": 18,
   "metadata": {},
   "outputs": [
    {
     "name": "stdout",
     "output_type": "stream",
     "text": [
      "LogisticRegression(max_iter=10000)\n",
      "0.9733333333333334\n"
     ]
    }
   ],
   "source": [
    "logit = LogisticRegression(max_iter= 10000)\n",
    "\n",
    "# After we create the model, we must fit the model to the data.\n",
    "print(logit.fit(X,y))\n",
    "\n",
    "# To evaluate the model we run the score method.\n",
    "print(logit.score(X,y))"
   ]
  },
  {
   "attachments": {},
   "cell_type": "markdown",
   "metadata": {},
   "source": [
    "With the default setting of `C = 1`, we achieved a score of `0.973`.\n",
    "\n",
    "Let's see if we can do any better by implementing a grid search with difference values of `0.973`."
   ]
  },
  {
   "attachments": {},
   "cell_type": "markdown",
   "metadata": {},
   "source": [
    "### Implementing Grid Search 实施网格搜索\n",
    "\n",
    "We will follow the same steps of before except(只是) this time we will set a range of values for C.\n",
    "\n",
    "Knowing which values to set for the searched parameters will take a combination of domain knowledge and practice.\n",
    "\n",
    "Since the defalut value for `C is 1`, we will set a range of values surrounding it."
   ]
  },
  {
   "cell_type": "code",
   "execution_count": null,
   "metadata": {},
   "outputs": [],
   "source": [
    "C = [0.25, 0.5, 0.75, 1, 1.25, 1.5, 1.75, 2]"
   ]
  },
  {
   "attachments": {},
   "cell_type": "markdown",
   "metadata": {},
   "source": [
    "Next we will create a for loop to change out the values of C and evaluate the model with each change."
   ]
  },
  {
   "cell_type": "code",
   "execution_count": null,
   "metadata": {},
   "outputs": [],
   "source": [
    "scores = []"
   ]
  },
  {
   "attachments": {},
   "cell_type": "markdown",
   "metadata": {},
   "source": [
    "To change the values of C we must loop over the range of values and valuese and update the parameter each time."
   ]
  },
  {
   "cell_type": "code",
   "execution_count": null,
   "metadata": {},
   "outputs": [],
   "source": [
    "for choice in C:\n",
    "    logit.set_params(C=choice)\n",
    "    logit.fit(X,y)\n",
    "    scores.append(logit.score(X,y))\n",
    "    \n",
    "print(scores)"
   ]
  },
  {
   "cell_type": "code",
   "execution_count": 29,
   "metadata": {},
   "outputs": [
    {
     "name": "stdout",
     "output_type": "stream",
     "text": [
      "('C:'0.25, 'score:'0.9666666666666667)\n",
      "('C:'0.5, 'score:'0.9666666666666667)\n",
      "('C:'0.75, 'score:'0.9733333333333334)\n",
      "('C:'1, 'score:'0.9733333333333334)\n",
      "('C:'1.25, 'score:'0.98)\n",
      "('C:'1.5, 'score:'0.98)\n",
      "('C:'1.75, 'score:'0.9866666666666667)\n",
      "('C:'2, 'score:'0.9866666666666667)\n",
      "\n",
      "【最符合的权重是】=====================\n",
      "C: 1.75 分数: 0.9866666666666667\n"
     ]
    }
   ],
   "source": [
    "from sklearn import datasets\n",
    "from sklearn.linear_model import LogisticRegression\n",
    "\n",
    "iris = datasets.load_iris()\n",
    "\n",
    "X = iris['data']\n",
    "y = iris['target']\n",
    "\n",
    "logit = LogisticRegression(max_iter = 10000)\n",
    "\n",
    "C = [0.25, 0.5, 0.75, 1, 1.25, 1.5, 1.75, 2]\n",
    "\n",
    "scores = []\n",
    "\n",
    "# for loop append the scores to the list\n",
    "for choice in C:\n",
    "    logit.set_params(C=choice)\n",
    "    logit.fit(X,y)\n",
    "    scores.append(logit.score(X,y))\n",
    "\n",
    "# for loop to see the evaluate what the  best choice of C is\n",
    "x = 0\n",
    "for point in scores:\n",
    "    z = C[x]\n",
    "    print(f\"('C:'{z}, 'score:'{point})\")\n",
    "    x += 1\n",
    "\n",
    "# 整理并汇报\n",
    "max_value = None\n",
    "max_idx = None\n",
    "\n",
    "for idx, num in enumerate(scores):\n",
    "    if (max_value is None or num > max_value):\n",
    "        max_value = num\n",
    "        max_idx = idx\n",
    "max_idx = C[max_idx]\n",
    "\n",
    "print(\"\")\n",
    "print('【最符合的权重是】=====================')\n",
    "print('C:', max_idx, '分数:', max_value)"
   ]
  },
  {
   "attachments": {},
   "cell_type": "markdown",
   "metadata": {},
   "source": [
    "### Result Explained\n",
    "\n",
    "We can see that the lower values of `C` performed worse than the base parameter of `1`. Howerver, as we increased the value of `C` to `1.75` the model experienced increased accuracy.\n",
    "\n",
    "It seems that increasing(增加) `C` beyond(以后) this amount(额度) does not help increase model accuracy."
   ]
  },
  {
   "attachments": {},
   "cell_type": "markdown",
   "metadata": {},
   "source": [
    "### Note on Best Practices\n",
    "\n",
    "We scored our logistic regression model by using the same data what was used to train it. If the model corresponds(符合) too closely to that data, it may not be great at predicting unseen data. This statistical(统计) error is known as <b>over fitthing(过拟合)</b>.\n",
    "\n",
    "我们使用用于训练模型的同一数据评分了我们的逻辑回归模型。 如果模型与该数据对应得太密切，则可能不适合预测未见数据。 这种统计误差称为过拟合。\n",
    "\n",
    "To avoid(避免) being misled by the scores on the training data, we can put aside(放一边) a portion(分配) of our data and use it specifically(专用) for the purpose(目的) of testing the model.\n",
    "\n",
    "为了避免受训练数据分数的误导，我们可以把一部分数据放在一边，并专门用于测试模型的目的。 有关避免误导和过拟合的讲座，请参见训练/测试分割讲座。"
   ]
  },
  {
   "attachments": {},
   "cell_type": "markdown",
   "metadata": {},
   "source": [
    "---\n",
    "## Categorical Data 類別數據\n",
    "\n",
    "When you data has categories represent ed by strings(字符串表示類別), it will be difficulte to use them to train machine earning models which often only accepts numeric data.\n",
    "\n",
    "Instead of ignoring(無視) the categorical data(分類數據) and excluding the information from our model, you can tranform the data so it can be used in your models.\n"
   ]
  },
  {
   "cell_type": "code",
   "execution_count": 17,
   "metadata": {},
   "outputs": [
    {
     "data": {
      "text/html": [
       "<div>\n",
       "<style scoped>\n",
       "    .dataframe tbody tr th:only-of-type {\n",
       "        vertical-align: middle;\n",
       "    }\n",
       "\n",
       "    .dataframe tbody tr th {\n",
       "        vertical-align: top;\n",
       "    }\n",
       "\n",
       "    .dataframe thead th {\n",
       "        text-align: right;\n",
       "    }\n",
       "</style>\n",
       "<table border=\"1\" class=\"dataframe\">\n",
       "  <thead>\n",
       "    <tr style=\"text-align: right;\">\n",
       "      <th></th>\n",
       "      <th>Car</th>\n",
       "      <th>Model</th>\n",
       "      <th>Volume</th>\n",
       "      <th>Weight</th>\n",
       "      <th>CO2</th>\n",
       "    </tr>\n",
       "  </thead>\n",
       "  <tbody>\n",
       "    <tr>\n",
       "      <th>0</th>\n",
       "      <td>Toyota</td>\n",
       "      <td>Aygo</td>\n",
       "      <td>1000</td>\n",
       "      <td>790</td>\n",
       "      <td>99</td>\n",
       "    </tr>\n",
       "    <tr>\n",
       "      <th>1</th>\n",
       "      <td>Mitsubishi</td>\n",
       "      <td>Space Star</td>\n",
       "      <td>1200</td>\n",
       "      <td>1160</td>\n",
       "      <td>95</td>\n",
       "    </tr>\n",
       "    <tr>\n",
       "      <th>2</th>\n",
       "      <td>Skoda</td>\n",
       "      <td>Citigo</td>\n",
       "      <td>1000</td>\n",
       "      <td>929</td>\n",
       "      <td>95</td>\n",
       "    </tr>\n",
       "    <tr>\n",
       "      <th>3</th>\n",
       "      <td>Fiat</td>\n",
       "      <td>500</td>\n",
       "      <td>900</td>\n",
       "      <td>865</td>\n",
       "      <td>90</td>\n",
       "    </tr>\n",
       "    <tr>\n",
       "      <th>4</th>\n",
       "      <td>Mini</td>\n",
       "      <td>Cooper</td>\n",
       "      <td>1500</td>\n",
       "      <td>1140</td>\n",
       "      <td>105</td>\n",
       "    </tr>\n",
       "    <tr>\n",
       "      <th>5</th>\n",
       "      <td>VW</td>\n",
       "      <td>Up!</td>\n",
       "      <td>1000</td>\n",
       "      <td>929</td>\n",
       "      <td>105</td>\n",
       "    </tr>\n",
       "    <tr>\n",
       "      <th>6</th>\n",
       "      <td>Skoda</td>\n",
       "      <td>Fabia</td>\n",
       "      <td>1400</td>\n",
       "      <td>1109</td>\n",
       "      <td>90</td>\n",
       "    </tr>\n",
       "    <tr>\n",
       "      <th>7</th>\n",
       "      <td>Mercedes</td>\n",
       "      <td>A-Class</td>\n",
       "      <td>1500</td>\n",
       "      <td>1365</td>\n",
       "      <td>92</td>\n",
       "    </tr>\n",
       "    <tr>\n",
       "      <th>8</th>\n",
       "      <td>Ford</td>\n",
       "      <td>Fiesta</td>\n",
       "      <td>1500</td>\n",
       "      <td>1112</td>\n",
       "      <td>98</td>\n",
       "    </tr>\n",
       "    <tr>\n",
       "      <th>9</th>\n",
       "      <td>Audi</td>\n",
       "      <td>A1</td>\n",
       "      <td>1600</td>\n",
       "      <td>1150</td>\n",
       "      <td>99</td>\n",
       "    </tr>\n",
       "    <tr>\n",
       "      <th>10</th>\n",
       "      <td>Hyundai</td>\n",
       "      <td>I20</td>\n",
       "      <td>1100</td>\n",
       "      <td>980</td>\n",
       "      <td>99</td>\n",
       "    </tr>\n",
       "    <tr>\n",
       "      <th>11</th>\n",
       "      <td>Suzuki</td>\n",
       "      <td>Swift</td>\n",
       "      <td>1300</td>\n",
       "      <td>990</td>\n",
       "      <td>101</td>\n",
       "    </tr>\n",
       "    <tr>\n",
       "      <th>12</th>\n",
       "      <td>Ford</td>\n",
       "      <td>Fiesta</td>\n",
       "      <td>1000</td>\n",
       "      <td>1112</td>\n",
       "      <td>99</td>\n",
       "    </tr>\n",
       "    <tr>\n",
       "      <th>13</th>\n",
       "      <td>Honda</td>\n",
       "      <td>Civic</td>\n",
       "      <td>1600</td>\n",
       "      <td>1252</td>\n",
       "      <td>94</td>\n",
       "    </tr>\n",
       "    <tr>\n",
       "      <th>14</th>\n",
       "      <td>Hundai</td>\n",
       "      <td>I30</td>\n",
       "      <td>1600</td>\n",
       "      <td>1326</td>\n",
       "      <td>97</td>\n",
       "    </tr>\n",
       "    <tr>\n",
       "      <th>15</th>\n",
       "      <td>Opel</td>\n",
       "      <td>Astra</td>\n",
       "      <td>1600</td>\n",
       "      <td>1330</td>\n",
       "      <td>97</td>\n",
       "    </tr>\n",
       "    <tr>\n",
       "      <th>16</th>\n",
       "      <td>BMW</td>\n",
       "      <td>1</td>\n",
       "      <td>1600</td>\n",
       "      <td>1365</td>\n",
       "      <td>99</td>\n",
       "    </tr>\n",
       "    <tr>\n",
       "      <th>17</th>\n",
       "      <td>Mazda</td>\n",
       "      <td>3</td>\n",
       "      <td>2200</td>\n",
       "      <td>1280</td>\n",
       "      <td>104</td>\n",
       "    </tr>\n",
       "    <tr>\n",
       "      <th>18</th>\n",
       "      <td>Skoda</td>\n",
       "      <td>Rapid</td>\n",
       "      <td>1600</td>\n",
       "      <td>1119</td>\n",
       "      <td>104</td>\n",
       "    </tr>\n",
       "    <tr>\n",
       "      <th>19</th>\n",
       "      <td>Ford</td>\n",
       "      <td>Focus</td>\n",
       "      <td>2000</td>\n",
       "      <td>1328</td>\n",
       "      <td>105</td>\n",
       "    </tr>\n",
       "    <tr>\n",
       "      <th>20</th>\n",
       "      <td>Ford</td>\n",
       "      <td>Mondeo</td>\n",
       "      <td>1600</td>\n",
       "      <td>1584</td>\n",
       "      <td>94</td>\n",
       "    </tr>\n",
       "    <tr>\n",
       "      <th>21</th>\n",
       "      <td>Opel</td>\n",
       "      <td>Insignia</td>\n",
       "      <td>2000</td>\n",
       "      <td>1428</td>\n",
       "      <td>99</td>\n",
       "    </tr>\n",
       "    <tr>\n",
       "      <th>22</th>\n",
       "      <td>Mercedes</td>\n",
       "      <td>C-Class</td>\n",
       "      <td>2100</td>\n",
       "      <td>1365</td>\n",
       "      <td>99</td>\n",
       "    </tr>\n",
       "    <tr>\n",
       "      <th>23</th>\n",
       "      <td>Skoda</td>\n",
       "      <td>Octavia</td>\n",
       "      <td>1600</td>\n",
       "      <td>1415</td>\n",
       "      <td>99</td>\n",
       "    </tr>\n",
       "    <tr>\n",
       "      <th>24</th>\n",
       "      <td>Volvo</td>\n",
       "      <td>S60</td>\n",
       "      <td>2000</td>\n",
       "      <td>1415</td>\n",
       "      <td>99</td>\n",
       "    </tr>\n",
       "    <tr>\n",
       "      <th>25</th>\n",
       "      <td>Mercedes</td>\n",
       "      <td>CLA</td>\n",
       "      <td>1500</td>\n",
       "      <td>1465</td>\n",
       "      <td>102</td>\n",
       "    </tr>\n",
       "    <tr>\n",
       "      <th>26</th>\n",
       "      <td>Audi</td>\n",
       "      <td>A4</td>\n",
       "      <td>2000</td>\n",
       "      <td>1490</td>\n",
       "      <td>104</td>\n",
       "    </tr>\n",
       "    <tr>\n",
       "      <th>27</th>\n",
       "      <td>Audi</td>\n",
       "      <td>A6</td>\n",
       "      <td>2000</td>\n",
       "      <td>1725</td>\n",
       "      <td>114</td>\n",
       "    </tr>\n",
       "    <tr>\n",
       "      <th>28</th>\n",
       "      <td>Volvo</td>\n",
       "      <td>V70</td>\n",
       "      <td>1600</td>\n",
       "      <td>1523</td>\n",
       "      <td>109</td>\n",
       "    </tr>\n",
       "    <tr>\n",
       "      <th>29</th>\n",
       "      <td>BMW</td>\n",
       "      <td>5</td>\n",
       "      <td>2000</td>\n",
       "      <td>1705</td>\n",
       "      <td>114</td>\n",
       "    </tr>\n",
       "    <tr>\n",
       "      <th>30</th>\n",
       "      <td>Mercedes</td>\n",
       "      <td>E-Class</td>\n",
       "      <td>2100</td>\n",
       "      <td>1605</td>\n",
       "      <td>115</td>\n",
       "    </tr>\n",
       "    <tr>\n",
       "      <th>31</th>\n",
       "      <td>Volvo</td>\n",
       "      <td>XC70</td>\n",
       "      <td>2000</td>\n",
       "      <td>1746</td>\n",
       "      <td>117</td>\n",
       "    </tr>\n",
       "    <tr>\n",
       "      <th>32</th>\n",
       "      <td>Ford</td>\n",
       "      <td>B-Max</td>\n",
       "      <td>1600</td>\n",
       "      <td>1235</td>\n",
       "      <td>104</td>\n",
       "    </tr>\n",
       "    <tr>\n",
       "      <th>33</th>\n",
       "      <td>BMW</td>\n",
       "      <td>2</td>\n",
       "      <td>1600</td>\n",
       "      <td>1390</td>\n",
       "      <td>108</td>\n",
       "    </tr>\n",
       "    <tr>\n",
       "      <th>34</th>\n",
       "      <td>Opel</td>\n",
       "      <td>Zafira</td>\n",
       "      <td>1600</td>\n",
       "      <td>1405</td>\n",
       "      <td>109</td>\n",
       "    </tr>\n",
       "    <tr>\n",
       "      <th>35</th>\n",
       "      <td>Mercedes</td>\n",
       "      <td>SLK</td>\n",
       "      <td>2500</td>\n",
       "      <td>1395</td>\n",
       "      <td>120</td>\n",
       "    </tr>\n",
       "  </tbody>\n",
       "</table>\n",
       "</div>"
      ],
      "text/plain": [
       "           Car       Model  Volume  Weight  CO2\n",
       "0       Toyota        Aygo    1000     790   99\n",
       "1   Mitsubishi  Space Star    1200    1160   95\n",
       "2        Skoda      Citigo    1000     929   95\n",
       "3         Fiat         500     900     865   90\n",
       "4         Mini      Cooper    1500    1140  105\n",
       "5           VW         Up!    1000     929  105\n",
       "6        Skoda       Fabia    1400    1109   90\n",
       "7     Mercedes     A-Class    1500    1365   92\n",
       "8         Ford      Fiesta    1500    1112   98\n",
       "9         Audi          A1    1600    1150   99\n",
       "10     Hyundai         I20    1100     980   99\n",
       "11      Suzuki       Swift    1300     990  101\n",
       "12        Ford      Fiesta    1000    1112   99\n",
       "13       Honda       Civic    1600    1252   94\n",
       "14      Hundai         I30    1600    1326   97\n",
       "15        Opel       Astra    1600    1330   97\n",
       "16         BMW           1    1600    1365   99\n",
       "17       Mazda           3    2200    1280  104\n",
       "18       Skoda       Rapid    1600    1119  104\n",
       "19        Ford       Focus    2000    1328  105\n",
       "20        Ford      Mondeo    1600    1584   94\n",
       "21        Opel    Insignia    2000    1428   99\n",
       "22    Mercedes     C-Class    2100    1365   99\n",
       "23       Skoda     Octavia    1600    1415   99\n",
       "24       Volvo         S60    2000    1415   99\n",
       "25    Mercedes         CLA    1500    1465  102\n",
       "26        Audi          A4    2000    1490  104\n",
       "27        Audi          A6    2000    1725  114\n",
       "28       Volvo         V70    1600    1523  109\n",
       "29         BMW           5    2000    1705  114\n",
       "30    Mercedes     E-Class    2100    1605  115\n",
       "31       Volvo        XC70    2000    1746  117\n",
       "32        Ford       B-Max    1600    1235  104\n",
       "33         BMW           2    1600    1390  108\n",
       "34        Opel      Zafira    1600    1405  109\n",
       "35    Mercedes         SLK    2500    1395  120"
      ]
     },
     "execution_count": 17,
     "metadata": {},
     "output_type": "execute_result"
    }
   ],
   "source": [
    "import requests\n",
    "from bs4 import BeautifulSoup\n",
    "import pandas as pd\n",
    "\n",
    "# 爬虫\n",
    "url = \"https://www.w3schools.com/python/python_ml_multiple_regression.asp\"\n",
    "web = requests.get(url)\n",
    "\n",
    "soup = BeautifulSoup(web.text, \"lxml\")\n",
    "\n",
    "table = soup.find('table',{'class':'ws-table-all'})\n",
    "\n",
    "# 整理出標題\n",
    "columns = [td.text.replace(',','') for td in table.find_all('td')]\n",
    "column = columns[:5]\n",
    "\n",
    "# select_one：搜索類名、標籤名、id名，因為我們要找的是classname所以用.w3-border-bottom\n",
    "table2 = soup.select_one('.w3-border-bottom')\n",
    "# 函數將我們的data物件美化作用\n",
    "dfs = pd.read_html(table2.prettify())\n",
    "df = dfs[1]\n",
    "\n",
    "df.columns = column\n",
    "df"
   ]
  },
  {
   "attachments": {},
   "cell_type": "markdown",
   "metadata": {},
   "source": [
    "In the multiple regression chapter, we tried to predict the CO2 emitted based on the volume of the engine and the weight of the car but we excluded(排除) information about the car brand and model.\n",
    "\n",
    "The information about the car brand or the car model might help us make a better prediction of the CO2 emitted."
   ]
  },
  {
   "attachments": {},
   "cell_type": "markdown",
   "metadata": {},
   "source": [
    "### One HOt Encoding 一位元編碼\n",
    "\n",
    "We cannot make use of the CAR OR model column in our data since they are not numeric. A linear relationship(线性关系) between a categorical variable(分类变量), Car or Model, and a numeric variable(数字变量), CO2, cannot be determined.\n",
    "\n",
    "To fix this issue, we must have anumeric representation of the categorical variable. One way to do this is to have a colun representing each group in the category.\n",
    "\n",
    "For each column, the values will be 1 or 0 where 1 represents the inclusion of the group and 0 represents the exclusion. This transformation is called one hot encoding.\n",
    "\n",
    "Do not have to do this manually, the Python pandas module has a function that called `get_dummies()` which does one hot encoding.\n",
    "\n"
   ]
  },
  {
   "cell_type": "code",
   "execution_count": 20,
   "metadata": {},
   "outputs": [
    {
     "data": {
      "text/html": [
       "<div>\n",
       "<style scoped>\n",
       "    .dataframe tbody tr th:only-of-type {\n",
       "        vertical-align: middle;\n",
       "    }\n",
       "\n",
       "    .dataframe tbody tr th {\n",
       "        vertical-align: top;\n",
       "    }\n",
       "\n",
       "    .dataframe thead th {\n",
       "        text-align: right;\n",
       "    }\n",
       "</style>\n",
       "<table border=\"1\" class=\"dataframe\">\n",
       "  <thead>\n",
       "    <tr style=\"text-align: right;\">\n",
       "      <th></th>\n",
       "      <th>Car_Audi</th>\n",
       "      <th>Car_BMW</th>\n",
       "      <th>Car_Fiat</th>\n",
       "      <th>Car_Ford</th>\n",
       "      <th>Car_Honda</th>\n",
       "      <th>Car_Hundai</th>\n",
       "      <th>Car_Hyundai</th>\n",
       "      <th>Car_Mazda</th>\n",
       "      <th>Car_Mercedes</th>\n",
       "      <th>Car_Mini</th>\n",
       "      <th>Car_Mitsubishi</th>\n",
       "      <th>Car_Opel</th>\n",
       "      <th>Car_Skoda</th>\n",
       "      <th>Car_Suzuki</th>\n",
       "      <th>Car_Toyota</th>\n",
       "      <th>Car_VW</th>\n",
       "      <th>Car_Volvo</th>\n",
       "    </tr>\n",
       "  </thead>\n",
       "  <tbody>\n",
       "    <tr>\n",
       "      <th>0</th>\n",
       "      <td>0</td>\n",
       "      <td>0</td>\n",
       "      <td>0</td>\n",
       "      <td>0</td>\n",
       "      <td>0</td>\n",
       "      <td>0</td>\n",
       "      <td>0</td>\n",
       "      <td>0</td>\n",
       "      <td>0</td>\n",
       "      <td>0</td>\n",
       "      <td>0</td>\n",
       "      <td>0</td>\n",
       "      <td>0</td>\n",
       "      <td>0</td>\n",
       "      <td>1</td>\n",
       "      <td>0</td>\n",
       "      <td>0</td>\n",
       "    </tr>\n",
       "    <tr>\n",
       "      <th>1</th>\n",
       "      <td>0</td>\n",
       "      <td>0</td>\n",
       "      <td>0</td>\n",
       "      <td>0</td>\n",
       "      <td>0</td>\n",
       "      <td>0</td>\n",
       "      <td>0</td>\n",
       "      <td>0</td>\n",
       "      <td>0</td>\n",
       "      <td>0</td>\n",
       "      <td>1</td>\n",
       "      <td>0</td>\n",
       "      <td>0</td>\n",
       "      <td>0</td>\n",
       "      <td>0</td>\n",
       "      <td>0</td>\n",
       "      <td>0</td>\n",
       "    </tr>\n",
       "    <tr>\n",
       "      <th>2</th>\n",
       "      <td>0</td>\n",
       "      <td>0</td>\n",
       "      <td>0</td>\n",
       "      <td>0</td>\n",
       "      <td>0</td>\n",
       "      <td>0</td>\n",
       "      <td>0</td>\n",
       "      <td>0</td>\n",
       "      <td>0</td>\n",
       "      <td>0</td>\n",
       "      <td>0</td>\n",
       "      <td>0</td>\n",
       "      <td>1</td>\n",
       "      <td>0</td>\n",
       "      <td>0</td>\n",
       "      <td>0</td>\n",
       "      <td>0</td>\n",
       "    </tr>\n",
       "    <tr>\n",
       "      <th>3</th>\n",
       "      <td>0</td>\n",
       "      <td>0</td>\n",
       "      <td>1</td>\n",
       "      <td>0</td>\n",
       "      <td>0</td>\n",
       "      <td>0</td>\n",
       "      <td>0</td>\n",
       "      <td>0</td>\n",
       "      <td>0</td>\n",
       "      <td>0</td>\n",
       "      <td>0</td>\n",
       "      <td>0</td>\n",
       "      <td>0</td>\n",
       "      <td>0</td>\n",
       "      <td>0</td>\n",
       "      <td>0</td>\n",
       "      <td>0</td>\n",
       "    </tr>\n",
       "    <tr>\n",
       "      <th>4</th>\n",
       "      <td>0</td>\n",
       "      <td>0</td>\n",
       "      <td>0</td>\n",
       "      <td>0</td>\n",
       "      <td>0</td>\n",
       "      <td>0</td>\n",
       "      <td>0</td>\n",
       "      <td>0</td>\n",
       "      <td>0</td>\n",
       "      <td>1</td>\n",
       "      <td>0</td>\n",
       "      <td>0</td>\n",
       "      <td>0</td>\n",
       "      <td>0</td>\n",
       "      <td>0</td>\n",
       "      <td>0</td>\n",
       "      <td>0</td>\n",
       "    </tr>\n",
       "    <tr>\n",
       "      <th>5</th>\n",
       "      <td>0</td>\n",
       "      <td>0</td>\n",
       "      <td>0</td>\n",
       "      <td>0</td>\n",
       "      <td>0</td>\n",
       "      <td>0</td>\n",
       "      <td>0</td>\n",
       "      <td>0</td>\n",
       "      <td>0</td>\n",
       "      <td>0</td>\n",
       "      <td>0</td>\n",
       "      <td>0</td>\n",
       "      <td>0</td>\n",
       "      <td>0</td>\n",
       "      <td>0</td>\n",
       "      <td>1</td>\n",
       "      <td>0</td>\n",
       "    </tr>\n",
       "    <tr>\n",
       "      <th>6</th>\n",
       "      <td>0</td>\n",
       "      <td>0</td>\n",
       "      <td>0</td>\n",
       "      <td>0</td>\n",
       "      <td>0</td>\n",
       "      <td>0</td>\n",
       "      <td>0</td>\n",
       "      <td>0</td>\n",
       "      <td>0</td>\n",
       "      <td>0</td>\n",
       "      <td>0</td>\n",
       "      <td>0</td>\n",
       "      <td>1</td>\n",
       "      <td>0</td>\n",
       "      <td>0</td>\n",
       "      <td>0</td>\n",
       "      <td>0</td>\n",
       "    </tr>\n",
       "    <tr>\n",
       "      <th>7</th>\n",
       "      <td>0</td>\n",
       "      <td>0</td>\n",
       "      <td>0</td>\n",
       "      <td>0</td>\n",
       "      <td>0</td>\n",
       "      <td>0</td>\n",
       "      <td>0</td>\n",
       "      <td>0</td>\n",
       "      <td>1</td>\n",
       "      <td>0</td>\n",
       "      <td>0</td>\n",
       "      <td>0</td>\n",
       "      <td>0</td>\n",
       "      <td>0</td>\n",
       "      <td>0</td>\n",
       "      <td>0</td>\n",
       "      <td>0</td>\n",
       "    </tr>\n",
       "    <tr>\n",
       "      <th>8</th>\n",
       "      <td>0</td>\n",
       "      <td>0</td>\n",
       "      <td>0</td>\n",
       "      <td>1</td>\n",
       "      <td>0</td>\n",
       "      <td>0</td>\n",
       "      <td>0</td>\n",
       "      <td>0</td>\n",
       "      <td>0</td>\n",
       "      <td>0</td>\n",
       "      <td>0</td>\n",
       "      <td>0</td>\n",
       "      <td>0</td>\n",
       "      <td>0</td>\n",
       "      <td>0</td>\n",
       "      <td>0</td>\n",
       "      <td>0</td>\n",
       "    </tr>\n",
       "    <tr>\n",
       "      <th>9</th>\n",
       "      <td>1</td>\n",
       "      <td>0</td>\n",
       "      <td>0</td>\n",
       "      <td>0</td>\n",
       "      <td>0</td>\n",
       "      <td>0</td>\n",
       "      <td>0</td>\n",
       "      <td>0</td>\n",
       "      <td>0</td>\n",
       "      <td>0</td>\n",
       "      <td>0</td>\n",
       "      <td>0</td>\n",
       "      <td>0</td>\n",
       "      <td>0</td>\n",
       "      <td>0</td>\n",
       "      <td>0</td>\n",
       "      <td>0</td>\n",
       "    </tr>\n",
       "    <tr>\n",
       "      <th>10</th>\n",
       "      <td>0</td>\n",
       "      <td>0</td>\n",
       "      <td>0</td>\n",
       "      <td>0</td>\n",
       "      <td>0</td>\n",
       "      <td>0</td>\n",
       "      <td>1</td>\n",
       "      <td>0</td>\n",
       "      <td>0</td>\n",
       "      <td>0</td>\n",
       "      <td>0</td>\n",
       "      <td>0</td>\n",
       "      <td>0</td>\n",
       "      <td>0</td>\n",
       "      <td>0</td>\n",
       "      <td>0</td>\n",
       "      <td>0</td>\n",
       "    </tr>\n",
       "    <tr>\n",
       "      <th>11</th>\n",
       "      <td>0</td>\n",
       "      <td>0</td>\n",
       "      <td>0</td>\n",
       "      <td>0</td>\n",
       "      <td>0</td>\n",
       "      <td>0</td>\n",
       "      <td>0</td>\n",
       "      <td>0</td>\n",
       "      <td>0</td>\n",
       "      <td>0</td>\n",
       "      <td>0</td>\n",
       "      <td>0</td>\n",
       "      <td>0</td>\n",
       "      <td>1</td>\n",
       "      <td>0</td>\n",
       "      <td>0</td>\n",
       "      <td>0</td>\n",
       "    </tr>\n",
       "    <tr>\n",
       "      <th>12</th>\n",
       "      <td>0</td>\n",
       "      <td>0</td>\n",
       "      <td>0</td>\n",
       "      <td>1</td>\n",
       "      <td>0</td>\n",
       "      <td>0</td>\n",
       "      <td>0</td>\n",
       "      <td>0</td>\n",
       "      <td>0</td>\n",
       "      <td>0</td>\n",
       "      <td>0</td>\n",
       "      <td>0</td>\n",
       "      <td>0</td>\n",
       "      <td>0</td>\n",
       "      <td>0</td>\n",
       "      <td>0</td>\n",
       "      <td>0</td>\n",
       "    </tr>\n",
       "    <tr>\n",
       "      <th>13</th>\n",
       "      <td>0</td>\n",
       "      <td>0</td>\n",
       "      <td>0</td>\n",
       "      <td>0</td>\n",
       "      <td>1</td>\n",
       "      <td>0</td>\n",
       "      <td>0</td>\n",
       "      <td>0</td>\n",
       "      <td>0</td>\n",
       "      <td>0</td>\n",
       "      <td>0</td>\n",
       "      <td>0</td>\n",
       "      <td>0</td>\n",
       "      <td>0</td>\n",
       "      <td>0</td>\n",
       "      <td>0</td>\n",
       "      <td>0</td>\n",
       "    </tr>\n",
       "    <tr>\n",
       "      <th>14</th>\n",
       "      <td>0</td>\n",
       "      <td>0</td>\n",
       "      <td>0</td>\n",
       "      <td>0</td>\n",
       "      <td>0</td>\n",
       "      <td>1</td>\n",
       "      <td>0</td>\n",
       "      <td>0</td>\n",
       "      <td>0</td>\n",
       "      <td>0</td>\n",
       "      <td>0</td>\n",
       "      <td>0</td>\n",
       "      <td>0</td>\n",
       "      <td>0</td>\n",
       "      <td>0</td>\n",
       "      <td>0</td>\n",
       "      <td>0</td>\n",
       "    </tr>\n",
       "    <tr>\n",
       "      <th>15</th>\n",
       "      <td>0</td>\n",
       "      <td>0</td>\n",
       "      <td>0</td>\n",
       "      <td>0</td>\n",
       "      <td>0</td>\n",
       "      <td>0</td>\n",
       "      <td>0</td>\n",
       "      <td>0</td>\n",
       "      <td>0</td>\n",
       "      <td>0</td>\n",
       "      <td>0</td>\n",
       "      <td>1</td>\n",
       "      <td>0</td>\n",
       "      <td>0</td>\n",
       "      <td>0</td>\n",
       "      <td>0</td>\n",
       "      <td>0</td>\n",
       "    </tr>\n",
       "    <tr>\n",
       "      <th>16</th>\n",
       "      <td>0</td>\n",
       "      <td>1</td>\n",
       "      <td>0</td>\n",
       "      <td>0</td>\n",
       "      <td>0</td>\n",
       "      <td>0</td>\n",
       "      <td>0</td>\n",
       "      <td>0</td>\n",
       "      <td>0</td>\n",
       "      <td>0</td>\n",
       "      <td>0</td>\n",
       "      <td>0</td>\n",
       "      <td>0</td>\n",
       "      <td>0</td>\n",
       "      <td>0</td>\n",
       "      <td>0</td>\n",
       "      <td>0</td>\n",
       "    </tr>\n",
       "    <tr>\n",
       "      <th>17</th>\n",
       "      <td>0</td>\n",
       "      <td>0</td>\n",
       "      <td>0</td>\n",
       "      <td>0</td>\n",
       "      <td>0</td>\n",
       "      <td>0</td>\n",
       "      <td>0</td>\n",
       "      <td>1</td>\n",
       "      <td>0</td>\n",
       "      <td>0</td>\n",
       "      <td>0</td>\n",
       "      <td>0</td>\n",
       "      <td>0</td>\n",
       "      <td>0</td>\n",
       "      <td>0</td>\n",
       "      <td>0</td>\n",
       "      <td>0</td>\n",
       "    </tr>\n",
       "    <tr>\n",
       "      <th>18</th>\n",
       "      <td>0</td>\n",
       "      <td>0</td>\n",
       "      <td>0</td>\n",
       "      <td>0</td>\n",
       "      <td>0</td>\n",
       "      <td>0</td>\n",
       "      <td>0</td>\n",
       "      <td>0</td>\n",
       "      <td>0</td>\n",
       "      <td>0</td>\n",
       "      <td>0</td>\n",
       "      <td>0</td>\n",
       "      <td>1</td>\n",
       "      <td>0</td>\n",
       "      <td>0</td>\n",
       "      <td>0</td>\n",
       "      <td>0</td>\n",
       "    </tr>\n",
       "    <tr>\n",
       "      <th>19</th>\n",
       "      <td>0</td>\n",
       "      <td>0</td>\n",
       "      <td>0</td>\n",
       "      <td>1</td>\n",
       "      <td>0</td>\n",
       "      <td>0</td>\n",
       "      <td>0</td>\n",
       "      <td>0</td>\n",
       "      <td>0</td>\n",
       "      <td>0</td>\n",
       "      <td>0</td>\n",
       "      <td>0</td>\n",
       "      <td>0</td>\n",
       "      <td>0</td>\n",
       "      <td>0</td>\n",
       "      <td>0</td>\n",
       "      <td>0</td>\n",
       "    </tr>\n",
       "    <tr>\n",
       "      <th>20</th>\n",
       "      <td>0</td>\n",
       "      <td>0</td>\n",
       "      <td>0</td>\n",
       "      <td>1</td>\n",
       "      <td>0</td>\n",
       "      <td>0</td>\n",
       "      <td>0</td>\n",
       "      <td>0</td>\n",
       "      <td>0</td>\n",
       "      <td>0</td>\n",
       "      <td>0</td>\n",
       "      <td>0</td>\n",
       "      <td>0</td>\n",
       "      <td>0</td>\n",
       "      <td>0</td>\n",
       "      <td>0</td>\n",
       "      <td>0</td>\n",
       "    </tr>\n",
       "    <tr>\n",
       "      <th>21</th>\n",
       "      <td>0</td>\n",
       "      <td>0</td>\n",
       "      <td>0</td>\n",
       "      <td>0</td>\n",
       "      <td>0</td>\n",
       "      <td>0</td>\n",
       "      <td>0</td>\n",
       "      <td>0</td>\n",
       "      <td>0</td>\n",
       "      <td>0</td>\n",
       "      <td>0</td>\n",
       "      <td>1</td>\n",
       "      <td>0</td>\n",
       "      <td>0</td>\n",
       "      <td>0</td>\n",
       "      <td>0</td>\n",
       "      <td>0</td>\n",
       "    </tr>\n",
       "    <tr>\n",
       "      <th>22</th>\n",
       "      <td>0</td>\n",
       "      <td>0</td>\n",
       "      <td>0</td>\n",
       "      <td>0</td>\n",
       "      <td>0</td>\n",
       "      <td>0</td>\n",
       "      <td>0</td>\n",
       "      <td>0</td>\n",
       "      <td>1</td>\n",
       "      <td>0</td>\n",
       "      <td>0</td>\n",
       "      <td>0</td>\n",
       "      <td>0</td>\n",
       "      <td>0</td>\n",
       "      <td>0</td>\n",
       "      <td>0</td>\n",
       "      <td>0</td>\n",
       "    </tr>\n",
       "    <tr>\n",
       "      <th>23</th>\n",
       "      <td>0</td>\n",
       "      <td>0</td>\n",
       "      <td>0</td>\n",
       "      <td>0</td>\n",
       "      <td>0</td>\n",
       "      <td>0</td>\n",
       "      <td>0</td>\n",
       "      <td>0</td>\n",
       "      <td>0</td>\n",
       "      <td>0</td>\n",
       "      <td>0</td>\n",
       "      <td>0</td>\n",
       "      <td>1</td>\n",
       "      <td>0</td>\n",
       "      <td>0</td>\n",
       "      <td>0</td>\n",
       "      <td>0</td>\n",
       "    </tr>\n",
       "    <tr>\n",
       "      <th>24</th>\n",
       "      <td>0</td>\n",
       "      <td>0</td>\n",
       "      <td>0</td>\n",
       "      <td>0</td>\n",
       "      <td>0</td>\n",
       "      <td>0</td>\n",
       "      <td>0</td>\n",
       "      <td>0</td>\n",
       "      <td>0</td>\n",
       "      <td>0</td>\n",
       "      <td>0</td>\n",
       "      <td>0</td>\n",
       "      <td>0</td>\n",
       "      <td>0</td>\n",
       "      <td>0</td>\n",
       "      <td>0</td>\n",
       "      <td>1</td>\n",
       "    </tr>\n",
       "    <tr>\n",
       "      <th>25</th>\n",
       "      <td>0</td>\n",
       "      <td>0</td>\n",
       "      <td>0</td>\n",
       "      <td>0</td>\n",
       "      <td>0</td>\n",
       "      <td>0</td>\n",
       "      <td>0</td>\n",
       "      <td>0</td>\n",
       "      <td>1</td>\n",
       "      <td>0</td>\n",
       "      <td>0</td>\n",
       "      <td>0</td>\n",
       "      <td>0</td>\n",
       "      <td>0</td>\n",
       "      <td>0</td>\n",
       "      <td>0</td>\n",
       "      <td>0</td>\n",
       "    </tr>\n",
       "    <tr>\n",
       "      <th>26</th>\n",
       "      <td>1</td>\n",
       "      <td>0</td>\n",
       "      <td>0</td>\n",
       "      <td>0</td>\n",
       "      <td>0</td>\n",
       "      <td>0</td>\n",
       "      <td>0</td>\n",
       "      <td>0</td>\n",
       "      <td>0</td>\n",
       "      <td>0</td>\n",
       "      <td>0</td>\n",
       "      <td>0</td>\n",
       "      <td>0</td>\n",
       "      <td>0</td>\n",
       "      <td>0</td>\n",
       "      <td>0</td>\n",
       "      <td>0</td>\n",
       "    </tr>\n",
       "    <tr>\n",
       "      <th>27</th>\n",
       "      <td>1</td>\n",
       "      <td>0</td>\n",
       "      <td>0</td>\n",
       "      <td>0</td>\n",
       "      <td>0</td>\n",
       "      <td>0</td>\n",
       "      <td>0</td>\n",
       "      <td>0</td>\n",
       "      <td>0</td>\n",
       "      <td>0</td>\n",
       "      <td>0</td>\n",
       "      <td>0</td>\n",
       "      <td>0</td>\n",
       "      <td>0</td>\n",
       "      <td>0</td>\n",
       "      <td>0</td>\n",
       "      <td>0</td>\n",
       "    </tr>\n",
       "    <tr>\n",
       "      <th>28</th>\n",
       "      <td>0</td>\n",
       "      <td>0</td>\n",
       "      <td>0</td>\n",
       "      <td>0</td>\n",
       "      <td>0</td>\n",
       "      <td>0</td>\n",
       "      <td>0</td>\n",
       "      <td>0</td>\n",
       "      <td>0</td>\n",
       "      <td>0</td>\n",
       "      <td>0</td>\n",
       "      <td>0</td>\n",
       "      <td>0</td>\n",
       "      <td>0</td>\n",
       "      <td>0</td>\n",
       "      <td>0</td>\n",
       "      <td>1</td>\n",
       "    </tr>\n",
       "    <tr>\n",
       "      <th>29</th>\n",
       "      <td>0</td>\n",
       "      <td>1</td>\n",
       "      <td>0</td>\n",
       "      <td>0</td>\n",
       "      <td>0</td>\n",
       "      <td>0</td>\n",
       "      <td>0</td>\n",
       "      <td>0</td>\n",
       "      <td>0</td>\n",
       "      <td>0</td>\n",
       "      <td>0</td>\n",
       "      <td>0</td>\n",
       "      <td>0</td>\n",
       "      <td>0</td>\n",
       "      <td>0</td>\n",
       "      <td>0</td>\n",
       "      <td>0</td>\n",
       "    </tr>\n",
       "    <tr>\n",
       "      <th>30</th>\n",
       "      <td>0</td>\n",
       "      <td>0</td>\n",
       "      <td>0</td>\n",
       "      <td>0</td>\n",
       "      <td>0</td>\n",
       "      <td>0</td>\n",
       "      <td>0</td>\n",
       "      <td>0</td>\n",
       "      <td>1</td>\n",
       "      <td>0</td>\n",
       "      <td>0</td>\n",
       "      <td>0</td>\n",
       "      <td>0</td>\n",
       "      <td>0</td>\n",
       "      <td>0</td>\n",
       "      <td>0</td>\n",
       "      <td>0</td>\n",
       "    </tr>\n",
       "    <tr>\n",
       "      <th>31</th>\n",
       "      <td>0</td>\n",
       "      <td>0</td>\n",
       "      <td>0</td>\n",
       "      <td>0</td>\n",
       "      <td>0</td>\n",
       "      <td>0</td>\n",
       "      <td>0</td>\n",
       "      <td>0</td>\n",
       "      <td>0</td>\n",
       "      <td>0</td>\n",
       "      <td>0</td>\n",
       "      <td>0</td>\n",
       "      <td>0</td>\n",
       "      <td>0</td>\n",
       "      <td>0</td>\n",
       "      <td>0</td>\n",
       "      <td>1</td>\n",
       "    </tr>\n",
       "    <tr>\n",
       "      <th>32</th>\n",
       "      <td>0</td>\n",
       "      <td>0</td>\n",
       "      <td>0</td>\n",
       "      <td>1</td>\n",
       "      <td>0</td>\n",
       "      <td>0</td>\n",
       "      <td>0</td>\n",
       "      <td>0</td>\n",
       "      <td>0</td>\n",
       "      <td>0</td>\n",
       "      <td>0</td>\n",
       "      <td>0</td>\n",
       "      <td>0</td>\n",
       "      <td>0</td>\n",
       "      <td>0</td>\n",
       "      <td>0</td>\n",
       "      <td>0</td>\n",
       "    </tr>\n",
       "    <tr>\n",
       "      <th>33</th>\n",
       "      <td>0</td>\n",
       "      <td>1</td>\n",
       "      <td>0</td>\n",
       "      <td>0</td>\n",
       "      <td>0</td>\n",
       "      <td>0</td>\n",
       "      <td>0</td>\n",
       "      <td>0</td>\n",
       "      <td>0</td>\n",
       "      <td>0</td>\n",
       "      <td>0</td>\n",
       "      <td>0</td>\n",
       "      <td>0</td>\n",
       "      <td>0</td>\n",
       "      <td>0</td>\n",
       "      <td>0</td>\n",
       "      <td>0</td>\n",
       "    </tr>\n",
       "    <tr>\n",
       "      <th>34</th>\n",
       "      <td>0</td>\n",
       "      <td>0</td>\n",
       "      <td>0</td>\n",
       "      <td>0</td>\n",
       "      <td>0</td>\n",
       "      <td>0</td>\n",
       "      <td>0</td>\n",
       "      <td>0</td>\n",
       "      <td>0</td>\n",
       "      <td>0</td>\n",
       "      <td>0</td>\n",
       "      <td>1</td>\n",
       "      <td>0</td>\n",
       "      <td>0</td>\n",
       "      <td>0</td>\n",
       "      <td>0</td>\n",
       "      <td>0</td>\n",
       "    </tr>\n",
       "    <tr>\n",
       "      <th>35</th>\n",
       "      <td>0</td>\n",
       "      <td>0</td>\n",
       "      <td>0</td>\n",
       "      <td>0</td>\n",
       "      <td>0</td>\n",
       "      <td>0</td>\n",
       "      <td>0</td>\n",
       "      <td>0</td>\n",
       "      <td>1</td>\n",
       "      <td>0</td>\n",
       "      <td>0</td>\n",
       "      <td>0</td>\n",
       "      <td>0</td>\n",
       "      <td>0</td>\n",
       "      <td>0</td>\n",
       "      <td>0</td>\n",
       "      <td>0</td>\n",
       "    </tr>\n",
       "  </tbody>\n",
       "</table>\n",
       "</div>"
      ],
      "text/plain": [
       "    Car_Audi  Car_BMW  Car_Fiat  Car_Ford  Car_Honda  Car_Hundai  Car_Hyundai  \\\n",
       "0          0        0         0         0          0           0            0   \n",
       "1          0        0         0         0          0           0            0   \n",
       "2          0        0         0         0          0           0            0   \n",
       "3          0        0         1         0          0           0            0   \n",
       "4          0        0         0         0          0           0            0   \n",
       "5          0        0         0         0          0           0            0   \n",
       "6          0        0         0         0          0           0            0   \n",
       "7          0        0         0         0          0           0            0   \n",
       "8          0        0         0         1          0           0            0   \n",
       "9          1        0         0         0          0           0            0   \n",
       "10         0        0         0         0          0           0            1   \n",
       "11         0        0         0         0          0           0            0   \n",
       "12         0        0         0         1          0           0            0   \n",
       "13         0        0         0         0          1           0            0   \n",
       "14         0        0         0         0          0           1            0   \n",
       "15         0        0         0         0          0           0            0   \n",
       "16         0        1         0         0          0           0            0   \n",
       "17         0        0         0         0          0           0            0   \n",
       "18         0        0         0         0          0           0            0   \n",
       "19         0        0         0         1          0           0            0   \n",
       "20         0        0         0         1          0           0            0   \n",
       "21         0        0         0         0          0           0            0   \n",
       "22         0        0         0         0          0           0            0   \n",
       "23         0        0         0         0          0           0            0   \n",
       "24         0        0         0         0          0           0            0   \n",
       "25         0        0         0         0          0           0            0   \n",
       "26         1        0         0         0          0           0            0   \n",
       "27         1        0         0         0          0           0            0   \n",
       "28         0        0         0         0          0           0            0   \n",
       "29         0        1         0         0          0           0            0   \n",
       "30         0        0         0         0          0           0            0   \n",
       "31         0        0         0         0          0           0            0   \n",
       "32         0        0         0         1          0           0            0   \n",
       "33         0        1         0         0          0           0            0   \n",
       "34         0        0         0         0          0           0            0   \n",
       "35         0        0         0         0          0           0            0   \n",
       "\n",
       "    Car_Mazda  Car_Mercedes  Car_Mini  Car_Mitsubishi  Car_Opel  Car_Skoda  \\\n",
       "0           0             0         0               0         0          0   \n",
       "1           0             0         0               1         0          0   \n",
       "2           0             0         0               0         0          1   \n",
       "3           0             0         0               0         0          0   \n",
       "4           0             0         1               0         0          0   \n",
       "5           0             0         0               0         0          0   \n",
       "6           0             0         0               0         0          1   \n",
       "7           0             1         0               0         0          0   \n",
       "8           0             0         0               0         0          0   \n",
       "9           0             0         0               0         0          0   \n",
       "10          0             0         0               0         0          0   \n",
       "11          0             0         0               0         0          0   \n",
       "12          0             0         0               0         0          0   \n",
       "13          0             0         0               0         0          0   \n",
       "14          0             0         0               0         0          0   \n",
       "15          0             0         0               0         1          0   \n",
       "16          0             0         0               0         0          0   \n",
       "17          1             0         0               0         0          0   \n",
       "18          0             0         0               0         0          1   \n",
       "19          0             0         0               0         0          0   \n",
       "20          0             0         0               0         0          0   \n",
       "21          0             0         0               0         1          0   \n",
       "22          0             1         0               0         0          0   \n",
       "23          0             0         0               0         0          1   \n",
       "24          0             0         0               0         0          0   \n",
       "25          0             1         0               0         0          0   \n",
       "26          0             0         0               0         0          0   \n",
       "27          0             0         0               0         0          0   \n",
       "28          0             0         0               0         0          0   \n",
       "29          0             0         0               0         0          0   \n",
       "30          0             1         0               0         0          0   \n",
       "31          0             0         0               0         0          0   \n",
       "32          0             0         0               0         0          0   \n",
       "33          0             0         0               0         0          0   \n",
       "34          0             0         0               0         1          0   \n",
       "35          0             1         0               0         0          0   \n",
       "\n",
       "    Car_Suzuki  Car_Toyota  Car_VW  Car_Volvo  \n",
       "0            0           1       0          0  \n",
       "1            0           0       0          0  \n",
       "2            0           0       0          0  \n",
       "3            0           0       0          0  \n",
       "4            0           0       0          0  \n",
       "5            0           0       1          0  \n",
       "6            0           0       0          0  \n",
       "7            0           0       0          0  \n",
       "8            0           0       0          0  \n",
       "9            0           0       0          0  \n",
       "10           0           0       0          0  \n",
       "11           1           0       0          0  \n",
       "12           0           0       0          0  \n",
       "13           0           0       0          0  \n",
       "14           0           0       0          0  \n",
       "15           0           0       0          0  \n",
       "16           0           0       0          0  \n",
       "17           0           0       0          0  \n",
       "18           0           0       0          0  \n",
       "19           0           0       0          0  \n",
       "20           0           0       0          0  \n",
       "21           0           0       0          0  \n",
       "22           0           0       0          0  \n",
       "23           0           0       0          0  \n",
       "24           0           0       0          1  \n",
       "25           0           0       0          0  \n",
       "26           0           0       0          0  \n",
       "27           0           0       0          0  \n",
       "28           0           0       0          1  \n",
       "29           0           0       0          0  \n",
       "30           0           0       0          0  \n",
       "31           0           0       0          1  \n",
       "32           0           0       0          0  \n",
       "33           0           0       0          0  \n",
       "34           0           0       0          0  \n",
       "35           0           0       0          0  "
      ]
     },
     "execution_count": 20,
     "metadata": {},
     "output_type": "execute_result"
    }
   ],
   "source": [
    "cars = df\n",
    "ohe_cars = pd.get_dummies(cars[['Car']])\n",
    "\n",
    "# A column was created for every car brand in the Car column\n",
    "ohe_cars"
   ]
  },
  {
   "attachments": {},
   "cell_type": "markdown",
   "metadata": {},
   "source": [
    "### Predict C02\n",
    "\n",
    "We can use this additional information alongside the volume and weight to predict CO2.\n",
    "\n",
    "To combine the information, we can use the `concat()` function from pandas."
   ]
  },
  {
   "cell_type": "code",
   "execution_count": 28,
   "metadata": {},
   "outputs": [
    {
     "name": "stderr",
     "output_type": "stream",
     "text": [
      "c:\\Users\\PAN\\anaconda3\\lib\\site-packages\\sklearn\\base.py:450: UserWarning: X does not have valid feature names, but LinearRegression was fitted with feature names\n",
      "  warnings.warn(\n"
     ]
    },
    {
     "data": {
      "text/plain": [
       "array([122.45153299])"
      ]
     },
     "execution_count": 28,
     "metadata": {},
     "output_type": "execute_result"
    }
   ],
   "source": [
    "import pandas as pd\n",
    "from sklearn import linear_model\n",
    "\n",
    "cars = df\n",
    "ohe_cars = pd.get_dummies(cars[['Car']])\n",
    "\n",
    "# Then we must select the independent variables(X) and add the dummy variables columnwise.\n",
    "\n",
    "X = pd.concat([cars[['Volume', 'Weight']], ohe_cars], axis=1)\n",
    "y = cars['CO2']\n",
    "\n",
    "regr = linear_model.LinearRegression()\n",
    "regr.fit(X, y)\n",
    "\n",
    "# Finally, we can predict the CO2 emissions based on the car's weight, volume, and manufacturer(制造商).\n",
    "\n",
    "# predict the CO2 emission of a Volvo where the weight is 2300kg, and the volume is 1300cm3\n",
    "predictedC02 = regr.predict([[2300,1300,0,0,0,0,0,0,0,0,0,0,0,0,0,0,0,1,0]])\n",
    "\n",
    "predictedC02"
   ]
  },
  {
   "attachments": {},
   "cell_type": "markdown",
   "metadata": {},
   "source": [
    "### Dummifying 虚拟化\n",
    "\n",
    "It is not necessary to create one column for each group in your category. The information can be retained using 1 colum less than the number of groups you have.\n",
    "\n",
    "对于每个分组不必创建一列，可以使用比分组少一列的信息来保留信息。\n",
    "\n",
    "For example, you have a column representing colors and in that column, you have two colors, red and blue."
   ]
  },
  {
   "cell_type": "code",
   "execution_count": 29,
   "metadata": {},
   "outputs": [
    {
     "name": "stdout",
     "output_type": "stream",
     "text": [
      "  color\n",
      "0  blue\n",
      "1   red\n"
     ]
    }
   ],
   "source": [
    "import pandas as pd\n",
    "\n",
    "colors = pd.DataFrame({'color': ['blue', 'red']})\n",
    "print(colors)"
   ]
  },
  {
   "attachments": {},
   "cell_type": "markdown",
   "metadata": {},
   "source": [
    "You can create 1 column called red where 1 presents red and 0 represents not red, which means it is blue.\n",
    "\n",
    "To do this, we can use the same function that we used for one hot encoding, `get_dummies`, and then drop one of the columns. There is an argument, drop_first, which allows us to exclude the first column from the resulting table."
   ]
  },
  {
   "cell_type": "code",
   "execution_count": 30,
   "metadata": {},
   "outputs": [
    {
     "name": "stdout",
     "output_type": "stream",
     "text": [
      "   color_red\n",
      "0          0\n",
      "1          1\n"
     ]
    }
   ],
   "source": [
    "import pandas as pd\n",
    "\n",
    "colors = pd.DataFrame({'color': ['blue', 'red']})\n",
    "dummies = pd.get_dummies(colors, drop_first=True)\n",
    "\n",
    "print(dummies)"
   ]
  },
  {
   "attachments": {},
   "cell_type": "markdown",
   "metadata": {},
   "source": [
    "What if you have more than 2 groups? How can the multiple groups be represented by 1 less column?\n",
    "\n",
    "For example we have three colors this time, red, blue and green. When we get_dummies while dropping the first column, we get the following table."
   ]
  },
  {
   "cell_type": "code",
   "execution_count": 37,
   "metadata": {},
   "outputs": [
    {
     "name": "stdout",
     "output_type": "stream",
     "text": [
      "   color_green  color_red  color\n",
      "0            0          0   blue\n",
      "1            0          1    red\n",
      "2            1          0  green\n"
     ]
    }
   ],
   "source": [
    "import pandas as pd\n",
    "\n",
    "colors = pd.DataFrame({'color': ['blue', 'red', 'green']})\n",
    "dummies = pd.get_dummies(colors, drop_first=True)\n",
    "dummies['color'] = colors['color']\n",
    "\n",
    "print(dummies)"
   ]
  },
  {
   "attachments": {},
   "cell_type": "markdown",
   "metadata": {},
   "source": [
    "---\n",
    "## K-means\n",
    "\n",
    "K-means is an unsupervised(无监督) learning method for clustering data points(聚类数据点). The algorithm(算法) iteratively divides data points into K clusters by minmizing the variance in each cluster.\n",
    "\n",
    "该算法通过最小化每个集群内的方差，迭代的数据点划分为K个集群。\n",
    "\n",
    "Here, we will show you how to estimate the best value for K using the elbow method, the use K-means clustering to group the data points into clusters."
   ]
  },
  {
   "attachments": {},
   "cell_type": "markdown",
   "metadata": {},
   "source": [
    "### How does it work?\n",
    "\n",
    "First, each data point is randomly assigned to one of the K clusters. Then, we computer the centroid(聚类的质心)(functionally the center) of each cluster, and reassign each data point to the cluster with the closest centroid. We repeat this process until the cluster assignments for each data point are no longer changing.\n",
    "\n",
    "K-means clustering requires us to select K, the number of clusters we want to group the data into. The elbow method lets us graph the inertia(distance-based metric) and visualize the point at which it starts decreasing linearly. This point is referred to as the \"eblow\" and is a good estimate(估计) for the best value for K based on our data.\n",
    "\n",
    "K-means聚类需要我们选择K， 即我们想将数据分散成的群数。"
   ]
  },
  {
   "cell_type": "code",
   "execution_count": 1,
   "metadata": {},
   "outputs": [
    {
     "data": {
      "image/png": "[encoded data removed]",
      "text/plain": [
       "<Figure size 640x480 with 1 Axes>"
      ]
     },
     "metadata": {},
     "output_type": "display_data"
    }
   ],
   "source": [
    "import matplotlib.pyplot as plt\n",
    "\n",
    "x = [4, 5, 10, 4, 3, 11, 14 , 6, 10, 12]\n",
    "y = [21, 19, 24, 17, 16, 25, 24, 22, 21, 21]\n",
    "\n",
    "plt.scatter(x, y)\n",
    "plt.show()"
   ]
  },
  {
   "cell_type": "code",
   "execution_count": 3,
   "metadata": {},
   "outputs": [
    {
     "name": "stderr",
     "output_type": "stream",
     "text": [
      "c:\\Users\\PAN\\anaconda3\\lib\\site-packages\\sklearn\\cluster\\_kmeans.py:1036: UserWarning: KMeans is known to have a memory leak on Windows with MKL, when there are less chunks than available threads. You can avoid it by setting the environment variable OMP_NUM_THREADS=1.\n",
      "  warnings.warn(\n"
     ]
    },
    {
     "data": {
      "image/png": "[encoded data removed]",
      "text/plain": [
       "<Figure size 640x480 with 1 Axes>"
      ]
     },
     "metadata": {},
     "output_type": "display_data"
    }
   ],
   "source": [
    "# Now we utilize(利用) the elbow method to visualize the intertia(视觉上的惯性思维) for different values of K\n",
    "\n",
    "from sklearn.cluster import KMeans\n",
    "\n",
    "data = list(zip(x, y))\n",
    "inertias = []\n",
    "\n",
    "for i in range(1, 11):\n",
    "    kmeans = KMeans(n_clusters=i)\n",
    "    kmeans.fit(data)\n",
    "    inertias.append(kmeans.inertia_)\n",
    "    \n",
    "plt.plot(range(1,11), inertias, marker='o')\n",
    "plt.title(\"Elbow method\")\n",
    "plt.xlabel(\"Number of clusters\")\n",
    "plt.ylabel('Inertia')\n",
    "plt.show()"
   ]
  },
  {
   "attachments": {},
   "cell_type": "markdown",
   "metadata": {},
   "source": [
    "inertia_ 是 K-means 聚类中的一个度量。它是一个距离度量，表示每个点到其所属聚类中心的距离的总和。在使用肘部法评估 K 值时，我们将 inertia_ 值与 K 值进行关联，以识别最佳的 K 值。"
   ]
  },
  {
   "cell_type": "code",
   "execution_count": 4,
   "metadata": {},
   "outputs": [
    {
     "data": {
      "text/plain": [
       "<function matplotlib.pyplot.show(close=None, block=None)>"
      ]
     },
     "execution_count": 4,
     "metadata": {},
     "output_type": "execute_result"
    },
    {
     "data": {
      "image/png": "[encoded data removed]",
      "text/plain": [
       "<Figure size 640x480 with 1 Axes>"
      ]
     },
     "metadata": {},
     "output_type": "display_data"
    }
   ],
   "source": [
    "# The elbow method shows that 2 is a good value for K, so we retrain and visualize the result:\n",
    "\n",
    "kmeans = KMeans(n_clusters=2)\n",
    "kmeans.fit(data)\n",
    "\n",
    "plt.scatter(x, y, c=kmeans.labels_)\n",
    "plt.show()"
   ]
  },
  {
   "attachments": {},
   "cell_type": "markdown",
   "metadata": {},
   "source": [
    "---\n",
    "## Bootstrap Aggregation(Bagging) 自举汇聚法（装袋法）\n",
    "\n",
    "[自举汇聚法](https://cloud.tencent.com/developer/article/1454582#:~:text=Bagging%20%28%E8%A3%85%E8%A2%8B%E6%B3%95%29%20%EF%BC%8C,bootstrap%20aggregating%20%28%E8%87%AA%E4%B8%BE%E6%B1%87%E8%81%9A%E6%B3%95%29%20%E7%9A%84%E7%AE%80%E7%A7%B0%EF%BC%8C%E6%98%AF%E4%B8%80%E4%B8%AA%E9%80%9A%E8%BF%87%E7%BB%84%E5%90%88%E5%A4%9A%E4%B8%AA%E6%A8%A1%E5%9E%8B%E6%9D%A5%E5%87%8F%E5%B0%91%E6%B3%9B%E5%8C%96%E8%AF%AF%E5%B7%AE%E7%9A%84%E6%8A%80%E6%9C%AF%E3%80%82)\n",
    "\n",
    "### Bagging\n",
    "\n",
    "Methods such as Decision Trees, can be prone to overfitting on the training set which can lead to wrong predictions on new data.\n",
    "\n",
    "Bootstrap Aggregation(bagging) is a ensemblind method(集成方法) that attempts to resolve overfitting(过度拟合) for classification(分类) or regression(回归) problems. Bagging aims to improve the accuracy and performance of machine learning algorithms(算法). \n",
    "\n",
    "It does this by taking random subsets of an original dataset, with replacement(替换), and fits either a classifier(for classification) or regressor(for regression) to each subset. The predictions for each subset are then aggregated through majority vote for classification or averaging for regression, increasing prediction accuracy.\n",
    "\n",
    "Bootstrap Aggregation（bagging）是一种集成方法，旨在解决分类或回归问题的过度拟合。Bagging旨在提高机器学习算法的准确性和性能。它通过从原始数据集中随机抽取带替换的子集并对每个子集进行拟合，来实现这一目的。对于分类，通过多数投票进行预测；对于回归，通过平均值聚合预测，提高预测准确性。"
   ]
  }
 ],
 "metadata": {
  "kernelspec": {
   "display_name": "Python 3.9.12 ('base')",
   "language": "python",
   "name": "python3"
  },
  "language_info": {
   "codemirror_mode": {
    "name": "ipython",
    "version": 3
   },
   "file_extension": ".py",
   "mimetype": "text/x-python",
   "name": "python",
   "nbconvert_exporter": "python",
   "pygments_lexer": "ipython3",
   "version": "3.9.13"
  },
  "orig_nbformat": 4,
  "vscode": {
   "interpreter": {
    "hash": "e06c6dea1d58ab172c9060eb008467b5a6e5b460c4e8372b00ecf0425e80488b"
   }
  }
 },
 "nbformat": 4,
 "nbformat_minor": 2
}

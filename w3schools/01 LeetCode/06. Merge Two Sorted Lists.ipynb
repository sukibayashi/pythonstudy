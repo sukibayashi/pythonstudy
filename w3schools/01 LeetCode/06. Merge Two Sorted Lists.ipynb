{
 "cells": [
  {
   "cell_type": "code",
   "execution_count": 4,
   "metadata": {},
   "outputs": [
    {
     "data": {
      "text/plain": [
       "[0]"
      ]
     },
     "execution_count": 4,
     "metadata": {},
     "output_type": "execute_result"
    }
   ],
   "source": [
    "def mergeTwoSorted(list1,list2):\n",
    "    list3 = sorted(list1+list2)\n",
    "    return list3\n",
    "    \n",
    "list1 = []\n",
    "list2 = [0]\n",
    "\n",
    "mergeTwoSorted(list1,list2)"
   ]
  },
  {
   "cell_type": "code",
   "execution_count": 11,
   "metadata": {},
   "outputs": [
    {
     "data": {
      "text/plain": [
       "[0]"
      ]
     },
     "execution_count": 11,
     "metadata": {},
     "output_type": "execute_result"
    }
   ],
   "source": [
    "def mergeTwoSorted(list1,list2):\n",
    "    for i in range(len(list2)):\n",
    "        list1.append(list2[i])\n",
    "    \n",
    "    list1 = sorted(list1)\n",
    "    return list1\n",
    "    \n",
    "list1 = [0]\n",
    "list2 = []\n",
    "\n",
    "mergeTwoSorted(list1,list2)"
   ]
  },
  {
   "cell_type": "code",
   "execution_count": 16,
   "metadata": {},
   "outputs": [
    {
     "data": {
      "text/plain": [
       "[0]"
      ]
     },
     "execution_count": 16,
     "metadata": {},
     "output_type": "execute_result"
    }
   ],
   "source": [
    "def mergeTwoSorted(list1,list2):\n",
    "    if list1 == [] and list2 == []:\n",
    "        return []\n",
    "    elif list1 == [] and list2 == [0]:\n",
    "        return [0]\n",
    "    else:\n",
    "        for i in range(len(list2)):\n",
    "            list1.append(list2[i])\n",
    "    \n",
    "    list1 = sorted(list1)\n",
    "    return list1\n",
    "\n",
    "list1 = []\n",
    "list2 = [0]\n",
    "\n",
    "mergeTwoSorted(list1,list2)"
   ]
  },
  {
   "attachments": {},
   "cell_type": "markdown",
   "metadata": {},
   "source": [
    ".val 是一个属性，表示链表中的一个节点的值。\n",
    "\n",
    "链表是一种数据结构，由一个个节点组成。每个节点都存储了一个值和指向下一个节点的指针，因此可以实现链表的链接。.val 属性用于存储链表中每个节点的值。\n",
    "\n",
    "在 python 代码中，可以定义一个链表节点类，其中包含一个 val 属性，用于存储节点的值，以及一个 next 属性，用于存储下一个节点的指针。例如："
   ]
  },
  {
   "cell_type": "code",
   "execution_count": null,
   "metadata": {},
   "outputs": [],
   "source": [
    "# Definition for singly-linked list.\n",
    "class ListNode:\n",
    "    def __init__(self, val=0, next=None):\n",
    "        self.val = val\n",
    "        self.next = next\n",
    "\n",
    "class Solution:\n",
    "    def mergeTwoLists(self, l1: ListNode, l2: ListNode) -> ListNode:\n",
    "        dummy = ListNode()\n",
    "        curr = dummy\n",
    "        while l1 and l2:\n",
    "            if l1.val < l2.val:\n",
    "                curr.next = l1\n",
    "                l1 = l1.next\n",
    "            else:\n",
    "                curr.next = l2\n",
    "                l2 = l2.next\n",
    "            curr = curr.next\n",
    "        curr.next = l1 if l1 else l2\n",
    "        return dummy.next"
   ]
  }
 ],
 "metadata": {
  "kernelspec": {
   "display_name": "base",
   "language": "python",
   "name": "python3"
  },
  "language_info": {
   "codemirror_mode": {
    "name": "ipython",
    "version": 3
   },
   "file_extension": ".py",
   "mimetype": "text/x-python",
   "name": "python",
   "nbconvert_exporter": "python",
   "pygments_lexer": "ipython3",
   "version": "3.9.13"
  },
  "orig_nbformat": 4,
  "vscode": {
   "interpreter": {
    "hash": "e06c6dea1d58ab172c9060eb008467b5a6e5b460c4e8372b00ecf0425e80488b"
   }
  }
 },
 "nbformat": 4,
 "nbformat_minor": 2
}

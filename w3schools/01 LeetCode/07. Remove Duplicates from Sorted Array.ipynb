{
 "cells": [
  {
   "cell_type": "code",
   "execution_count": 3,
   "metadata": {},
   "outputs": [
    {
     "data": {
      "text/plain": [
       "2"
      ]
     },
     "execution_count": 3,
     "metadata": {},
     "output_type": "execute_result"
    }
   ],
   "source": [
    "def removeDuplicates(nums):\n",
    "    if len(nums) == 1:\n",
    "        return 1\n",
    "    left = 1\n",
    "    \n",
    "    for right in range(1, len(nums)):\n",
    "        if nums[right-1] != nums[right]:\n",
    "            nums[left] = nums[right]\n",
    "            left += 1\n",
    "    \n",
    "    return left\n",
    "\n",
    "nums = [1,1,2]\n",
    "\n",
    "removeDuplicates(nums)"
   ]
  },
  {
   "cell_type": "code",
   "execution_count": 4,
   "metadata": {},
   "outputs": [
    {
     "data": {
      "text/plain": [
       "2"
      ]
     },
     "execution_count": 4,
     "metadata": {},
     "output_type": "execute_result"
    }
   ],
   "source": [
    "def removeDuplicates(nums):\n",
    "    left = 1\n",
    "    for i in range(1,len(nums)):\n",
    "        if nums[i] != nums[i-1]:\n",
    "            nums[left] = nums[i]\n",
    "            left += 1\n",
    "    return left\n",
    "        \n",
    "        \n",
    "nums = [1,1,2]\n",
    "\n",
    "removeDuplicates(nums)\n"
   ]
  },
  {
   "cell_type": "code",
   "execution_count": 14,
   "metadata": {},
   "outputs": [
    {
     "name": "stdout",
     "output_type": "stream",
     "text": [
      "1\n",
      "2\n"
     ]
    }
   ],
   "source": [
    "nums = [1,1,2]\n",
    "# print(nums[1])\n",
    "# print(nums[0])\n",
    "\n",
    "\n",
    "left=1\n",
    "\n",
    "for i in range(1, len(nums)):\n",
    "    if nums[i] != nums[i-1]:\n",
    "        nums[left] = nums[i]\n",
    "        left += 1\n",
    "    print(left)\n",
    "\n",
    "\n",
    "\n",
    "# print(left)"
   ]
  }
 ],
 "metadata": {
  "kernelspec": {
   "display_name": "base",
   "language": "python",
   "name": "python3"
  },
  "language_info": {
   "codemirror_mode": {
    "name": "ipython",
    "version": 3
   },
   "file_extension": ".py",
   "mimetype": "text/x-python",
   "name": "python",
   "nbconvert_exporter": "python",
   "pygments_lexer": "ipython3",
   "version": "3.9.13"
  },
  "orig_nbformat": 4,
  "vscode": {
   "interpreter": {
    "hash": "e06c6dea1d58ab172c9060eb008467b5a6e5b460c4e8372b00ecf0425e80488b"
   }
  }
 },
 "nbformat": 4,
 "nbformat_minor": 2
}

{
 "cells": [
  {
   "cell_type": "code",
   "execution_count": null,
   "metadata": {},
   "outputs": [],
   "source": [
    "# 定义二叉树节点类\n",
    "class TreeNode:\n",
    "    def __init__(self, val=0, left=None, right=None):\n",
    "        self.val = val\n",
    "        self.left = left\n",
    "        self.right = right\n",
    "\n",
    "# 定义二叉树中序遍历函数\n",
    "def inorderTraversal(root: TreeNode) -> List[int]:\n",
    "    # 定义结果列表\n",
    "    res = []\n",
    "    # 定义辅助栈\n",
    "    stack = []\n",
    "    # 定义当前节点\n",
    "    cur = root\n",
    "    # 当栈不为空或当前节点不为空时\n",
    "    while stack or cur:\n",
    "        # 如果当前节点不为空，则将其压入栈中，并将当前节点更新为其左子节点\n",
    "        if cur:\n",
    "            stack.append(cur)\n",
    "            cur = cur.left\n",
    "        # 如果当前节点为空，则从栈中弹出一个节点，将其值添加到结果列表中，\n",
    "        # 并将当前节点更新为其右子节点\n",
    "        else:\n",
    "            cur = stack.pop()\n",
    "            res.append(cur.val)\n",
    "            cur = cur.right\n",
    "    # 返回结果列表\n",
    "    return res\n",
    "\n",
    "\n",
    "\n"
   ]
  }
 ],
 "metadata": {
  "kernelspec": {
   "display_name": "Python 3",
   "language": "python",
   "name": "python3"
  },
  "language_info": {
   "name": "python",
   "version": "3.10.10"
  },
  "orig_nbformat": 4,
  "vscode": {
   "interpreter": {
    "hash": "0d17bd3c188470cc3cbfd93c90c2f8b3f5ab1a762ae997509e3112b6584543eb"
   }
  }
 },
 "nbformat": 4,
 "nbformat_minor": 2
}

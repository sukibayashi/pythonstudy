{
 "cells": [
  {
   "attachments": {},
   "cell_type": "markdown",
   "metadata": {},
   "source": [
    "## TreeNode 二叉樹\n",
    "\n",
    "在二叉树中，每个节点可能有左子节点和右子节点。在 Python 中，我们通常使用类（class）来表示一个二叉树节点，即 TreeNode。\n",
    "\n",
    "TreeNode 类通常包含以下属性：\n",
    "\n",
    "val：表示节点的值\n",
    "left：表示节点的左子节点\n",
    "right：表示节点的右子节点\n",
    "例如，以下是一个简单的 TreeNode 类的定义："
   ]
  },
  {
   "cell_type": "code",
   "execution_count": 1,
   "metadata": {},
   "outputs": [],
   "source": [
    "class TreeNode:\n",
    "    def __init__(self, val=0, left=None, right=None):\n",
    "        self.val = val\n",
    "        self.left = left\n",
    "        self.right = right"
   ]
  },
  {
   "attachments": {},
   "cell_type": "markdown",
   "metadata": {},
   "source": [
    "在这个类中，我们使用 init 方法来初始化节点的值、左子节点和右子节点。left 和 right 参数默认为 None，这意味着一个节点可以没有左子节点或右子节点。如果一个节点有左子节点或右子节点，我们可以将另一个 TreeNode 对象分别赋给它们。例如："
   ]
  },
  {
   "cell_type": "code",
   "execution_count": 2,
   "metadata": {},
   "outputs": [],
   "source": [
    "# 创建根节点\n",
    "root = TreeNode(1)\n",
    "# 创建左子节点\n",
    "left_child = TreeNode(2)\n",
    "# 创建右子节点\n",
    "right_child = TreeNode(3)\n",
    "# 将左子节点和右子节点分别赋给根节点\n",
    "root.left = left_child\n",
    "root.right = right_child"
   ]
  },
  {
   "attachments": {},
   "cell_type": "markdown",
   "metadata": {},
   "source": [
    "![alternatvie text](https://assets.leetcode.com/uploads/2020/12/20/ex1.jpg)"
   ]
  },
  {
   "attachments": {},
   "cell_type": "markdown",
   "metadata": {},
   "source": [
    "如果要循环遍历一个二叉树，可以使用递归或者迭代的方式实现。这里我们提供一种基于迭代的方法："
   ]
  },
  {
   "cell_type": "code",
   "execution_count": null,
   "metadata": {},
   "outputs": [],
   "source": [
    "def traverse_tree(root):\n",
    "    # 定义一个栈，用来存储遍历过的节点\n",
    "    stack = []\n",
    "    # 定义一个指针，指向当前正在处理的节点\n",
    "    curr = root\n",
    "    # 循环遍历树，直到栈为空\n",
    "    while stack or curr:\n",
    "        # 如果当前节点不为空，就将它压入栈中，并将指针移动到它的左子节点\n",
    "        if curr:\n",
    "            stack.append(curr)\n",
    "            curr = curr.left\n",
    "        # 如果当前节点为空，则从栈中弹出一个节点并进行处理，然后将指针移动到它的右子节点\n",
    "        else:\n",
    "            curr = stack.pop()\n",
    "            # 这里可以对节点进行一些处理，比如输出它的值\n",
    "            print(curr.val)\n",
    "            curr = curr.right"
   ]
  },
  {
   "attachments": {},
   "cell_type": "markdown",
   "metadata": {},
   "source": [
    "在这个函数中，我们首先定义了一个栈 stack 和一个指针 curr。初始时，栈为空，指针指向根节点。然后我们开始循环遍历树，只要栈不为空或指针不为空，就继续循环。在循环中，如果指针不为空，就将它压入栈中，并将指针移动到它的左子节点。如果指针为空，就从栈中弹出一个节点并进行处理，然后将指针移动到它的右子节点。在处理节点时，我们可以对它进行一些操作，比如输出它的值。\n",
    "\n",
    "要比较两个 TreeNode 是否相等，可以比较它们的值以及它们的左子节点和右子节点。如果两个 TreeNode 的值相等，并且它们的左子节点和右子节点都相等，则认为它们相等。可以使用递归的方式实现："
   ]
  },
  {
   "cell_type": "code",
   "execution_count": null,
   "metadata": {},
   "outputs": [],
   "source": [
    "def is_same_tree(p, q):\n",
    "    if not p and not q:\n",
    "        # 如果两个节点都为空，则认为它们相等\n",
    "        return True\n",
    "    elif not p or not q:\n",
    "        # 如果有一个节点为空，则认为它们不相等\n",
    "        return False\n",
    "    elif p.val != q.val:\n",
    "        # 如果两个节点的值不相等，则认为它们不相等\n",
    "        return False\n",
    "    else:\n",
    "        # 如果两个节点的值相等，并且它们的左子节点和右子节点都相等，则认为它们相等\n",
    "        return self.is_same_tree(p.left, q.left) and self.is_same_tree(p.right, q.right)\n"
   ]
  },
  {
   "cell_type": "code",
   "execution_count": null,
   "metadata": {},
   "outputs": [],
   "source": []
  }
 ],
 "metadata": {
  "kernelspec": {
   "display_name": "Python 3",
   "language": "python",
   "name": "python3"
  },
  "language_info": {
   "codemirror_mode": {
    "name": "ipython",
    "version": 3
   },
   "file_extension": ".py",
   "mimetype": "text/x-python",
   "name": "python",
   "nbconvert_exporter": "python",
   "pygments_lexer": "ipython3",
   "version": "3.10.10"
  },
  "orig_nbformat": 4,
  "vscode": {
   "interpreter": {
    "hash": "0d17bd3c188470cc3cbfd93c90c2f8b3f5ab1a762ae997509e3112b6584543eb"
   }
  }
 },
 "nbformat": 4,
 "nbformat_minor": 2
}

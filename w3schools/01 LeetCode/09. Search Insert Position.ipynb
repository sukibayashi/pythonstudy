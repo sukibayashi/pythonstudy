{
 "cells": [
  {
   "cell_type": "code",
   "execution_count": 7,
   "metadata": {},
   "outputs": [
    {
     "data": {
      "text/plain": [
       "2"
      ]
     },
     "execution_count": 7,
     "metadata": {},
     "output_type": "execute_result"
    }
   ],
   "source": [
    "def searchInsert(nums, target):\n",
    "    nums.append(target)\n",
    "    nums = sorted(nums)\n",
    "    for i in range(len(nums)):\n",
    "        if target == nums[i]:\n",
    "            return i\n",
    "\n",
    "nums = [1,3,5,6]\n",
    "target = 5\n",
    "searchInsert(nums, target)\n"
   ]
  },
  {
   "cell_type": "code",
   "execution_count": 1,
   "metadata": {},
   "outputs": [
    {
     "data": {
      "text/plain": [
       "2"
      ]
     },
     "execution_count": 1,
     "metadata": {},
     "output_type": "execute_result"
    }
   ],
   "source": [
    "def searchInsert(nums, target):\n",
    "    i = 0\n",
    "    while i < len(nums) and nums[i]<target:\n",
    "        i+=1\n",
    "    return i\n",
    "\n",
    "nums = [1,3,5,6]\n",
    "target = 5\n",
    "searchInsert(nums, target)"
   ]
  },
  {
   "cell_type": "code",
   "execution_count": 2,
   "metadata": {},
   "outputs": [
    {
     "data": {
      "text/plain": [
       "2"
      ]
     },
     "execution_count": 2,
     "metadata": {},
     "output_type": "execute_result"
    }
   ],
   "source": [
    "def searchInsert(nums, target):\n",
    "    if target in nums:\n",
    "        return nums.index(target)\n",
    "    else:\n",
    "        nums.append(target)\n",
    "        return sorted(nums).index(target)\n",
    "\n",
    "nums = [1,3,5,6]\n",
    "target = 5\n",
    "searchInsert(nums, target)"
   ]
  }
 ],
 "metadata": {
  "kernelspec": {
   "display_name": "Python 3",
   "language": "python",
   "name": "python3"
  },
  "language_info": {
   "codemirror_mode": {
    "name": "ipython",
    "version": 3
   },
   "file_extension": ".py",
   "mimetype": "text/x-python",
   "name": "python",
   "nbconvert_exporter": "python",
   "pygments_lexer": "ipython3",
   "version": "3.10.10"
  },
  "orig_nbformat": 4,
  "vscode": {
   "interpreter": {
    "hash": "0d17bd3c188470cc3cbfd93c90c2f8b3f5ab1a762ae997509e3112b6584543eb"
   }
  }
 },
 "nbformat": 4,
 "nbformat_minor": 2
}

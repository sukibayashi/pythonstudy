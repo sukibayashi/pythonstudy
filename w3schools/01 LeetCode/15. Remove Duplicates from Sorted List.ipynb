{
 "cells": [
  {
   "cell_type": "code",
   "execution_count": 4,
   "metadata": {},
   "outputs": [
    {
     "data": {
      "text/plain": [
       "[1, 2]"
      ]
     },
     "execution_count": 4,
     "metadata": {},
     "output_type": "execute_result"
    }
   ],
   "source": [
    "def deleteDuplicates(head):\n",
    "    head = set(head)\n",
    "    head = list(head)\n",
    "    return head\n",
    "    \n",
    "head = [1, 1, 2]\n",
    "\n",
    "deleteDuplicates(head)"
   ]
  },
  {
   "cell_type": "code",
   "execution_count": 4,
   "metadata": {},
   "outputs": [
    {
     "ename": "AttributeError",
     "evalue": "'list' object has no attribute 'next'",
     "output_type": "error",
     "traceback": [
      "\u001b[1;31m---------------------------------------------------------------------------\u001b[0m",
      "\u001b[1;31mAttributeError\u001b[0m                            Traceback (most recent call last)",
      "\u001b[1;32mc:\\Users\\PAN\\Documents\\GitHub\\pythonstudy\\w3schools\\01 LeetCode\\15. Remove Duplicates from Sorted List.ipynb Cell 2\u001b[0m in \u001b[0;36m<cell line: 22>\u001b[1;34m()\u001b[0m\n\u001b[0;32m     <a href='vscode-notebook-cell:/c%3A/Users/PAN/Documents/GitHub/pythonstudy/w3schools/01%20LeetCode/15.%20Remove%20Duplicates%20from%20Sorted%20List.ipynb#W1sZmlsZQ%3D%3D?line=17'>18</a>\u001b[0m     \u001b[39mreturn\u001b[39;00m head\n\u001b[0;32m     <a href='vscode-notebook-cell:/c%3A/Users/PAN/Documents/GitHub/pythonstudy/w3schools/01%20LeetCode/15.%20Remove%20Duplicates%20from%20Sorted%20List.ipynb#W1sZmlsZQ%3D%3D?line=19'>20</a>\u001b[0m head \u001b[39m=\u001b[39m [\u001b[39m1\u001b[39m, \u001b[39m1\u001b[39m, \u001b[39m2\u001b[39m]\n\u001b[1;32m---> <a href='vscode-notebook-cell:/c%3A/Users/PAN/Documents/GitHub/pythonstudy/w3schools/01%20LeetCode/15.%20Remove%20Duplicates%20from%20Sorted%20List.ipynb#W1sZmlsZQ%3D%3D?line=21'>22</a>\u001b[0m deleteDuplicates(head)\n",
      "\u001b[1;32mc:\\Users\\PAN\\Documents\\GitHub\\pythonstudy\\w3schools\\01 LeetCode\\15. Remove Duplicates from Sorted List.ipynb Cell 2\u001b[0m in \u001b[0;36mdeleteDuplicates\u001b[1;34m(head)\u001b[0m\n\u001b[0;32m      <a href='vscode-notebook-cell:/c%3A/Users/PAN/Documents/GitHub/pythonstudy/w3schools/01%20LeetCode/15.%20Remove%20Duplicates%20from%20Sorted%20List.ipynb#W1sZmlsZQ%3D%3D?line=7'>8</a>\u001b[0m     \u001b[39mreturn\u001b[39;00m \u001b[39mNone\u001b[39;00m\n\u001b[0;32m     <a href='vscode-notebook-cell:/c%3A/Users/PAN/Documents/GitHub/pythonstudy/w3schools/01%20LeetCode/15.%20Remove%20Duplicates%20from%20Sorted%20List.ipynb#W1sZmlsZQ%3D%3D?line=9'>10</a>\u001b[0m curr \u001b[39m=\u001b[39m head\n\u001b[1;32m---> <a href='vscode-notebook-cell:/c%3A/Users/PAN/Documents/GitHub/pythonstudy/w3schools/01%20LeetCode/15.%20Remove%20Duplicates%20from%20Sorted%20List.ipynb#W1sZmlsZQ%3D%3D?line=11'>12</a>\u001b[0m \u001b[39mwhile\u001b[39;00m curr\u001b[39m.\u001b[39;49mnext:\n\u001b[0;32m     <a href='vscode-notebook-cell:/c%3A/Users/PAN/Documents/GitHub/pythonstudy/w3schools/01%20LeetCode/15.%20Remove%20Duplicates%20from%20Sorted%20List.ipynb#W1sZmlsZQ%3D%3D?line=12'>13</a>\u001b[0m     \u001b[39mif\u001b[39;00m curr\u001b[39m.\u001b[39mval \u001b[39m==\u001b[39m curr\u001b[39m.\u001b[39mnext\u001b[39m.\u001b[39mval:\n\u001b[0;32m     <a href='vscode-notebook-cell:/c%3A/Users/PAN/Documents/GitHub/pythonstudy/w3schools/01%20LeetCode/15.%20Remove%20Duplicates%20from%20Sorted%20List.ipynb#W1sZmlsZQ%3D%3D?line=13'>14</a>\u001b[0m         curr\u001b[39m.\u001b[39mnext \u001b[39m=\u001b[39m curr\u001b[39m.\u001b[39mnext\u001b[39m.\u001b[39mnext\n",
      "\u001b[1;31mAttributeError\u001b[0m: 'list' object has no attribute 'next'"
     ]
    }
   ],
   "source": [
    "class ListNode:\n",
    "    def __init__(self, val=0, next=None):\n",
    "        self.val = val\n",
    "        self.next = next\n",
    "\n",
    "def deleteDuplicates(head:ListNode)-> ListNode:\n",
    "    if not head:\n",
    "        return None\n",
    "\n",
    "    curr = head\n",
    "\n",
    "    while curr.next:\n",
    "        if curr.val == curr.next.val:\n",
    "            curr.next = curr.next.next\n",
    "        else:\n",
    "            curr = curr.next\n",
    "            \n",
    "    return head\n",
    "    \n",
    "head = [1, 1, 2]\n",
    "\n",
    "deleteDuplicates(head)"
   ]
  }
 ],
 "metadata": {
  "kernelspec": {
   "display_name": "Python 3",
   "language": "python",
   "name": "python3"
  },
  "language_info": {
   "codemirror_mode": {
    "name": "ipython",
    "version": 3
   },
   "file_extension": ".py",
   "mimetype": "text/x-python",
   "name": "python",
   "nbconvert_exporter": "python",
   "pygments_lexer": "ipython3",
   "version": "3.10.10"
  },
  "orig_nbformat": 4,
  "vscode": {
   "interpreter": {
    "hash": "0d17bd3c188470cc3cbfd93c90c2f8b3f5ab1a762ae997509e3112b6584543eb"
   }
  }
 },
 "nbformat": 4,
 "nbformat_minor": 2
}

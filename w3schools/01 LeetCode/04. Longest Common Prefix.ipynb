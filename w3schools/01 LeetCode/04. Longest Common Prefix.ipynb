{
 "cells": [
  {
   "cell_type": "code",
   "execution_count": 5,
   "metadata": {},
   "outputs": [
    {
     "name": "stdout",
     "output_type": "stream",
     "text": [
      "['f', 'l', 'o', 'w', 'e', 'r', 'f', 'l', 'o', 'w', 'f', 'l', 'i', 'g', 'h', 't']\n"
     ]
    }
   ],
   "source": [
    "strs = [\"flower\",\"flow\",\"flight\"]\n",
    "\n",
    "def longestCommonPrefix(s):\n",
    "    global count\n",
    "    count = []\n",
    "    for x in range(len(s)):\n",
    "        for y in range(len(strs[x])):\n",
    "            count.append(strs[x][y])\n",
    "    \n",
    "    print(count)\n",
    "        \n",
    "longestCommonPrefix(strs)"
   ]
  },
  {
   "cell_type": "code",
   "execution_count": 6,
   "metadata": {},
   "outputs": [
    {
     "data": {
      "text/plain": [
       "3"
      ]
     },
     "execution_count": 6,
     "metadata": {},
     "output_type": "execute_result"
    }
   ],
   "source": [
    "count.count('f')"
   ]
  },
  {
   "cell_type": "code",
   "execution_count": 24,
   "metadata": {},
   "outputs": [
    {
     "data": {
      "text/plain": [
       "{'h': 1,\n",
       " 'f': 3,\n",
       " 'e': 1,\n",
       " 't': 1,\n",
       " 'g': 1,\n",
       " 'o': 2,\n",
       " 'l': 3,\n",
       " 'i': 1,\n",
       " 'w': 2,\n",
       " 'r': 1}"
      ]
     },
     "execution_count": 24,
     "metadata": {},
     "output_type": "execute_result"
    }
   ],
   "source": [
    "stat_dict"
   ]
  },
  {
   "cell_type": "code",
   "execution_count": 21,
   "metadata": {},
   "outputs": [
    {
     "name": "stdout",
     "output_type": "stream",
     "text": [
      "1\n",
      "5\n",
      "6\n",
      "8\n"
     ]
    }
   ],
   "source": [
    "stat_dict = {k:count.count(k) for k in set(count)}\n",
    "for a,b in enumerate(stat_dict):\n",
    "    dictList = []\n",
    "    if stat_dict[b]>=2:\n",
    "        dictList.append\n",
    "    "
   ]
  },
  {
   "cell_type": "code",
   "execution_count": 28,
   "metadata": {},
   "outputs": [
    {
     "name": "stdout",
     "output_type": "stream",
     "text": [
      "['flight', 'flow', 'flower']\n"
     ]
    }
   ],
   "source": [
    "strs = [\"flower\",\"flow\",\"flight\"]\n",
    "strs.sort()\n",
    "print(strs)"
   ]
  },
  {
   "cell_type": "code",
   "execution_count": null,
   "metadata": {},
   "outputs": [],
   "source": []
  },
  {
   "attachments": {},
   "cell_type": "markdown",
   "metadata": {},
   "source": [
    "## 第一種解答"
   ]
  },
  {
   "cell_type": "code",
   "execution_count": 40,
   "metadata": {},
   "outputs": [
    {
     "data": {
      "text/plain": [
       "'fl'"
      ]
     },
     "execution_count": 40,
     "metadata": {},
     "output_type": "execute_result"
    }
   ],
   "source": [
    "strs = [\"flower\",\"flow\",\"flight\"]\n",
    "\n",
    "def longestCommonPrefix(s):\n",
    "    size = len(strs)\n",
    "    if (size == 0):\n",
    "        return \"\"\n",
    "    if (size == 1):\n",
    "        return strs[0]\n",
    "    strs.sort()\n",
    "    end = min(len(strs[0]), len(strs[size-1]))\n",
    "\n",
    "    i = 0\n",
    "\n",
    "    while (i < end and strs[0][i] == strs[size - 1][i]):\n",
    "        i += 1\n",
    "\n",
    "    if i != 0:\n",
    "        pre = strs[0][0:i]\n",
    "        return pre\n",
    "    else:\n",
    "        return \"\"\n",
    "\n",
    "longestCommonPrefix(strs)"
   ]
  },
  {
   "attachments": {},
   "cell_type": "markdown",
   "metadata": {},
   "source": [
    "## 第二種解答方法"
   ]
  },
  {
   "cell_type": "code",
   "execution_count": 49,
   "metadata": {},
   "outputs": [
    {
     "name": "stdout",
     "output_type": "stream",
     "text": [
      "f\n",
      "l\n",
      "o\n",
      "w\n",
      "e\n",
      "r\n"
     ]
    }
   ],
   "source": [
    "for i in range(len(strs[0])):\n",
    "    print(strs[0][i])"
   ]
  },
  {
   "cell_type": "code",
   "execution_count": 50,
   "metadata": {},
   "outputs": [
    {
     "name": "stdout",
     "output_type": "stream",
     "text": [
      "flow\n",
      "flight\n"
     ]
    }
   ],
   "source": [
    "for j in range(1, len(strs)):\n",
    "    print(strs[j])"
   ]
  },
  {
   "cell_type": "code",
   "execution_count": 48,
   "metadata": {},
   "outputs": [
    {
     "data": {
      "text/plain": [
       "'fl'"
      ]
     },
     "execution_count": 48,
     "metadata": {},
     "output_type": "execute_result"
    }
   ],
   "source": [
    "strs = [\"flower\",\"flow\",\"flight\"]\n",
    "\n",
    "def CommonPrefix(strs):\n",
    "    prefix = ''\n",
    "    \n",
    "    if not strs:\n",
    "        return prefix\n",
    "    \n",
    "    for i in range(len(strs[0])):\n",
    "        char = strs[0][i]\n",
    "        for j in range(1, len(strs)):\n",
    "            if i == len(strs[j]) or strs[j][i] != char:\n",
    "                return prefix\n",
    "        prefix += char\n",
    "    return prefix\n",
    "            \n",
    "CommonPrefix(strs)"
   ]
  },
  {
   "attachments": {},
   "cell_type": "markdown",
   "metadata": {},
   "source": [
    "## 第三種解答"
   ]
  },
  {
   "cell_type": "code",
   "execution_count": 54,
   "metadata": {},
   "outputs": [
    {
     "data": {
      "text/plain": [
       "'fl'"
      ]
     },
     "execution_count": 54,
     "metadata": {},
     "output_type": "execute_result"
    }
   ],
   "source": [
    "strs = [\"flower\",\"flow\",\"flight\"]\n",
    "\n",
    "def CommonPrefix(strs):\n",
    "    prefix = strs[0]\n",
    "    \n",
    "    for str in strs[1:]:\n",
    "        while str[:len(prefix)] != prefix:\n",
    "            prefix = prefix[:-1]\n",
    "            \n",
    "            if not prefix:\n",
    "                return \"\"\n",
    "            \n",
    "    return prefix\n",
    "            \n",
    "CommonPrefix(strs)"
   ]
  }
 ],
 "metadata": {
  "kernelspec": {
   "display_name": "base",
   "language": "python",
   "name": "python3"
  },
  "language_info": {
   "codemirror_mode": {
    "name": "ipython",
    "version": 3
   },
   "file_extension": ".py",
   "mimetype": "text/x-python",
   "name": "python",
   "nbconvert_exporter": "python",
   "pygments_lexer": "ipython3",
   "version": "3.9.13"
  },
  "orig_nbformat": 4,
  "vscode": {
   "interpreter": {
    "hash": "e06c6dea1d58ab172c9060eb008467b5a6e5b460c4e8372b00ecf0425e80488b"
   }
  }
 },
 "nbformat": 4,
 "nbformat_minor": 2
}

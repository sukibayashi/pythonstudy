{
 "cells": [
  {
   "cell_type": "code",
   "execution_count": 60,
   "metadata": {},
   "outputs": [
    {
     "name": "stdout",
     "output_type": "stream",
     "text": [
      "1\n"
     ]
    }
   ],
   "source": [
    "class Solution:\n",
    "    def romanToInt(s):\n",
    "        roma = {'I': 1,'V': 5,'X':10,'L':50,'C':100,'D':500,'M':1000}\n",
    "        \n",
    "        if value1 in roma:\n",
    "            print(roma[value1])\n",
    "            \n",
    "\n",
    "value1 = str(input())\n",
    "Solution.romanToInt(value1)"
   ]
  },
  {
   "cell_type": "code",
   "execution_count": 19,
   "metadata": {},
   "outputs": [
    {
     "name": "stdout",
     "output_type": "stream",
     "text": [
      "10\n"
     ]
    }
   ],
   "source": [
    "roma = {'I': 1,'V': 5,'X':10,'L':50,'C':100,'D':500,'M':1000}\n",
    "        \n",
    "value1 = 'IV'\n",
    "\n",
    "if value1 in roma:\n",
    "    print(roma[value1])\n",
    "    "
   ]
  },
  {
   "cell_type": "code",
   "execution_count": 36,
   "metadata": {},
   "outputs": [
    {
     "name": "stdout",
     "output_type": "stream",
     "text": [
      "5\n"
     ]
    }
   ],
   "source": [
    "roma = {'I': 1,'V': 5,'X':10,'L':50,'C':100,'D':500,'M':1000}\n",
    "\n",
    "value1 = 'V'\n",
    "value2 = len(value1)\n",
    "\n",
    "if value1 in roma:\n",
    "    print(roma[value1])\n",
    "elif value2 == 2:\n",
    "    value3 = value1[:1]\n",
    "    value4 = value1[1:]\n",
    "    \n",
    "    if value3 in roma:\n",
    "        value3 = roma[value3]\n",
    "    if value4 in roma:\n",
    "        value4 = roma[value4]\n",
    "        \n",
    "    if value4 > value3:\n",
    "        value5 = value4 - value3\n",
    "    else:\n",
    "        value5 = value3 + value4\n",
    "    \n",
    "    print(value5)\n"
   ]
  },
  {
   "cell_type": "code",
   "execution_count": 50,
   "metadata": {},
   "outputs": [
    {
     "name": "stdout",
     "output_type": "stream",
     "text": [
      "6\n"
     ]
    }
   ],
   "source": [
    "roma = {'I': 1,'V': 5,'X':10,'L':50,'C':100,'D':500,'M':1000}\n",
    "\n",
    "value1 = 'IV'\n",
    "\n",
    "splitroma = []\n",
    "add = []\n",
    "\n",
    "for x in range(len(value1)):\n",
    "    splitroma.append(value1[x])\n",
    "    if splitroma[x] in roma:\n",
    "        add.append(roma[splitroma[x]])\n",
    "    \n",
    "print(sum(add))"
   ]
  },
  {
   "cell_type": "code",
   "execution_count": 59,
   "metadata": {},
   "outputs": [
    {
     "data": {
      "text/plain": [
       "6"
      ]
     },
     "execution_count": 59,
     "metadata": {},
     "output_type": "execute_result"
    }
   ],
   "source": [
    "class Solution:\n",
    "    def romanToInt(s):\n",
    "        roman_numerals = {'I':1, 'V':5, 'X':10, 'L':50, 'C':100, 'D':500, 'M':1000}\n",
    "        result = 0\n",
    "        for i,c in enumerate(s):\n",
    "            if (i+1) == len(s) or roman_numerals[c] >= roman_numerals[s[i+1]]:\n",
    "                result += roman_numerals[c]\n",
    "            else:\n",
    "                result -= roman_numerals[c]\n",
    "        return result\n",
    "    \n",
    "Solution.romanToInt('VI')"
   ]
  },
  {
   "cell_type": "code",
   "execution_count": 55,
   "metadata": {},
   "outputs": [
    {
     "data": {
      "text/plain": [
       "1"
      ]
     },
     "execution_count": 55,
     "metadata": {},
     "output_type": "execute_result"
    }
   ],
   "source": [
    "class Solution:\n",
    "    def romanToInt(s):\n",
    "        roma = {'I': 1,'V': 5,'X':10,'L':50,'C':100,'D':500,'M':1000}\n",
    "        \n",
    "        result = 0\n",
    "        \n",
    "        for a,b in zip(s, s[1:]):\n",
    "            if roma[a] < roma[b]:\n",
    "                result -= roma[a]\n",
    "            else:\n",
    "                result += roma[a]\n",
    "        \n",
    "        return result + roma[s[-1]]"
   ]
  }
 ],
 "metadata": {
  "kernelspec": {
   "display_name": "Python 3",
   "language": "python",
   "name": "python3"
  },
  "language_info": {
   "codemirror_mode": {
    "name": "ipython",
    "version": 3
   },
   "file_extension": ".py",
   "mimetype": "text/x-python",
   "name": "python",
   "nbconvert_exporter": "python",
   "pygments_lexer": "ipython3",
   "version": "3.10.9"
  },
  "orig_nbformat": 4,
  "vscode": {
   "interpreter": {
    "hash": "0d17bd3c188470cc3cbfd93c90c2f8b3f5ab1a762ae997509e3112b6584543eb"
   }
  }
 },
 "nbformat": 4,
 "nbformat_minor": 2
}

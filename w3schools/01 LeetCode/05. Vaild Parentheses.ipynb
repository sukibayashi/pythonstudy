{
 "cells": [
  {
   "cell_type": "code",
   "execution_count": 58,
   "metadata": {},
   "outputs": [
    {
     "data": {
      "text/plain": [
       "True"
      ]
     },
     "execution_count": 58,
     "metadata": {},
     "output_type": "execute_result"
    }
   ],
   "source": [
    "def isValid(s):\n",
    "    v1 = ['()', '[]', '{}']\n",
    "    v2 = [\"(]\"]\n",
    "    v3 = [s[i:i+2] for i in range(0, len(s), 2)]\n",
    "    \n",
    "    for i in range(len(v3)):\n",
    "        if v3[i] not in v2 :\n",
    "            v4 = ''.join(sorted(s))\n",
    "            splitS = [v4[i:i+2] for i in range(0, len(v4), 2)]\n",
    "            for z in range(len(splitS)):\n",
    "                if splitS[z] not in v1:\n",
    "                    return False\n",
    "            return True\n",
    "        else:\n",
    "            return False\n",
    "        \n",
    "s = \"([)]\"\n",
    "isValid(s)"
   ]
  },
  {
   "cell_type": "code",
   "execution_count": 81,
   "metadata": {},
   "outputs": [
    {
     "data": {
      "text/plain": [
       "False"
      ]
     },
     "execution_count": 81,
     "metadata": {},
     "output_type": "execute_result"
    }
   ],
   "source": [
    "def isValid2(s):\n",
    "    if len(s)%2 != 0:\n",
    "        return False\n",
    "    par_dict = {'(':')','{':'}','[':']'}\n",
    "    stack = []\n",
    "    for char in s:\n",
    "        if char in par_dict.keys():\n",
    "            stack.append(char)\n",
    "        else:\n",
    "            if stack == []:\n",
    "                return False\n",
    "            open_brac = stack.pop()\n",
    "            if char != par_dict[open_brac]:\n",
    "                return False\n",
    "    return stack == []\n",
    "\n",
    "s =\"([)]\"\n",
    "isValid2(s)"
   ]
  },
  {
   "cell_type": "code",
   "execution_count": 98,
   "metadata": {},
   "outputs": [
    {
     "name": "stdout",
     "output_type": "stream",
     "text": [
      "( dict_keys(['(', '{', '['])\n",
      "[ dict_keys(['(', '{', '['])\n",
      "False\n",
      "False\n",
      "[]\n",
      "(\n"
     ]
    }
   ],
   "source": [
    "s =\"([)]\"\n",
    "par_dict = {'(':')','{':'}','[':']'}\n",
    "\n",
    "stack = []\n",
    "\n",
    "for char in s:\n",
    "    if char in par_dict.keys():\n",
    "        stack.append(char)\n",
    "        print(char,par_dict.keys())\n",
    "    else:\n",
    "        if stack == []:\n",
    "            print('False')\n",
    "        open_brac = stack.pop() #([]\n",
    "        if char != par_dict[open_brac]:\n",
    "            print('False')\n",
    "\n",
    "print(stack)\n",
    "print(open_brac)"
   ]
  },
  {
   "cell_type": "code",
   "execution_count": 97,
   "metadata": {},
   "outputs": [
    {
     "name": "stdout",
     "output_type": "stream",
     "text": [
      "( False )\n",
      "[ False )\n",
      "] False )\n"
     ]
    },
    {
     "data": {
      "text/plain": [
       "')'"
      ]
     },
     "execution_count": 97,
     "metadata": {},
     "output_type": "execute_result"
    }
   ],
   "source": [
    "for char in s:\n",
    "    if char != par_dict[open_brac]:\n",
    "        print(char,'False', par_dict[open_brac])\n",
    "par_dict[open_brac]"
   ]
  },
  {
   "cell_type": "code",
   "execution_count": 100,
   "metadata": {},
   "outputs": [
    {
     "data": {
      "text/plain": [
       "'('"
      ]
     },
     "execution_count": 100,
     "metadata": {},
     "output_type": "execute_result"
    }
   ],
   "source": [
    "open_brac"
   ]
  },
  {
   "cell_type": "code",
   "execution_count": 105,
   "metadata": {},
   "outputs": [],
   "source": [
    "s =\"([)]\"\n",
    "def isValid(s):\n",
    "    while '()' in s or '[]'in s or '{}' in s:\n",
    "        y = s.replace('()','').replace('[]','').replace('{}','')\n",
    "    return False if len(s) !=0 else True\n",
    "isValid(s)"
   ]
  }
 ],
 "metadata": {
  "kernelspec": {
   "display_name": "base",
   "language": "python",
   "name": "python3"
  },
  "language_info": {
   "codemirror_mode": {
    "name": "ipython",
    "version": 3
   },
   "file_extension": ".py",
   "mimetype": "text/x-python",
   "name": "python",
   "nbconvert_exporter": "python",
   "pygments_lexer": "ipython3",
   "version": "3.9.13"
  },
  "orig_nbformat": 4,
  "vscode": {
   "interpreter": {
    "hash": "e06c6dea1d58ab172c9060eb008467b5a6e5b460c4e8372b00ecf0425e80488b"
   }
  }
 },
 "nbformat": 4,
 "nbformat_minor": 2
}

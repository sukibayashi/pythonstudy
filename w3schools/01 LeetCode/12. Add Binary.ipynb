{
 "cells": [
  {
   "cell_type": "code",
   "execution_count": 12,
   "metadata": {},
   "outputs": [
    {
     "data": {
      "text/plain": [
       "'12'"
      ]
     },
     "execution_count": 12,
     "metadata": {},
     "output_type": "execute_result"
    }
   ],
   "source": [
    "def addBinary(a, b):\n",
    "    c = str(int(a) + int(b))\n",
    "    \n",
    "\n",
    "\n",
    "a = \"11\"\n",
    "b = \"1\"\n",
    "\n",
    "addBinary(a,b)"
   ]
  },
  {
   "cell_type": "code",
   "execution_count": 33,
   "metadata": {},
   "outputs": [
    {
     "data": {
      "text/plain": [
       "(3, 1)"
      ]
     },
     "execution_count": 33,
     "metadata": {},
     "output_type": "execute_result"
    }
   ],
   "source": [
    "def addBinary(a, b):\n",
    "    x,y = int(a,2) , int (b,2)\n",
    "    return str(bin(x+y).replace(\"0b\",\"\"))\n",
    "\n",
    "a = \"11\"\n",
    "b = \"1\"\n",
    "\n",
    "addBinary(a, b)"
   ]
  },
  {
   "cell_type": "code",
   "execution_count": 45,
   "metadata": {},
   "outputs": [
    {
     "data": {
      "text/plain": [
       "'100'"
      ]
     },
     "execution_count": 45,
     "metadata": {},
     "output_type": "execute_result"
    }
   ],
   "source": [
    "a = \"11\"\n",
    "b = \"1\"\n",
    "\n",
    "class Solution:\n",
    "    def addBinary(a: str, b: str) -> str:\n",
    "        carry = 0\n",
    "        result=\"\"\n",
    "        for i in range( max(len(a),len(b))):\n",
    "            aBit = int( a[len(a)-1-i] ) if len(a)-1-i >=0 else 0\n",
    "            bBit = int( b[len(b)-1-i] ) if len(b)-1-i >=0 else 0\n",
    "            sum = aBit + bBit + carry\n",
    "            if sum  >=2:\n",
    "                carry = 1\n",
    "                sum =  (sum)%2\n",
    "            else:\n",
    "                carry =0\n",
    "            result = str(sum) + result\n",
    "        if carry:return \"1\"+result\n",
    "        return result\n",
    "\n",
    "Solution.addBinary(a, b)"
   ]
  },
  {
   "cell_type": "code",
   "execution_count": 48,
   "metadata": {},
   "outputs": [
    {
     "name": "stdout",
     "output_type": "stream",
     "text": [
      "00\n"
     ]
    }
   ],
   "source": [
    "carry = 0\n",
    "result=\"\"\n",
    "for i in range( max(len(a),len(b))):\n",
    "    aBit = int( a[len(a)-1-i] ) if len(a)-1-i >=0 else 0\n",
    "    bBit = int( b[len(b)-1-i] ) if len(b)-1-i >=0 else 0\n",
    "    sum = aBit + bBit + carry\n",
    "    if sum  >=2:\n",
    "        carry = 1\n",
    "        sum =  (sum)%2\n",
    "    else:\n",
    "        carry =0\n",
    "    result = str(sum) + result\n",
    "    \n",
    "print(result)\n",
    "\n"
   ]
  }
 ],
 "metadata": {
  "kernelspec": {
   "display_name": "Python 3",
   "language": "python",
   "name": "python3"
  },
  "language_info": {
   "codemirror_mode": {
    "name": "ipython",
    "version": 3
   },
   "file_extension": ".py",
   "mimetype": "text/x-python",
   "name": "python",
   "nbconvert_exporter": "python",
   "pygments_lexer": "ipython3",
   "version": "3.10.10"
  },
  "orig_nbformat": 4,
  "vscode": {
   "interpreter": {
    "hash": "0d17bd3c188470cc3cbfd93c90c2f8b3f5ab1a762ae997509e3112b6584543eb"
   }
  }
 },
 "nbformat": 4,
 "nbformat_minor": 2
}

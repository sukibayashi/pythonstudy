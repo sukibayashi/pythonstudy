{
 "cells": [
  {
   "cell_type": "code",
   "execution_count": 5,
   "metadata": {},
   "outputs": [
    {
     "data": {
      "text/plain": [
       "[1, 2, 3, 2, 5, 6]"
      ]
     },
     "execution_count": 5,
     "metadata": {},
     "output_type": "execute_result"
    }
   ],
   "source": [
    "def merge(nums1,nums2,m,n):\n",
    "    i = 0\n",
    "    while i < len(nums1):\n",
    "        if nums1[i] == 0:\n",
    "            del nums1[i]\n",
    "        else:\n",
    "            i += 1\n",
    "            \n",
    "    nums1 = nums1 + nums2\n",
    "    return nums1\n",
    "    \n",
    "    \n",
    "    \n",
    "nums1 = [1,2,3,0,0,0]\n",
    "nums2 = [2,5,6]\n",
    "m = 3\n",
    "n = 3\n",
    "\n",
    "merge(nums1,nums2)"
   ]
  },
  {
   "cell_type": "code",
   "execution_count": 9,
   "metadata": {},
   "outputs": [
    {
     "data": {
      "text/plain": [
       "[1, 2, 2, 3, 5, 6]"
      ]
     },
     "execution_count": 9,
     "metadata": {},
     "output_type": "execute_result"
    }
   ],
   "source": [
    "def merge(nums1,nums2,m,n):\n",
    "    i = m - 1\n",
    "    j = n - 1 \n",
    "    k = m + n - 1\n",
    "    while i >= 0 and j>=0:\n",
    "        if nums1[i] > nums2[j]:\n",
    "            nums1[k] = nums1[i]\n",
    "            i = i - 1\n",
    "        else:\n",
    "            nums1[k] = nums2[j]\n",
    "            j = j - 1 \n",
    "        k = k - 1\n",
    "    \n",
    "    while i>=0:\n",
    "        nums1[k] = nums1[i]\n",
    "        i = i - 1\n",
    "        k = k - 1\n",
    "\n",
    "    while j >= 0:\n",
    "        nums1[k] = nums2[j]\n",
    "        j = j - 1 \n",
    "        k = k - 1\n",
    "        \n",
    "    return nums1\n",
    "    \n",
    "    \n",
    "nums1 = [1,2,3,0,0,0]\n",
    "nums2 = [2,5,6]\n",
    "m = 3\n",
    "n = 3\n",
    "\n",
    "merge(nums1,nums2,m,n)"
   ]
  }
 ],
 "metadata": {
  "kernelspec": {
   "display_name": "Python 3",
   "language": "python",
   "name": "python3"
  },
  "language_info": {
   "codemirror_mode": {
    "name": "ipython",
    "version": 3
   },
   "file_extension": ".py",
   "mimetype": "text/x-python",
   "name": "python",
   "nbconvert_exporter": "python",
   "pygments_lexer": "ipython3",
   "version": "3.10.10"
  },
  "orig_nbformat": 4,
  "vscode": {
   "interpreter": {
    "hash": "0d17bd3c188470cc3cbfd93c90c2f8b3f5ab1a762ae997509e3112b6584543eb"
   }
  }
 },
 "nbformat": 4,
 "nbformat_minor": 2
}

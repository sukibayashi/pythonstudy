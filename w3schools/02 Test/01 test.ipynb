{
 "cells": [
  {
   "cell_type": "code",
   "execution_count": 74,
   "metadata": {},
   "outputs": [
    {
     "data": {
      "text/html": [
       "<div>\n",
       "<style scoped>\n",
       "    .dataframe tbody tr th:only-of-type {\n",
       "        vertical-align: middle;\n",
       "    }\n",
       "\n",
       "    .dataframe tbody tr th {\n",
       "        vertical-align: top;\n",
       "    }\n",
       "\n",
       "    .dataframe thead th {\n",
       "        text-align: right;\n",
       "    }\n",
       "</style>\n",
       "<table border=\"1\" class=\"dataframe\">\n",
       "  <thead>\n",
       "    <tr style=\"text-align: right;\">\n",
       "      <th></th>\n",
       "      <th>開盤價</th>\n",
       "      <th>最高價</th>\n",
       "      <th>最低價</th>\n",
       "      <th>收盤價</th>\n",
       "      <th>成交量</th>\n",
       "      <th>K(9,3)</th>\n",
       "      <th>D(9,3)</th>\n",
       "    </tr>\n",
       "  </thead>\n",
       "  <tbody>\n",
       "    <tr>\n",
       "      <th>0</th>\n",
       "      <td>15437</td>\n",
       "      <td>15437</td>\n",
       "      <td>15422</td>\n",
       "      <td>15429</td>\n",
       "      <td>1222</td>\n",
       "      <td>0.6350</td>\n",
       "      <td>0.7391</td>\n",
       "    </tr>\n",
       "    <tr>\n",
       "      <th>1</th>\n",
       "      <td>15428</td>\n",
       "      <td>15431</td>\n",
       "      <td>15417</td>\n",
       "      <td>15425</td>\n",
       "      <td>1311</td>\n",
       "      <td>0.6351</td>\n",
       "      <td>0.7044</td>\n",
       "    </tr>\n",
       "    <tr>\n",
       "      <th>2</th>\n",
       "      <td>15426</td>\n",
       "      <td>15439</td>\n",
       "      <td>15426</td>\n",
       "      <td>15436</td>\n",
       "      <td>759</td>\n",
       "      <td>0.6734</td>\n",
       "      <td>0.6941</td>\n",
       "    </tr>\n",
       "    <tr>\n",
       "      <th>3</th>\n",
       "      <td>15436</td>\n",
       "      <td>15445</td>\n",
       "      <td>15427</td>\n",
       "      <td>15436</td>\n",
       "      <td>1350</td>\n",
       "      <td>0.6190</td>\n",
       "      <td>0.6691</td>\n",
       "    </tr>\n",
       "    <tr>\n",
       "      <th>4</th>\n",
       "      <td>15435</td>\n",
       "      <td>15474</td>\n",
       "      <td>15428</td>\n",
       "      <td>15461</td>\n",
       "      <td>4660</td>\n",
       "      <td>0.6772</td>\n",
       "      <td>0.6718</td>\n",
       "    </tr>\n",
       "  </tbody>\n",
       "</table>\n",
       "</div>"
      ],
      "text/plain": [
       "     開盤價    最高價    最低價    收盤價   成交量  K(9,3)  D(9,3)\n",
       "0  15437  15437  15422  15429  1222  0.6350  0.7391\n",
       "1  15428  15431  15417  15425  1311  0.6351  0.7044\n",
       "2  15426  15439  15426  15436   759  0.6734  0.6941\n",
       "3  15436  15445  15427  15436  1350  0.6190  0.6691\n",
       "4  15435  15474  15428  15461  4660  0.6772  0.6718"
      ]
     },
     "execution_count": 74,
     "metadata": {},
     "output_type": "execute_result"
    }
   ],
   "source": [
    "import pandas as pd\n",
    "\n",
    "data = pd.read_excel(\"option test.xlsx\")\n",
    "df = data.iloc[:, [2,3,4,5,-3,-2,-1]]\n",
    "\n",
    "# ======================================\n",
    "dfOpen = df['開盤價']\n",
    "dfClose = df['收盤價']\n",
    "dfHigh = df['最高價']\n",
    "dfLow = df['最低價']\n",
    "dfVolume = df['成交量']\n",
    "dfK = df['K(9,3)']\n",
    "dfD = df['D(9,3)']\n",
    "# ======================================\n",
    "df.head()"
   ]
  },
  {
   "cell_type": "code",
   "execution_count": 24,
   "metadata": {},
   "outputs": [
    {
     "name": "stdout",
     "output_type": "stream",
     "text": [
      "#===========================\n",
      "Open Mean: 15462.920454545454\n",
      "Open Median: 15462.920454545454\n",
      "#===========================\n",
      "Close Mean: 15463.022727272728\n",
      "Close Median: 15442.0\n",
      "#===========================\n",
      "High Mean: 15484.40909090909\n",
      "High Median: 15470.0\n",
      "#===========================\n",
      "Low Mean: 15440.681818181818\n",
      "Low Median: 15428.5\n",
      "#===========================\n",
      "Volume Mean: 6245.022727272727\n",
      "Volume Median: 3388.5\n"
     ]
    }
   ],
   "source": [
    "# mean, median\n",
    "import numpy as np\n",
    "from scipy import stats\n",
    "\n",
    "print('#===========================')\n",
    "value1 = np.mean(dfOpen)\n",
    "value2 = np.median(dfOpen)\n",
    "print(\"Open Mean:\", value1)\n",
    "print(\"Open Median:\", value1)\n",
    "print('#===========================')\n",
    "\n",
    "value3 = np.mean(dfClose)\n",
    "value4 = np.median(dfClose)\n",
    "print(\"Close Mean:\", value3)\n",
    "print(\"Close Median:\", value4)\n",
    "print('#===========================')\n",
    "\n",
    "value5 = np.mean(dfHigh)\n",
    "value6 = np.median(dfHigh)\n",
    "print(\"High Mean:\", value5)\n",
    "print(\"High Median:\", value6)\n",
    "print('#===========================')\n",
    "\n",
    "value7 = np.mean(dfLow)\n",
    "value8 = np.median(dfLow)\n",
    "print(\"Low Mean:\", value7)\n",
    "print(\"Low Median:\", value8)\n",
    "print('#===========================')\n",
    "\n",
    "value9 = np.mean(dfVolume)\n",
    "value10 = np.median(dfVolume)\n",
    "print(\"Volume Mean:\", value9)\n",
    "print(\"Volume Median:\", value10)\n"
   ]
  },
  {
   "cell_type": "code",
   "execution_count": 25,
   "metadata": {},
   "outputs": [
    {
     "name": "stdout",
     "output_type": "stream",
     "text": [
      "114.12196641302326 113.99591073932983 113.69063249606528 112.49015567580544 6119.30277329874\n"
     ]
    }
   ],
   "source": [
    "# Standard Deviation\n",
    "import numpy as np\n",
    "\n",
    "a = np.std(dfOpen)\n",
    "b = np.std(dfClose)\n",
    "c = np.std(dfHigh)\n",
    "d = np.std(dfLow)\n",
    "e = np.std(dfVolume)\n",
    "\n",
    "print(a, b, c, d, e)"
   ]
  },
  {
   "cell_type": "code",
   "execution_count": 28,
   "metadata": {},
   "outputs": [
    {
     "name": "stdout",
     "output_type": "stream",
     "text": [
      "15447.0 15442.0 15470.0 15428.5 3388.5\n"
     ]
    }
   ],
   "source": [
    "# Percentile\n",
    "import numpy as np\n",
    "\n",
    "a = np.percentile(dfOpen,50)\n",
    "b = np.percentile(dfClose,50)\n",
    "c = np.percentile(dfHigh,50)\n",
    "d = np.percentile(dfLow,50)\n",
    "e = np.percentile(dfVolume,50)\n",
    "\n",
    "print(a, b, c, d, e)"
   ]
  },
  {
   "cell_type": "code",
   "execution_count": 35,
   "metadata": {},
   "outputs": [
    {
     "data": {
      "image/png": "[encoded data removed]",
      "text/plain": [
       "<Figure size 640x480 with 1 Axes>"
      ]
     },
     "metadata": {},
     "output_type": "display_data"
    }
   ],
   "source": [
    "import matplotlib.pyplot as plt\n",
    "\n",
    "x = dfVolume\n",
    "y = dfClose\n",
    "\n",
    "plt.scatter(x, y)\n",
    "plt.show()"
   ]
  },
  {
   "cell_type": "code",
   "execution_count": 36,
   "metadata": {},
   "outputs": [
    {
     "data": {
      "image/png": "[encoded data removed]",
      "text/plain": [
       "<Figure size 640x480 with 1 Axes>"
      ]
     },
     "metadata": {},
     "output_type": "display_data"
    }
   ],
   "source": [
    "import matplotlib.pyplot as plt\n",
    "\n",
    "x = dfClose\n",
    "y = dfVolume\n",
    "\n",
    "plt.scatter(x, y)\n",
    "plt.show()"
   ]
  },
  {
   "cell_type": "code",
   "execution_count": 70,
   "metadata": {},
   "outputs": [
    {
     "name": "stdout",
     "output_type": "stream",
     "text": [
      "0.0659564969756109\n",
      "9\n"
     ]
    },
    {
     "data": {
      "image/png": "[encoded data removed]",
      "text/plain": [
       "<Figure size 640x480 with 1 Axes>"
      ]
     },
     "metadata": {},
     "output_type": "display_data"
    }
   ],
   "source": [
    "# Polynomial Regression\n",
    "\n",
    "import numpy as np\n",
    "import matplotlib.pyplot as plt\n",
    "from sklearn.metrics import r2_score\n",
    "\n",
    "x = dfVolume\n",
    "y = dfClose\n",
    "z = len(dfVolume)\n",
    "o = max(dfVolume)\n",
    "\n",
    "# Find Best Coefficient ======================================\n",
    "highScore = []\n",
    "for i in range(0,10):\n",
    "    mymodel_HighScore = np.poly1d(np.polyfit(x, y, i))\n",
    "    getPoint = r2_score(y, mymodel_HighScore(x))\n",
    "    highScore.append(getPoint)\n",
    "\n",
    "list_a_max_list = max(highScore) #返回最大值\n",
    "max_index = highScore.index(max(highScore)) # 返回最大值的索引 \n",
    "print(list_a_max_list)\n",
    "print(max_index)\n",
    "# ===========================================================\n",
    "\n",
    "mymodel = np.poly1d(np.polyfit(x, y, max_index))\n",
    "myline = np.linspace(1,o,z)\n",
    "\n",
    "plt.scatter(x,y)\n",
    "plt.plot(myline,mymodel(myline))\n",
    "plt.show()"
   ]
  },
  {
   "attachments": {},
   "cell_type": "markdown",
   "metadata": {},
   "source": [
    "## Multiple Regression"
   ]
  },
  {
   "cell_type": "code",
   "execution_count": 1,
   "metadata": {},
   "outputs": [
    {
     "data": {
      "text/html": [
       "<div>\n",
       "<style scoped>\n",
       "    .dataframe tbody tr th:only-of-type {\n",
       "        vertical-align: middle;\n",
       "    }\n",
       "\n",
       "    .dataframe tbody tr th {\n",
       "        vertical-align: top;\n",
       "    }\n",
       "\n",
       "    .dataframe thead th {\n",
       "        text-align: right;\n",
       "    }\n",
       "</style>\n",
       "<table border=\"1\" class=\"dataframe\">\n",
       "  <thead>\n",
       "    <tr style=\"text-align: right;\">\n",
       "      <th></th>\n",
       "      <th>開盤價</th>\n",
       "      <th>最高價</th>\n",
       "      <th>最低價</th>\n",
       "      <th>收盤價</th>\n",
       "      <th>成交量</th>\n",
       "      <th>K(9,3)</th>\n",
       "      <th>D(9,3)</th>\n",
       "    </tr>\n",
       "  </thead>\n",
       "  <tbody>\n",
       "    <tr>\n",
       "      <th>0</th>\n",
       "      <td>14471</td>\n",
       "      <td>14541</td>\n",
       "      <td>14411</td>\n",
       "      <td>14532</td>\n",
       "      <td>28036</td>\n",
       "      <td>0.3271</td>\n",
       "      <td>0.2053</td>\n",
       "    </tr>\n",
       "    <tr>\n",
       "      <th>1</th>\n",
       "      <td>14530</td>\n",
       "      <td>14550</td>\n",
       "      <td>14503</td>\n",
       "      <td>14521</td>\n",
       "      <td>13735</td>\n",
       "      <td>0.4833</td>\n",
       "      <td>0.2980</td>\n",
       "    </tr>\n",
       "    <tr>\n",
       "      <th>2</th>\n",
       "      <td>14522</td>\n",
       "      <td>14529</td>\n",
       "      <td>14476</td>\n",
       "      <td>14483</td>\n",
       "      <td>9132</td>\n",
       "      <td>0.4983</td>\n",
       "      <td>0.3647</td>\n",
       "    </tr>\n",
       "    <tr>\n",
       "      <th>3</th>\n",
       "      <td>14482</td>\n",
       "      <td>14490</td>\n",
       "      <td>14436</td>\n",
       "      <td>14461</td>\n",
       "      <td>21187</td>\n",
       "      <td>0.4566</td>\n",
       "      <td>0.3954</td>\n",
       "    </tr>\n",
       "    <tr>\n",
       "      <th>4</th>\n",
       "      <td>14485</td>\n",
       "      <td>14512</td>\n",
       "      <td>14457</td>\n",
       "      <td>14457</td>\n",
       "      <td>5175</td>\n",
       "      <td>0.4194</td>\n",
       "      <td>0.4034</td>\n",
       "    </tr>\n",
       "  </tbody>\n",
       "</table>\n",
       "</div>"
      ],
      "text/plain": [
       "     開盤價    最高價    最低價    收盤價    成交量  K(9,3)  D(9,3)\n",
       "0  14471  14541  14411  14532  28036  0.3271  0.2053\n",
       "1  14530  14550  14503  14521  13735  0.4833  0.2980\n",
       "2  14522  14529  14476  14483   9132  0.4983  0.3647\n",
       "3  14482  14490  14436  14461  21187  0.4566  0.3954\n",
       "4  14485  14512  14457  14457   5175  0.4194  0.4034"
      ]
     },
     "execution_count": 1,
     "metadata": {},
     "output_type": "execute_result"
    }
   ],
   "source": [
    "import pandas as pd\n",
    "\n",
    "data = pd.read_excel(\"option20230207.xlsx\")\n",
    "df = data.iloc[:, [2,3,4,5,-3,-2,-1]]\n",
    "\n",
    "df.head()"
   ]
  },
  {
   "cell_type": "code",
   "execution_count": 3,
   "metadata": {},
   "outputs": [
    {
     "name": "stdout",
     "output_type": "stream",
     "text": [
      "[15632.79550815]\n",
      "[15603.79097379]\n"
     ]
    },
    {
     "name": "stderr",
     "output_type": "stream",
     "text": [
      "c:\\Users\\PAN\\anaconda3\\lib\\site-packages\\sklearn\\base.py:450: UserWarning: X does not have valid feature names, but LinearRegression was fitted with feature names\n",
      "  warnings.warn(\n",
      "c:\\Users\\PAN\\anaconda3\\lib\\site-packages\\sklearn\\base.py:566: FutureWarning: Arrays of bytes/strings is being converted to decimal numbers if dtype='numeric'. This behavior is deprecated in 0.24 and will be removed in 1.1 (renaming of 0.26). Please convert your data to numeric values explicitly instead.\n",
      "  X = check_array(X, **check_params)\n",
      "c:\\Users\\PAN\\anaconda3\\lib\\site-packages\\sklearn\\base.py:450: UserWarning: X does not have valid feature names, but LinearRegression was fitted with feature names\n",
      "  warnings.warn(\n",
      "c:\\Users\\PAN\\anaconda3\\lib\\site-packages\\sklearn\\base.py:566: FutureWarning: Arrays of bytes/strings is being converted to decimal numbers if dtype='numeric'. This behavior is deprecated in 0.24 and will be removed in 1.1 (renaming of 0.26). Please convert your data to numeric values explicitly instead.\n",
      "  X = check_array(X, **check_params)\n"
     ]
    }
   ],
   "source": [
    "import pandas as pd\n",
    "\n",
    "data = pd.read_excel(\"option20230208.xlsx\")\n",
    "df = data.iloc[:, [2,3,4,5,-3,-2,-1]]\n",
    "\n",
    "X = df[['最低價','K(9,3)']]\n",
    "Z = df[['最高價','K(9,3)']]\n",
    "y = df['收盤價']\n",
    "\n",
    "from sklearn import linear_model\n",
    "\n",
    "regr = linear_model.LinearRegression()\n",
    "regr.fit(X,y)\n",
    "regr2 = linear_model.LinearRegression()\n",
    "regr2.fit(Z,y)\n",
    "\n",
    "\n",
    "k = int(input('請輸入K值'))\n",
    "k = k/10000\n",
    "# 最高價\n",
    "value2 = input('請輸入最高價')\n",
    "# 最低價\n",
    "value1 = input('請輸入最低價')\n",
    "\n",
    "\n",
    "predictedClose = regr.predict([[value2, k]])\n",
    "predictedClose2 = regr.predict([[value1, k]])\n",
    "print(predictedClose)\n",
    "print(predictedClose2)\n",
    "# print(regr.coef_)\n"
   ]
  },
  {
   "cell_type": "code",
   "execution_count": 30,
   "metadata": {},
   "outputs": [
    {
     "name": "stdout",
     "output_type": "stream",
     "text": [
      "[15413.30611635]\n"
     ]
    },
    {
     "name": "stderr",
     "output_type": "stream",
     "text": [
      "c:\\Users\\PAN\\anaconda3\\lib\\site-packages\\sklearn\\base.py:450: UserWarning: X does not have valid feature names, but LinearRegression was fitted with feature names\n",
      "  warnings.warn(\n",
      "c:\\Users\\PAN\\anaconda3\\lib\\site-packages\\sklearn\\base.py:566: FutureWarning: Arrays of bytes/strings is being converted to decimal numbers if dtype='numeric'. This behavior is deprecated in 0.24 and will be removed in 1.1 (renaming of 0.26). Please convert your data to numeric values explicitly instead.\n",
      "  X = check_array(X, **check_params)\n"
     ]
    }
   ],
   "source": [
    "X = df[['開盤價','收盤價']]\n",
    "y = df['最高價']\n",
    "\n",
    "from sklearn import linear_model\n",
    "\n",
    "regr = linear_model.LinearRegression()\n",
    "regr.fit(X,y)\n",
    "\n",
    "# 開盤價\n",
    "value1 = input()\n",
    "# 收盤價\n",
    "value2 = input()\n",
    "predictedClose = regr.predict([[value1, value2]])\n",
    "print(predictedClose)\n",
    "# print(regr.coef_)\n"
   ]
  }
 ],
 "metadata": {
  "kernelspec": {
   "display_name": "base",
   "language": "python",
   "name": "python3"
  },
  "language_info": {
   "codemirror_mode": {
    "name": "ipython",
    "version": 3
   },
   "file_extension": ".py",
   "mimetype": "text/x-python",
   "name": "python",
   "nbconvert_exporter": "python",
   "pygments_lexer": "ipython3",
   "version": "3.9.13"
  },
  "orig_nbformat": 4,
  "vscode": {
   "interpreter": {
    "hash": "e06c6dea1d58ab172c9060eb008467b5a6e5b460c4e8372b00ecf0425e80488b"
   }
  }
 },
 "nbformat": 4,
 "nbformat_minor": 2
}

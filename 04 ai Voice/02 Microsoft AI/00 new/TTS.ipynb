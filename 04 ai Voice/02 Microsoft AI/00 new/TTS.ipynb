{
 "cells": [
  {
   "cell_type": "code",
   "execution_count": null,
   "metadata": {},
   "outputs": [],
   "source": [
    "import os\n",
    "import requests\n",
    "\n",
    "# 设置 Azure Text-to-Speech API 的密钥和位置\n",
    "subscription_key = 'your_subscription_key'\n",
    "region = 'your_region'\n",
    "\n",
    "# 设置 SSML 文本\n",
    "ssml_text = \"\"\"\n",
    "<speak version='1.0' xmlns='http://www.w3.org/2001/10/synthesis' xml:lang='en-US'>\n",
    "  <voice name='en-US-AriaNeural'>\n",
    "    Hello, this is a sample SSML text-to-speech conversion using Microsoft Azure.\n",
    "  </voice>\n",
    "</speak>\n",
    "\"\"\"\n",
    "\n",
    "# 设置 API 调用参数\n",
    "params = {\n",
    "    'language': 'en-US',\n",
    "    'voice': 'en-US-AriaNeural',\n",
    "    'format': 'audio-24khz-48kbitrate-mono-mp3',\n",
    "    'ssml': ssml_text\n",
    "}\n",
    "\n",
    "# 设置 API 调用 URL\n",
    "url = f'https://{region}.tts.speech.microsoft.com/cognitiveservices/v1'\n",
    "\n",
    "# 发送 API 请求并获取响应\n",
    "response = requests.post(url, headers={\n",
    "    'Authorization': f'Bearer {subscription_key}',\n",
    "    'Content-Type': 'application/ssml+xml'\n",
    "}, params=params)\n",
    "\n",
    "# 将响应保存为 MP3 文件\n",
    "if response.status_code == 200:\n",
    "    with open('output.mp3', 'wb') as f:\n",
    "        f.write(response.content)\n",
    "        print('Text-to-speech conversion successful.')\n",
    "else:\n",
    "    print('Error occurred: ' + response.text)\n"
   ]
  }
 ],
 "metadata": {
  "language_info": {
   "name": "python"
  },
  "orig_nbformat": 4
 },
 "nbformat": 4,
 "nbformat_minor": 2
}

{
 "cells": [
  {
   "cell_type": "code",
   "execution_count": 1,
   "metadata": {},
   "outputs": [],
   "source": [
    "import tkinter as tk\n",
    "from tkinter import ttk\n",
    "\n",
    "class MyTable:\n",
    "    def __init__(self, data, parent):\n",
    "        self.parent = parent\n",
    "        self.table = ttk.Treeview(parent, columns=list(data.keys()), show=\"headings\")\n",
    "        self.table.pack()\n",
    "        self.setData(data)\n",
    "\n",
    "    def setData(self, data):\n",
    "        horHeaders = []\n",
    "        for key in sorted(data.keys()):\n",
    "            horHeaders.append(key)\n",
    "            self.table.heading(key, text=key)\n",
    "            self.table.column(key, width=100)\n",
    "        for i, rowdata in enumerate(zip(*data.values())):\n",
    "            self.table.insert(\"\", \"end\", text=i, values=rowdata)\n",
    "\n",
    "if __name__ == '__main__':\n",
    "    data = {'A': ['1', '2', '3'], 'B': ['4', '5', '6'], 'C': ['7', '8', '9']}\n",
    "    root = tk.Tk()\n",
    "    mytable = MyTable(data, root)\n",
    "    root.mainloop()\n"
   ]
  },
  {
   "cell_type": "code",
   "execution_count": 1,
   "metadata": {},
   "outputs": [
    {
     "ename": "SystemExit",
     "evalue": "0",
     "output_type": "error",
     "traceback": [
      "An exception has occurred, use %tb to see the full traceback.\n",
      "\u001b[1;31mSystemExit\u001b[0m\u001b[1;31m:\u001b[0m 0\n"
     ]
    },
    {
     "name": "stderr",
     "output_type": "stream",
     "text": [
      "c:\\Users\\PAN\\anaconda3\\lib\\site-packages\\IPython\\core\\interactiveshell.py:3465: UserWarning: To exit: use 'exit', 'quit', or Ctrl-D.\n",
      "  warn(\"To exit: use 'exit', 'quit', or Ctrl-D.\", stacklevel=1)\n"
     ]
    }
   ],
   "source": [
    "import sys\n",
    "from PyQt5.QtWidgets import QApplication, QMainWindow, QTableWidget, QTableWidgetItem\n",
    "\n",
    "class MyTable(QTableWidget):\n",
    "    def __init__(self, data, *args):\n",
    "        QTableWidget.__init__(self, *args)\n",
    "        self.data = data\n",
    "        self.setData()\n",
    "\n",
    "    def setData(self):\n",
    "        horHeaders = []\n",
    "        for n, key in enumerate(sorted(self.data.keys())):\n",
    "            horHeaders.append(key)\n",
    "            for m, item in enumerate(self.data[key]):\n",
    "                newitem = QTableWidgetItem(item)\n",
    "                self.setItem(m, n, newitem)\n",
    "        self.setHorizontalHeaderLabels(horHeaders)\n",
    "\n",
    "class MyWindow(QMainWindow):\n",
    "    def __init__(self, data, *args):\n",
    "        QMainWindow.__init__(self, *args)\n",
    "        self.table = MyTable(data, 5, len(data))\n",
    "        self.setCentralWidget(self.table)\n",
    "\n",
    "if __name__ == '__main__':\n",
    "    app = QApplication(sys.argv)\n",
    "    data = {'A': ['1', '2', '3'], 'B': ['4', '5', '6'], 'C': ['7', '8', '9']}\n",
    "    window = MyWindow(data)\n",
    "    window.show()\n",
    "    sys.exit(app.exec_())\n"
   ]
  }
 ],
 "metadata": {
  "kernelspec": {
   "display_name": "base",
   "language": "python",
   "name": "python3"
  },
  "language_info": {
   "codemirror_mode": {
    "name": "ipython",
    "version": 3
   },
   "file_extension": ".py",
   "mimetype": "text/x-python",
   "name": "python",
   "nbconvert_exporter": "python",
   "pygments_lexer": "ipython3",
   "version": "3.9.13"
  },
  "orig_nbformat": 4
 },
 "nbformat": 4,
 "nbformat_minor": 2
}
